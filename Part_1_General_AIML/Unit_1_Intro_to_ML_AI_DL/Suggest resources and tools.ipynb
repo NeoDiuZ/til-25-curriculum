{
 "cells": [
  {
   "cell_type": "markdown",
   "metadata": {},
   "source": [
    "\n",
    "---\n",
    "\n",
    "# 3. 📖 **Suggested Resources and Tools**\n",
    "\n",
    "---\n",
    "\n",
    "This notebook contains curated resources and tips for becoming a better ML engineer.\n",
    "\n",
    "---\n",
    "\n",
    "## 1. Official Documentation\n",
    "\n",
    "- [scikit-learn Documentation](https://scikit-learn.org/stable/)\n",
    "- [PyTorch Documentation](https://pytorch.org/)\n",
    "- [TensorFlow Documentation](https://www.tensorflow.org/)\n",
    "- [HuggingFace Documentation](https://huggingface.co/docs)\n",
    "\n",
    "---\n",
    "\n",
    "## 2. Best Learning Courses\n",
    "\n",
    "- [Fast.ai - Practical Deep Learning for Coders](https://course.fast.ai/)\n",
    "- [DeepLearning.AI - Deep Learning Specialization](https://www.deeplearning.ai/program/deep-learning-specialization/)\n",
    "- [HuggingFace Course - Learn Transformers](https://huggingface.co/course)\n",
    "\n",
    "---\n",
    "\n",
    "## 3. Essential Tools\n",
    "\n",
    "- **VSCode** with Python/Jupyter extensions\n",
    "- **Google Colab** (free GPU runtime)\n",
    "- **Docker** for reproducible environments\n",
    "- **GitHub Copilot** to accelerate coding\n",
    "\n",
    "---\n",
    "\n",
    "## 4. Pro Productivity Tips\n",
    "\n",
    "- Track your experiments from day one.\n",
    "- Use version control (Git, GitHub) always.\n",
    "- Build small projects regularly.\n",
    "- Follow trending ML repositories on GitHub.\n",
    "- Always verify content from blogs and YouTube tutorials."
   ]
  }
 ],
 "metadata": {
  "language_info": {
   "name": "python"
  }
 },
 "nbformat": 4,
 "nbformat_minor": 2
}
