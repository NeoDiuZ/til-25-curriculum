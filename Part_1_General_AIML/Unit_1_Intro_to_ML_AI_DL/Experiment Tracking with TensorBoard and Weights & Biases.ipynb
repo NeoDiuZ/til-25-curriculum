{
 "cells": [
  {
   "cell_type": "markdown",
   "id": "08da7eb3",
   "metadata": {},
   "source": [
    "# 📚 Experiment Tracking with TensorBoard and Weights & Biases (W&B)\n",
    "\n",
    "In this notebook, we'll learn:\n",
    "- Why experiment tracking matters\n",
    "- How to use **TensorBoard** for local tracking\n",
    "- How to use **Weights & Biases (W&B)** for cloud tracking\n",
    "\n",
    "---\n",
    "\n",
    "## 🛠 1. Installation Instructions\n",
    "\n",
    "Install the following libraries before running the code:\n",
    "\n",
    "```bash\n",
    "pip install tensorflow torch tensorboard wandb\n"
   ]
  },
  {
   "cell_type": "markdown",
   "id": "eaab98cb",
   "metadata": {},
   "source": [
    "## Why Track Experiments?\n",
    "- Compare different models and hyperparameters\n",
    "\n",
    "- Find out which setups give the best performance\n",
    "\n",
    "- Ensure reproducibility of results\n",
    "\n",
    "- Collaborate and document your work"
   ]
  },
  {
   "cell_type": "markdown",
   "id": "2310e7b7",
   "metadata": {},
   "source": [
    "# 2. TensorBoard with TensorFlow"
   ]
  },
  {
   "cell_type": "code",
   "execution_count": 19,
   "id": "25257886",
   "metadata": {},
   "outputs": [
    {
     "name": "stdout",
     "output_type": "stream",
     "text": [
      "Epoch 1/5\n",
      "\u001b[1m1875/1875\u001b[0m \u001b[32m━━━━━━━━━━━━━━━━━━━━\u001b[0m\u001b[37m\u001b[0m \u001b[1m3s\u001b[0m 1ms/step - accuracy: 0.2382 - loss: 2.4960 - val_accuracy: 0.2354 - val_loss: 2.3026\n",
      "Epoch 2/5\n",
      "\u001b[1m1875/1875\u001b[0m \u001b[32m━━━━━━━━━━━━━━━━━━━━\u001b[0m\u001b[37m\u001b[0m \u001b[1m2s\u001b[0m 1ms/step - accuracy: 0.2321 - loss: 2.3024 - val_accuracy: 0.2370 - val_loss: 2.3026\n",
      "Epoch 3/5\n",
      "\u001b[1m1875/1875\u001b[0m \u001b[32m━━━━━━━━━━━━━━━━━━━━\u001b[0m\u001b[37m\u001b[0m \u001b[1m2s\u001b[0m 1ms/step - accuracy: 0.2364 - loss: 2.3024 - val_accuracy: 0.2370 - val_loss: 2.3026\n",
      "Epoch 4/5\n",
      "\u001b[1m1875/1875\u001b[0m \u001b[32m━━━━━━━━━━━━━━━━━━━━\u001b[0m\u001b[37m\u001b[0m \u001b[1m2s\u001b[0m 895us/step - accuracy: 0.2365 - loss: 2.3024 - val_accuracy: 0.2371 - val_loss: 2.3026\n",
      "Epoch 5/5\n",
      "\u001b[1m1875/1875\u001b[0m \u001b[32m━━━━━━━━━━━━━━━━━━━━\u001b[0m\u001b[37m\u001b[0m \u001b[1m2s\u001b[0m 1ms/step - accuracy: 0.2341 - loss: 2.3024 - val_accuracy: 0.2371 - val_loss: 2.3026\n"
     ]
    },
    {
     "data": {
      "text/plain": [
       "<keras.src.callbacks.history.History at 0x36b715ee0>"
      ]
     },
     "execution_count": 19,
     "metadata": {},
     "output_type": "execute_result"
    }
   ],
   "source": [
    "import tensorflow as tf\n",
    "\n",
    "(X_train, y_train), (X_test, y_test) = tf.keras.datasets.mnist.load_data()\n",
    "X_train, X_test = X_train / 255.0, X_test / 255.0\n",
    "\n",
    "model = tf.keras.Sequential([\n",
    "    tf.keras.layers.Flatten(input_shape=(28, 28)),\n",
    "    tf.keras.layers.Dense(128, activation='relu'),\n",
    "    tf.keras.layers.Dense(10)\n",
    "])\n",
    "\n",
    "model.compile(optimizer='adam',\n",
    "              loss='sparse_categorical_crossentropy',\n",
    "              metrics=['accuracy'])\n",
    "\n",
    "log_dir = \"logs/fit\"\n",
    "tensorboard_callback = tf.keras.callbacks.TensorBoard(log_dir=log_dir)\n",
    "\n",
    "model.fit(X_train, y_train, epochs=5, validation_data=(X_test, y_test), callbacks=[tensorboard_callback])\n"
   ]
  },
  {
   "cell_type": "markdown",
   "id": "45ab9d22",
   "metadata": {},
   "source": [
    "## After training, run this command in the terminal to launch TensorBoard:\n",
    "\n",
    "```bash\n",
    "tensorboard --logdir=logs/fit\n"
   ]
  },
  {
   "cell_type": "markdown",
   "id": "a5ca2239",
   "metadata": {},
   "source": [
    "# 3. Weights & Biases (W&B) Logging"
   ]
  },
  {
   "cell_type": "code",
   "execution_count": 20,
   "id": "baa6b212",
   "metadata": {},
   "outputs": [
    {
     "data": {
      "text/html": [
       "Tracking run with wandb version 0.19.9"
      ],
      "text/plain": [
       "<IPython.core.display.HTML object>"
      ]
     },
     "metadata": {},
     "output_type": "display_data"
    },
    {
     "data": {
      "text/html": [
       "Run data is saved locally in <code>/Users/neo/Downloads/BrainHack_Practicals/wandb/run-20250419_032350-7cvtov3q</code>"
      ],
      "text/plain": [
       "<IPython.core.display.HTML object>"
      ]
     },
     "metadata": {},
     "output_type": "display_data"
    },
    {
     "data": {
      "text/html": [
       "Syncing run <strong><a href='https://wandb.ai/nhtun413-singapore-polytechnic/practical-demo/runs/7cvtov3q' target=\"_blank\">devout-lion-9</a></strong> to <a href='https://wandb.ai/nhtun413-singapore-polytechnic/practical-demo' target=\"_blank\">Weights & Biases</a> (<a href='https://wandb.me/developer-guide' target=\"_blank\">docs</a>)<br>"
      ],
      "text/plain": [
       "<IPython.core.display.HTML object>"
      ]
     },
     "metadata": {},
     "output_type": "display_data"
    },
    {
     "data": {
      "text/html": [
       " View project at <a href='https://wandb.ai/nhtun413-singapore-polytechnic/practical-demo' target=\"_blank\">https://wandb.ai/nhtun413-singapore-polytechnic/practical-demo</a>"
      ],
      "text/plain": [
       "<IPython.core.display.HTML object>"
      ]
     },
     "metadata": {},
     "output_type": "display_data"
    },
    {
     "data": {
      "text/html": [
       " View run at <a href='https://wandb.ai/nhtun413-singapore-polytechnic/practical-demo/runs/7cvtov3q' target=\"_blank\">https://wandb.ai/nhtun413-singapore-polytechnic/practical-demo/runs/7cvtov3q</a>"
      ],
      "text/plain": [
       "<IPython.core.display.HTML object>"
      ]
     },
     "metadata": {},
     "output_type": "display_data"
    },
    {
     "name": "stdout",
     "output_type": "stream",
     "text": [
      "Epoch 1/5\n",
      "\u001b[1m1875/1875\u001b[0m \u001b[32m━━━━━━━━━━━━━━━━━━━━\u001b[0m\u001b[37m\u001b[0m \u001b[1m2s\u001b[0m 1ms/step - accuracy: 0.3093 - loss: 2.6023 - val_accuracy: 0.2502 - val_loss: 2.2938\n",
      "Epoch 2/5\n",
      "\u001b[1m1875/1875\u001b[0m \u001b[32m━━━━━━━━━━━━━━━━━━━━\u001b[0m\u001b[37m\u001b[0m \u001b[1m2s\u001b[0m 967us/step - accuracy: 0.2552 - loss: 2.2863 - val_accuracy: 0.1821 - val_loss: 2.3026\n",
      "Epoch 3/5\n",
      "\u001b[1m1875/1875\u001b[0m \u001b[32m━━━━━━━━━━━━━━━━━━━━\u001b[0m\u001b[37m\u001b[0m \u001b[1m2s\u001b[0m 887us/step - accuracy: 0.1863 - loss: 2.3026 - val_accuracy: 0.1821 - val_loss: 2.3026\n",
      "Epoch 4/5\n",
      "\u001b[1m1875/1875\u001b[0m \u001b[32m━━━━━━━━━━━━━━━━━━━━\u001b[0m\u001b[37m\u001b[0m \u001b[1m2s\u001b[0m 834us/step - accuracy: 0.1847 - loss: 2.3026 - val_accuracy: 0.1821 - val_loss: 2.3026\n",
      "Epoch 5/5\n",
      "\u001b[1m1875/1875\u001b[0m \u001b[32m━━━━━━━━━━━━━━━━━━━━\u001b[0m\u001b[37m\u001b[0m \u001b[1m2s\u001b[0m 919us/step - accuracy: 0.1862 - loss: 2.3026 - val_accuracy: 0.1821 - val_loss: 2.3026\n"
     ]
    },
    {
     "data": {
      "text/plain": [
       "<keras.src.callbacks.history.History at 0x36caa88e0>"
      ]
     },
     "execution_count": 20,
     "metadata": {},
     "output_type": "execute_result"
    },
    {
     "name": "stderr",
     "output_type": "stream",
     "text": [
      "\u001b[34m\u001b[1mwandb\u001b[0m: \u001b[33mWARNING\u001b[0m Fatal error while uploading data. Some run data will not be synced, but it will still be written to disk. Use `wandb sync` at the end of the run to try uploading.\n"
     ]
    }
   ],
   "source": [
    "import tensorflow as tf\n",
    "import wandb\n",
    "from wandb.integration.keras import WandbCallback\n",
    "\n",
    "# Load data\n",
    "(X_train, y_train), (X_test, y_test) = tf.keras.datasets.mnist.load_data()\n",
    "X_train, X_test = X_train / 255.0, X_test / 255.0\n",
    "\n",
    "# Build model\n",
    "model = tf.keras.Sequential([\n",
    "    tf.keras.layers.Flatten(input_shape=(28, 28)),\n",
    "    tf.keras.layers.Dense(128, activation='relu'),\n",
    "    tf.keras.layers.Dense(10)\n",
    "])\n",
    "\n",
    "# Initialize W&B\n",
    "wandb.init(\n",
    "    project=\"practical-demo\",\n",
    "    config={\n",
    "        \"epochs\": 5,\n",
    "        \"batch_size\": 32,\n",
    "        \"learning_rate\": 0.001,\n",
    "        \"architecture\": \"Simple Sequential MNIST Model\"\n",
    "    }\n",
    ")\n",
    "\n",
    "# Compile and train with corrected W&B Callback\n",
    "model.compile(optimizer='adam',\n",
    "              loss='sparse_categorical_crossentropy',\n",
    "              metrics=['accuracy'])\n",
    "\n",
    "model.fit(X_train, y_train, epochs=5, validation_data=(X_test, y_test),\n",
    "          callbacks=[WandbCallback(save_graph=False, save_model=False)])\n"
   ]
  }
 ],
 "metadata": {
  "kernelspec": {
   "display_name": "batey",
   "language": "python",
   "name": "python3"
  },
  "language_info": {
   "codemirror_mode": {
    "name": "ipython",
    "version": 3
   },
   "file_extension": ".py",
   "mimetype": "text/x-python",
   "name": "python",
   "nbconvert_exporter": "python",
   "pygments_lexer": "ipython3",
   "version": "3.9.20"
  }
 },
 "nbformat": 4,
 "nbformat_minor": 5
}
