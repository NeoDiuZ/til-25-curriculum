{
 "cells": [
  {
   "cell_type": "markdown",
   "id": "03ad27ec",
   "metadata": {},
   "source": [
    "# 📚 Introduction to Common Machine Learning Libraries\n",
    "\n",
    "In this notebook, we will explore four important libraries for Machine Learning and Deep Learning:\n",
    "- **scikit-learn**: for classical Machine Learning models\n",
    "- **PyTorch**: flexible Deep Learning\n",
    "- **TensorFlow/Keras**: scalable Deep Learning\n",
    "- **HuggingFace Transformers**: powerful Natural Language Processing\n",
    "\n",
    "---\n",
    "## 🛠 1. Installation Instructions\n",
    "\n",
    "Before we start, install the required libraries:\n",
    "\n",
    "```bash\n",
    "pip install scikit-learn torch tensorflow tf-keras transformers\n"
   ]
  },
  {
   "cell_type": "markdown",
   "id": "4383d5b1",
   "metadata": {},
   "source": [
    "# 2. scikit-learn - Classical Machine Learning\n",
    "scikit-learn provides simple, efficient tools for traditional machine learning tasks like classification, regression, clustering.\n",
    "\n",
    "### Example: SVM on Iris Dataset"
   ]
  },
  {
   "cell_type": "code",
   "execution_count": 4,
   "id": "6b996204",
   "metadata": {},
   "outputs": [
    {
     "name": "stdout",
     "output_type": "stream",
     "text": [
      "SVM Predictions on first 5 samples: [0 0 0 0 0]\n"
     ]
    }
   ],
   "source": [
    "# Import and train a simple SVM on Iris dataset\n",
    "from sklearn import datasets, svm\n",
    "X, y = datasets.load_iris(return_X_y=True)\n",
    "clf = svm.SVC()\n",
    "clf.fit(X, y)\n",
    "print(\"SVM Predictions on first 5 samples:\", clf.predict(X[:5]))"
   ]
  },
  {
   "cell_type": "markdown",
   "id": "f77ff3f8",
   "metadata": {},
   "source": [
    "### k-Nearest Neighbors on Digits Dataset\n",
    "k-Nearest Neighbors is a lazy learning algorithm — it memorizes training data."
   ]
  },
  {
   "cell_type": "code",
   "execution_count": 5,
   "id": "f8845220",
   "metadata": {},
   "outputs": [
    {
     "name": "stdout",
     "output_type": "stream",
     "text": [
      "kNN Accuracy: 0.99\n"
     ]
    }
   ],
   "source": [
    "from sklearn.datasets import load_digits\n",
    "from sklearn.model_selection import train_test_split\n",
    "from sklearn.neighbors import KNeighborsClassifier\n",
    "\n",
    "digits = load_digits()\n",
    "X_train, X_test, y_train, y_test = train_test_split(digits.data, digits.target, random_state=42)\n",
    "knn = KNeighborsClassifier()\n",
    "knn.fit(X_train, y_train)\n",
    "print(f\"kNN Accuracy: {knn.score(X_test, y_test):.2f}\")"
   ]
  },
  {
   "cell_type": "markdown",
   "id": "5080da55",
   "metadata": {},
   "source": [
    "## 3. PyTorch - Flexible Deep Learning\n",
    "PyTorch is a deep learning framework that gives maximum flexibility with dynamic graphs.\n",
    "### Example: Simple Neural Network"
   ]
  },
  {
   "cell_type": "code",
   "execution_count": 6,
   "id": "25839a4f",
   "metadata": {},
   "outputs": [
    {
     "name": "stdout",
     "output_type": "stream",
     "text": [
      "PyTorch Model Output:\n",
      " tensor([[-0.1356,  0.1780, -0.4705],\n",
      "        [-0.0771,  0.1521, -0.4137],\n",
      "        [ 0.0413,  0.0998, -0.2990],\n",
      "        [ 0.1134,  0.0679, -0.2290],\n",
      "        [ 0.0213,  0.1086, -0.3183]], grad_fn=<AddmmBackward0>)\n"
     ]
    }
   ],
   "source": [
    "import torch\n",
    "import torch.nn as nn\n",
    "\n",
    "model = nn.Sequential(\n",
    "    nn.Linear(4, 3),\n",
    "    nn.ReLU(),\n",
    "    nn.Linear(3, 3)\n",
    ")\n",
    "\n",
    "sample_input = torch.rand(5, 4)\n",
    "output = model(sample_input)\n",
    "print(\"PyTorch Model Output:\\n\", output)"
   ]
  },
  {
   "cell_type": "markdown",
   "id": "bba8a96e",
   "metadata": {},
   "source": [
    "## 4. TensorFlow/Keras - High Level Deep Learning\n",
    "TensorFlow with Keras API allows quick and easy model building for production.\n",
    "### Example: Same Neural Network"
   ]
  },
  {
   "cell_type": "code",
   "execution_count": 7,
   "id": "c4909bd0",
   "metadata": {},
   "outputs": [
    {
     "name": "stdout",
     "output_type": "stream",
     "text": [
      "Keras Model Output:\n",
      " tf.Tensor(\n",
      "[[-0.09862874  0.04957953 -0.09598392]\n",
      " [-0.60820967  0.15008797 -0.6064325 ]\n",
      " [-0.25682634  0.06337707 -0.25607592]\n",
      " [-0.6959785   0.1717467  -0.6939449 ]\n",
      " [-0.51550037  0.1272101  -0.5139941 ]], shape=(5, 3), dtype=float32)\n"
     ]
    },
    {
     "name": "stderr",
     "output_type": "stream",
     "text": [
      "/opt/anaconda3/envs/batey/lib/python3.9/site-packages/keras/src/layers/core/dense.py:87: UserWarning: Do not pass an `input_shape`/`input_dim` argument to a layer. When using Sequential models, prefer using an `Input(shape)` object as the first layer in the model instead.\n",
      "  super().__init__(activity_regularizer=activity_regularizer, **kwargs)\n"
     ]
    }
   ],
   "source": [
    "from tensorflow import keras\n",
    "\n",
    "keras_model = keras.Sequential([\n",
    "    keras.layers.Dense(3, input_shape=(4,), activation='relu'),\n",
    "    keras.layers.Dense(3)\n",
    "])\n",
    "\n",
    "keras_output = keras_model(keras.backend.random_uniform((5, 4)))\n",
    "print(\"Keras Model Output:\\n\", keras_output)"
   ]
  },
  {
   "cell_type": "markdown",
   "id": "7db1452f",
   "metadata": {},
   "source": [
    "## 5. HuggingFace Transformers - Pretrained NLP Models\n",
    "HuggingFace provides access to thousands of powerful pretrained models for text, vision, and more.\n",
    "### Example: Sentiment Analysis"
   ]
  },
  {
   "cell_type": "code",
   "execution_count": 8,
   "id": "e81074a1",
   "metadata": {},
   "outputs": [
    {
     "name": "stderr",
     "output_type": "stream",
     "text": [
      "No model was supplied, defaulted to distilbert/distilbert-base-uncased-finetuned-sst-2-english and revision 714eb0f (https://huggingface.co/distilbert/distilbert-base-uncased-finetuned-sst-2-english).\n",
      "Using a pipeline without specifying a model name and revision in production is not recommended.\n",
      "Device set to use mps:0\n"
     ]
    },
    {
     "name": "stdout",
     "output_type": "stream",
     "text": [
      "Sentiment Analysis Result: [{'label': 'POSITIVE', 'score': 0.9995645880699158}]\n"
     ]
    }
   ],
   "source": [
    "from transformers import pipeline\n",
    "\n",
    "classifier = pipeline('sentiment-analysis')\n",
    "result = classifier(\"I love studying Machine Learning!\")\n",
    "print(\"Sentiment Analysis Result:\", result)"
   ]
  }
 ],
 "metadata": {
  "kernelspec": {
   "display_name": "batey",
   "language": "python",
   "name": "python3"
  },
  "language_info": {
   "codemirror_mode": {
    "name": "ipython",
    "version": 3
   },
   "file_extension": ".py",
   "mimetype": "text/x-python",
   "name": "python",
   "nbconvert_exporter": "python",
   "pygments_lexer": "ipython3",
   "version": "3.9.20"
  }
 },
 "nbformat": 4,
 "nbformat_minor": 5
}
