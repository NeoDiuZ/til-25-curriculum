{
 "cells": [
  {
   "cell_type": "markdown",
   "metadata": {
    "id": "1YYBe0EScJ15"
   },
   "source": [
    "### Training with Pretrained Models\n",
    "\n",
    "In this tutorial, we will explore ASR training with pretrained models. Pretrained models are a shortcut to training high accuracy models even with limited data or compute resources.\n",
    "\n",
    "These models have been trained on large-scale audio-text datasets—often consisting of thousands of hours of transcribed speech—by major research groups or organizations. As a result, they have already learned rich acoustic and linguistic representations. By starting from a pretrained model, we can fine-tune it on a smaller, domain-specific dataset (such as customer service calls, lecture recordings, or podcasts), allowing it to adapt to the new data much faster and with better performance than training from scratch.\n",
    "\n",
    "This approach is a form of transfer learning, where the pretrained model transfers general knowledge (e.g., how speech sounds map to words) to a specific downstream task or domain."
   ]
  },
  {
   "cell_type": "markdown",
   "metadata": {
    "id": "2yiV6QJveyP8"
   },
   "source": [
    "### Dependencies"
   ]
  },
  {
   "cell_type": "code",
   "execution_count": null,
   "metadata": {
    "colab": {
     "base_uri": "https://localhost:8080/"
    },
    "collapsed": true,
    "executionInfo": {
     "elapsed": 112920,
     "status": "ok",
     "timestamp": 1746336554549,
     "user": {
      "displayName": "Warren Low",
      "userId": "03832505700203327791"
     },
     "user_tz": -480
    },
    "id": "LhBCRJGgpi1n",
    "outputId": "ef20d338-fbd8-4c9a-b272-9f528998cfcb"
   },
   "outputs": [],
   "source": [
    "!pip install datasets accelerate librosa evaluate jiwer speechbrain"
   ]
  },
  {
   "cell_type": "markdown",
   "metadata": {
    "id": "eORyR3NEe0PL"
   },
   "source": [
    "### Import libraries"
   ]
  },
  {
   "cell_type": "code",
   "execution_count": 3,
   "metadata": {
    "executionInfo": {
     "elapsed": 26462,
     "status": "ok",
     "timestamp": 1746336615206,
     "user": {
      "displayName": "Warren Low",
      "userId": "03832505700203327791"
     },
     "user_tz": -480
    },
    "id": "dgwRuMmqujCL"
   },
   "outputs": [],
   "source": [
    "\n",
    "import torch\n",
    "import torchaudio\n",
    "import librosa\n",
    "from datasets import load_dataset, Audio, DatasetDict\n",
    "import evaluate\n",
    "import numpy as np\n",
    "from transformers import Wav2Vec2Processor, Wav2Vec2ForCTC, Trainer, TrainingArguments\n",
    "import base64\n",
    "import io"
   ]
  },
  {
   "cell_type": "code",
   "execution_count": 4,
   "metadata": {
    "executionInfo": {
     "elapsed": 1,
     "status": "ok",
     "timestamp": 1746336615214,
     "user": {
      "displayName": "Warren Low",
      "userId": "03832505700203327791"
     },
     "user_tz": -480
    },
    "id": "ZHk_sNCDxb62"
   },
   "outputs": [],
   "source": [
    "# This is used for visualising the data nicely\n",
    "\n",
    "def array_to_audio_html(array, rate=16000):\n",
    "    # Save array directly to an in-memory buffer\n",
    "    buffer = io.BytesIO()\n",
    "    sf.write(buffer, array, rate, format='wav')\n",
    "    buffer.seek(0)\n",
    "\n",
    "    # Encode to base64\n",
    "    b64_audio = base64.b64encode(buffer.read()).decode('utf-8')\n",
    "\n",
    "    # Create HTML audio tag\n",
    "    return f'<audio controls src=\"data:audio/wav;base64,{b64_audio}\"></audio>'"
   ]
  },
  {
   "cell_type": "markdown",
   "metadata": {
    "id": "WG_gvXOue5KC"
   },
   "source": [
    "## Fine-tuning"
   ]
  },
  {
   "cell_type": "markdown",
   "metadata": {
    "id": "9AQvxJ_ye8UM"
   },
   "source": [
    "### Setup and Load Data\n",
    "\n",
    "We load `atco2-asr`, which is an air traffic control dataset uploaded on HuggingFace.\n",
    "\n",
    "For the purposes of teaching, we will omit the following steps, and show some of those steps in future tutorials\n",
    "\n",
    "1. Further preprocessing and augmentation: If possible, see how libraries like `audiomentations` or `speechbrain` can help preprocess and augment your already existing data. This is especially so for small datasets like `atco2-asr`"
   ]
  },
  {
   "cell_type": "code",
   "execution_count": 41,
   "metadata": {
    "executionInfo": {
     "elapsed": 6069,
     "status": "ok",
     "timestamp": 1746337782064,
     "user": {
      "displayName": "Warren Low",
      "userId": "03832505700203327791"
     },
     "user_tz": -480
    },
    "id": "dm24jOIYuyj-"
   },
   "outputs": [],
   "source": [
    "# 1. Load ATCO2‑ASR from Hugging Face\n",
    "dataset = load_dataset(\"jlvdoorn/atco2-asr\")"
   ]
  },
  {
   "cell_type": "markdown",
   "metadata": {
    "id": "9U0fIPu_f_RF"
   },
   "source": [
    "### Exploring the data:\n",
    "\n",
    "We do a brief exploration of the dataset, showing what columns belong in the dataset and an audio sample"
   ]
  },
  {
   "cell_type": "code",
   "execution_count": null,
   "metadata": {
    "colab": {
     "base_uri": "https://localhost:8080/",
     "height": 526
    },
    "executionInfo": {
     "elapsed": 85,
     "status": "ok",
     "timestamp": 1746337782134,
     "user": {
      "displayName": "Warren Low",
      "userId": "03832505700203327791"
     },
     "user_tz": -480
    },
    "id": "XRXrIYEvwOmy",
    "outputId": "7dc4a4c6-296c-4136-9048-d60c89b38190"
   },
   "outputs": [],
   "source": [
    "# Explore the dataset\n",
    "\n",
    "import IPython.display as ipd\n",
    "\n",
    "# Check the available splits\n",
    "print(dataset)\n",
    "\n",
    "# Peek at the first training example\n",
    "print(\"\\n First training example:\")\n",
    "print(dataset[\"train\"][0])\n",
    "\n",
    "# List available columns\n",
    "print(\"\\n Columns in each example:\", dataset[\"train\"].column_names)\n",
    "\n",
    "# Check the type of audio column\n",
    "print(\"\\n Audio column type:\", type(dataset[\"train\"][0][\"audio\"]))\n",
    "\n",
    "# Check the contents of the audio column\n",
    "print(\"\\n Keys in each example['audio']:\", dataset[\"train\"][0][\"audio\"].keys())\n",
    "\n",
    "# Show audio metadata\n",
    "audio_sample = dataset[\"train\"][0][\"audio\"]\n",
    "print(\"\\n Audio metadata:\")\n",
    "print(\"  Sampling rate:\", audio_sample[\"sampling_rate\"])\n",
    "print(\"  Num samples  :\", len(audio_sample[\"array\"]))\n",
    "print(\"  Duration (s) :\", len(audio_sample[\"array\"]) / audio_sample[\"sampling_rate\"])\n",
    "\n",
    "# Play the audio (Jupyter / Colab only)\n",
    "ipd.Audio(audio_sample[\"array\"], rate=audio_sample[\"sampling_rate\"])"
   ]
  },
  {
   "cell_type": "markdown",
   "metadata": {
    "id": "TCLKx3RWkPcl"
   },
   "source": [
    "### But can we do better?\n",
    "\n",
    "The previous output was rather messy, and showed a lot of unrelated data that we might not need. Let's use the outputs from the previous cell to summarize everything into a nice table."
   ]
  },
  {
   "cell_type": "code",
   "execution_count": null,
   "metadata": {
    "colab": {
     "base_uri": "https://localhost:8080/",
     "height": 630,
     "output_embedded_package_id": "1r1v0mpDJmtlDJBdbWjd6xif49aaNoEBR"
    },
    "executionInfo": {
     "elapsed": 627,
     "status": "ok",
     "timestamp": 1746337782762,
     "user": {
      "displayName": "Warren Low",
      "userId": "03832505700203327791"
     },
     "user_tz": -480
    },
    "id": "ZuUbjVSpuGaV",
    "outputId": "cddbebd9-5141-442b-968e-535527d407ad"
   },
   "outputs": [],
   "source": [
    "from datasets import ClassLabel\n",
    "import random\n",
    "import pandas as pd\n",
    "from IPython.display import display, HTML\n",
    "import soundfile as sf\n",
    "\n",
    "def show_random_elements(dataset, num_examples = 10):\n",
    "  assert num_examples <= len(dataset), \"Can't pick more elements than there are in the dataset\"\n",
    "  picks = []\n",
    "  for _ in range(num_examples):\n",
    "    pick = random.randint(0, len(dataset) - 1)\n",
    "    while pick in picks:\n",
    "      pick = random.randint(0, len(dataset) - 1)\n",
    "    picks.append(pick)\n",
    "\n",
    "  df = pd.DataFrame(dataset[picks]['audio'])\n",
    "  df2 = pd.DataFrame(dataset[picks]['text'], columns=['text'])\n",
    "  df = pd.concat([df, df2], axis=1)\n",
    "  # Function to convert audio arrays directly to HTML audio elements\n",
    "\n",
    "\n",
    "  # Apply the conversion to the DataFrame\n",
    "  df['audio'] = df.apply(lambda row: array_to_audio_html(row['array'], row['sampling_rate']), axis=1)\n",
    "  html_table = df[['audio','text', 'sampling_rate']].to_html(escape=False)\n",
    "\n",
    "  display(HTML(html_table))\n",
    "show_random_elements(dataset[\"train\"])"
   ]
  },
  {
   "cell_type": "markdown",
   "metadata": {
    "id": "j0yx1rhHkau9"
   },
   "source": [
    "This is our safety net: Even though we have seen that most of the data is in 16000HZ, it is always good to just cast everything to 16k Hz again"
   ]
  },
  {
   "cell_type": "code",
   "execution_count": 44,
   "metadata": {
    "executionInfo": {
     "elapsed": 42,
     "status": "ok",
     "timestamp": 1746337809919,
     "user": {
      "displayName": "Warren Low",
      "userId": "03832505700203327791"
     },
     "user_tz": -480
    },
    "id": "nLwUqoPvviyh"
   },
   "outputs": [],
   "source": [
    "dataset = dataset.cast_column(\"audio\", Audio(sampling_rate=16_000))  # ensure consistent sampling"
   ]
  },
  {
   "cell_type": "code",
   "execution_count": null,
   "metadata": {
    "colab": {
     "base_uri": "https://localhost:8080/",
     "height": 1000
    },
    "executionInfo": {
     "elapsed": 809,
     "status": "ok",
     "timestamp": 1746337811572,
     "user": {
      "displayName": "Warren Low",
      "userId": "03832505700203327791"
     },
     "user_tz": -480
    },
    "id": "1HLaShncwXh5",
    "outputId": "454d40cf-0053-4d99-bb51-6c7fda1faea1"
   },
   "outputs": [],
   "source": [
    "import matplotlib.pyplot as plt\n",
    "\n",
    "def plot_spectrograms():\n",
    "  #1) Get sample audio\n",
    "  audio = dataset['train'][0][\"audio\"]  # pick index 0 (change as needed)\n",
    "  y, sr = audio[\"array\"], audio[\"sampling_rate\"]\n",
    "\n",
    "  # 2) Compute spectrogram (STFT → power → dB)\n",
    "  # Compute STFT for spectrogram\n",
    "  D = librosa.stft(y, n_fft = 1024, hop_length = 512)\n",
    "  # Convert magnitude spectrogram to dB\n",
    "  S_db = librosa.amplitude_to_db(np.abs(D), ref=np.max)\n",
    "\n",
    "  # 3) Compute mel spectrogram (power → mel bins → dB)\n",
    "  S_mel = librosa.feature.melspectrogram(y=y, sr=sr,\n",
    "                                        n_fft=1024,\n",
    "                                        hop_length=512,\n",
    "                                        n_mels=128)\n",
    "  S_mel_db = librosa.power_to_db(S_mel, ref=np.max)\n",
    "\n",
    "  # 4) Plot waveform, spectrogram, mel spectrogram\n",
    "  fig, axes = plt.subplots(3, 1, figsize=(10, 12))\n",
    "  fig.subplots_adjust(hspace=0.4)\n",
    "\n",
    "  # Waveform\n",
    "  axes[0].plot(y)\n",
    "  axes[0].set_title(\"Waveform (raw audio samples)\", fontsize=14)\n",
    "  axes[0].set_xlabel(\"Sample index\"); axes[0].set_ylabel(\"Amplitude\")\n",
    "\n",
    "  # Librosa STFT spectrogram (dB)\n",
    "  img1 = librosa.display.specshow(S_db, sr=sr, hop_length=512,\n",
    "                                  x_axis='time', y_axis='hz', ax=axes[1])\n",
    "  axes[1].set(title=\"STFT Spectrogram (dB)\")\n",
    "  fig.colorbar(img1, ax=axes[1], format=\"%+2.0f dB\")                # :contentReference[oaicite:11]{index=11}\n",
    "\n",
    "  # Mel spectrogram (dB)\n",
    "  img2 = librosa.display.specshow(S_mel_db, sr=sr, hop_length=512,\n",
    "                                  x_axis='time', y_axis='mel', ax=axes[2])\n",
    "  axes[2].set(title=\"Mel Spectrogram (dB)\")\n",
    "  fig.colorbar(img2, ax=axes[2], format=\"%+2.0f dB\")\n",
    "\n",
    "  plt.show()\n",
    "\n",
    "plot_spectrograms()"
   ]
  },
  {
   "cell_type": "markdown",
   "metadata": {
    "id": "GLOfs95lyMyu"
   },
   "source": [
    "Observe that there is a lot of noise in the mel spectrogram.\n",
    "We need to clean it beforehand"
   ]
  },
  {
   "cell_type": "markdown",
   "metadata": {
    "id": "ahMcLC_nyhhv"
   },
   "source": [
    "### Spectral Subtraction\n",
    "\n",
    "We will use spectral subtraction to sample some noise and remove it for all audio."
   ]
  },
  {
   "cell_type": "code",
   "execution_count": 46,
   "metadata": {
    "executionInfo": {
     "elapsed": 10,
     "status": "ok",
     "timestamp": 1746337812603,
     "user": {
      "displayName": "Warren Low",
      "userId": "03832505700203327791"
     },
     "user_tz": -480
    },
    "id": "ShoZKAMqyStK"
   },
   "outputs": [],
   "source": [
    "def spectral_subtraction(signal, noise_sample, sr, n_fft=2048, hop_length=512, alpha=2.0, beta=0.01):\n",
    "    \"\"\"\n",
    "    Apply spectral subtraction to remove noise from a signal\n",
    "\n",
    "    Parameters:\n",
    "    -----------\n",
    "    signal : ndarray\n",
    "        The noisy input signal\n",
    "    noise_sample : ndarray\n",
    "        Sample of noise to use for estimation\n",
    "    sr : int\n",
    "        Sample rate\n",
    "    n_fft : int\n",
    "        FFT size\n",
    "    hop_length : int\n",
    "        Hop length for STFT\n",
    "    alpha : float\n",
    "        Oversubtraction factor (1.0-3.0)\n",
    "    beta : float\n",
    "        Spectral floor parameter (0.001-0.1)\n",
    "    \"\"\"\n",
    "    # Compute Short Time Fourier Transform (STFT) of signal\n",
    "    #This is done to break the audio into multiple smaller windows of audio\n",
    "    #Allows us to analyze segments where the properties are relatively constant\n",
    "    signal_stft = librosa.stft(signal, n_fft=n_fft, hop_length=hop_length)\n",
    "    #We compute the power representation\n",
    "    #(Key Idea: Noise and audio add linearly for uncorrelated signals in power repr.)\n",
    "    signal_power = np.abs(signal_stft)**2\n",
    "\n",
    "    # Compute noise power spectrum\n",
    "    #We do this by taking a sample of the audio where only the noise is present\n",
    "    noise_stft = librosa.stft(noise_sample, n_fft=n_fft, hop_length=hop_length)\n",
    "    noise_power = np.abs(noise_stft)**2\n",
    "    mean_noise_power = np.mean(noise_power, axis=1, keepdims=True)\n",
    "\n",
    "    # Perform spectral subtraction\n",
    "    # alpha is a oversubtraction factor, to elp control for more complete noise removal\n",
    "    subtracted_power = signal_power - alpha * mean_noise_power\n",
    "\n",
    "    # Apply spectral floor\n",
    "    # The subtraction could lead to negative values, which is invalid\n",
    "    # We do a floor here to ensure all the audio samples remain consistent, and\n",
    "    # are not inaudible\n",
    "    subtracted_power = np.maximum(subtracted_power, beta * signal_power)\n",
    "\n",
    "    # Convert back from power representation\n",
    "    enhanced_mag = np.sqrt(subtracted_power)\n",
    "\n",
    "    # Apply original phase to help construct back to signal\n",
    "    enhanced_stft = enhanced_mag * np.exp(1j * np.angle(signal_stft))\n",
    "\n",
    "    # Inverse STFT --> Construct back to audio from fourier transform\n",
    "    enhanced_signal = librosa.istft(enhanced_stft, hop_length=hop_length, length=len(signal))\n",
    "\n",
    "    return enhanced_signal"
   ]
  },
  {
   "cell_type": "code",
   "execution_count": null,
   "metadata": {
    "colab": {
     "base_uri": "https://localhost:8080/",
     "height": 81,
     "referenced_widgets": [
      "220d10b61d9a4629a2f305ce39805631",
      "d77d4be5f4944842a01605e790ea219c",
      "68cd4c20c96746bbb22ab2c5c87b4ba1",
      "33f02d18f16c47da96311f4647cc451a",
      "3c6104731b864f24b82391ecb6adcf90",
      "717ea14966b144a38a404d0080d9139b",
      "3acc09f5c5ef465abd037c69a4947ca8",
      "5db0287a2f6a4fc6b36537e4bea7db72",
      "c1592c38ba19433c8dae9d0ec4c748eb",
      "b54b0763ffef45e48f7f9a6b2465f244",
      "944f46e92a5c43dd900859bcb72091b8",
      "f9af1d96d9f7450e8a1aa5af533d1177",
      "3145786b575f45bc99cea66e5de7230a",
      "ec887614647c420d8dbd0ec514bd44cf",
      "4407e565aa4f40f48757744906de2a62",
      "dab1ccd486db40eeb71cf4673e8021aa",
      "51ec942f918c4d31aafa546e474386ec",
      "bb19c7fb07e54b8ab4aff71ea6449ed8",
      "25eaadd2a65f423599ea5b89b91901e6",
      "1d807683d7bc4ebfb44a9fe3699a141f",
      "32afe1e73e114beab1ea27c814e723f5",
      "72c04580586b45eb92b752d5a4e47555"
     ]
    },
    "executionInfo": {
     "elapsed": 84797,
     "status": "ok",
     "timestamp": 1746337897873,
     "user": {
      "displayName": "Warren Low",
      "userId": "03832505700203327791"
     },
     "user_tz": -480
    },
    "id": "fOKuxJS2ytUy",
    "outputId": "86f468b8-6231-4da1-ddf8-5f9920aa7062"
   },
   "outputs": [],
   "source": [
    "# Apply spectral subtraction to entire dataset\n",
    "def clean_audio(example):\n",
    "  # pull noisy audio\n",
    "  y = example[\"audio\"][\"array\"]\n",
    "  sr = example[\"audio\"][\"sampling_rate\"]\n",
    "  noise_duration = 0.5\n",
    "  noise_sample = y[:int(noise_duration * sr)]\n",
    "  # apply your spectral subtraction\n",
    "  y_clean = spectral_subtraction(\n",
    "      signal=y,\n",
    "      noise_sample=noise_sample,\n",
    "      sr=sr,\n",
    "      n_fft=2048,\n",
    "      hop_length=512,\n",
    "      alpha=2.0,\n",
    "      beta=0.01\n",
    "  )\n",
    "  # return new column; must be list or array\n",
    "  example[\"audio\"]['array'] = y_clean\n",
    "  return example\n",
    "\n",
    "dataset = dataset.map(clean_audio)\n"
   ]
  },
  {
   "cell_type": "code",
   "execution_count": null,
   "metadata": {
    "colab": {
     "base_uri": "https://localhost:8080/",
     "height": 1000
    },
    "executionInfo": {
     "elapsed": 751,
     "status": "ok",
     "timestamp": 1746337898614,
     "user": {
      "displayName": "Warren Low",
      "userId": "03832505700203327791"
     },
     "user_tz": -480
    },
    "id": "1GMjpvMYzS9m",
    "outputId": "c7d1fa0a-8ffd-4795-bf05-24d9208b8093"
   },
   "outputs": [],
   "source": [
    "plot_spectrograms()"
   ]
  },
  {
   "cell_type": "markdown",
   "metadata": {
    "id": "tNDg3jlC1B83"
   },
   "source": [
    "There is much less noise now! Have a hear"
   ]
  },
  {
   "cell_type": "code",
   "execution_count": null,
   "metadata": {
    "colab": {
     "base_uri": "https://localhost:8080/",
     "height": 61
    },
    "executionInfo": {
     "elapsed": 40,
     "status": "ok",
     "timestamp": 1746337898657,
     "user": {
      "displayName": "Warren Low",
      "userId": "03832505700203327791"
     },
     "user_tz": -480
    },
    "id": "JhrMaZQD1F7L",
    "outputId": "c5470502-66ea-491a-a0e6-f2386539216b"
   },
   "outputs": [],
   "source": [
    "sample = dataset[\"train\"][0]\n",
    "ipd.Audio(sample[\"audio\"][\"array\"], rate=sample[\"audio\"][\"sampling_rate\"])"
   ]
  },
  {
   "cell_type": "markdown",
   "metadata": {
    "id": "qRPf_3CukkuQ"
   },
   "source": [
    "### Load models"
   ]
  },
  {
   "cell_type": "code",
   "execution_count": null,
   "metadata": {
    "colab": {
     "base_uri": "https://localhost:8080/"
    },
    "executionInfo": {
     "elapsed": 1957,
     "status": "ok",
     "timestamp": 1746337900614,
     "user": {
      "displayName": "Warren Low",
      "userId": "03832505700203327791"
     },
     "user_tz": -480
    },
    "id": "_12vs1IqvoVH",
    "outputId": "c6b8821c-1536-49d3-936f-7085a007756b"
   },
   "outputs": [],
   "source": [
    "# 2. Load pre-trained Wav2Vec2 and its processor\n",
    "model_name = \"facebook/wav2vec2-base\"\n",
    "processor = Wav2Vec2Processor.from_pretrained(model_name)\n",
    "model     = Wav2Vec2ForCTC.from_pretrained(model_name)"
   ]
  },
  {
   "cell_type": "markdown",
   "metadata": {
    "id": "8H61QDY6kmv9"
   },
   "source": [
    "### Preprocessing\n",
    "This helps us remove special characters, as Wav2Vec2 does not know what punctuation is.\n",
    "\n",
    "This makes sense, as you cannot really identify where punctuation etc should be based off speech. Of course, recent advancements have made it possible for ASR models to also reason where to add punctuation, but we omit it for now."
   ]
  },
  {
   "cell_type": "code",
   "execution_count": null,
   "metadata": {
    "colab": {
     "base_uri": "https://localhost:8080/",
     "height": 81,
     "referenced_widgets": [
      "0385cbc4b7d0409ca42948c914daf5d4",
      "ddeddf7a9c3d476b8faf9522c1c7f199",
      "50553080642048b586b5bed7b72a84d6",
      "79af4e01799f483c8ac6d9ea524193db",
      "b8878a87f6f84a5484c7696890123cf3",
      "60f086b079df4e718f60204367bf1811",
      "145bc487326f4bbfb5b6020a5dd8618e",
      "e6b75f3d67af46c0a73e33be3e1aee60",
      "72b2ba161ac94d1ba1a0ee1d3168ebce",
      "3a91093720694d7994854a236a60fba9",
      "606336d3ec244de9a245a3dc1dbfbeaa",
      "b5435d810c7e422c96410a29603e7552",
      "4694db60accb425b9dfb855c171a2cdc",
      "3f572ae266bb4f65a2c5a422d45ea994",
      "846bc052d93f455a88009f3a67c8b029",
      "ee757fccb8844b00891bed6485356d01",
      "b74d92ca9eca4a9ca69c37395486f9fd",
      "9ad597f9e6e14db3a05f138dab62ce52",
      "29736d0b13214dc788a8936bb196be65",
      "4726d49bed7a48faa78ef5317830c224",
      "574936a0e4464a41a66d8d4c0b7485d2",
      "91f0c466f01d4ef58acbd9402ff28153"
     ]
    },
    "executionInfo": {
     "elapsed": 344,
     "status": "ok",
     "timestamp": 1746337900960,
     "user": {
      "displayName": "Warren Low",
      "userId": "03832505700203327791"
     },
     "user_tz": -480
    },
    "id": "2yRd_5pdtxdb",
    "outputId": "3ce849fd-711f-4b32-b475-3462cf8b4eb0"
   },
   "outputs": [],
   "source": [
    "import re\n",
    "chars_to_ignore_regex = '[\\,\\?\\.\\!\\-\\;\\:\\\"]'\n",
    "\n",
    "def remove_special_characters(batch):\n",
    "    batch[\"text\"] = re.sub(chars_to_ignore_regex, '', batch[\"text\"]).lower()\n",
    "    return batch\n",
    "\n",
    "dataset = dataset.map(remove_special_characters) # This applies the function to every row\n"
   ]
  },
  {
   "cell_type": "markdown",
   "metadata": {
    "id": "KrZw2o0Zk-K7"
   },
   "source": [
    "### Dataset preparation\n",
    "\n",
    "We do two things here:\n",
    "1. Extract audio features from our audio array, using Wav2Vec2's feature processor\n",
    "1. We tokenize the labels for loss computation\n"
   ]
  },
  {
   "cell_type": "code",
   "execution_count": 52,
   "metadata": {
    "executionInfo": {
     "elapsed": 2,
     "status": "ok",
     "timestamp": 1746337900964,
     "user": {
      "displayName": "Warren Low",
      "userId": "03832505700203327791"
     },
     "user_tz": -480
    },
    "id": "9BMrVz3TzYNx"
   },
   "outputs": [],
   "source": [
    "def prepare_dataset(batch):\n",
    "    '''\n",
    "    Ideally we use the processor directly here. But using the processor will lead to\n",
    "    a bug in HuggingFace complaining we are assinging multiple values to a single key.\n",
    "    '''\n",
    "\n",
    "    audio = batch[\"audio\"]\n",
    "\n",
    "    # Process audio inputs - only pass return_attention_mask to the feature_extractor\n",
    "    features = processor.feature_extractor(\n",
    "        audio[\"array\"],\n",
    "        sampling_rate=audio[\"sampling_rate\"],\n",
    "        return_attention_mask=False, #return True if you want the attention mask\n",
    "        do_normalize = True\n",
    "    )\n",
    "    batch[\"input_values\"] = features.input_values[0]\n",
    "\n",
    "    # If you need the attention mask as well\n",
    "    if hasattr(features, \"attention_mask\"):\n",
    "        batch[\"attention_mask\"] = features.attention_mask[0]\n",
    "\n",
    "    # Process text targets separately\n",
    "    # with processor.as_target_processor():\n",
    "    #     batch[\"labels\"] = processor.tokenizer(batch[\"text\"]).input_ids\n",
    "\n",
    "    batch[\"labels\"] = processor(text=batch[\"text\"]).input_ids\n",
    "\n",
    "    return batch"
   ]
  },
  {
   "cell_type": "code",
   "execution_count": null,
   "metadata": {
    "colab": {
     "base_uri": "https://localhost:8080/",
     "height": 81,
     "referenced_widgets": [
      "cb5bc93cbaea4ab5aa64254270703425",
      "47a402a9651c4685a44eba2c5186ebc9",
      "ae078ac514e64dd6b48d76fe96fde01f",
      "5b3df3dd0edb48669c1b1193bc00cfd4",
      "489c5a4ee3614a61a9b82adb1d1b6308",
      "f14f8c9460d2481c865c00de0fafe5ae",
      "9db5719081b3484b90e34468267aadfe",
      "ead3213dd61546f99890351960c37c28",
      "18b09735d47d47f0a610fd675130f6ea",
      "d551dc0756a8498f8ef1e9cfc038a989",
      "328936ef13994aab8da7422fd4e4b915",
      "aa5e8bde31fc4e4aa6bd02bd209fbf31",
      "c97a115c7505434db2a1145b7eb33ac5",
      "75b67e0980b347bd810e70580d0a130f",
      "1ddd1baa2d4f47bb9d068e079d878471",
      "9d55f02847194474b0d6e378ea1b352e",
      "8491d74f795347e59cb5fcee199d715f",
      "9bd95aea65e14d80aa3f711416c03236",
      "87334246606648ed94f73119ead1f56c",
      "68e0b2b99c3b4696827ba5343e07c6dc",
      "48461a08afd543fdaeae273dc097c616",
      "aee98016593f4ae7b8dcb92a6e708ec4"
     ]
    },
    "executionInfo": {
     "elapsed": 71699,
     "status": "ok",
     "timestamp": 1746337981260,
     "user": {
      "displayName": "Warren Low",
      "userId": "03832505700203327791"
     },
     "user_tz": -480
    },
    "id": "5whp6sygzdmo",
    "outputId": "c21f593a-40ae-46df-e5e0-0d2a82bb0da1"
   },
   "outputs": [],
   "source": [
    "dataset = dataset.map(prepare_dataset)"
   ]
  },
  {
   "cell_type": "markdown",
   "metadata": {
    "id": "asTVoiFslWAM"
   },
   "source": [
    "### Data Collator\n",
    "\n",
    "Before training, there is a very important thing we must do: Collate the data.\n",
    "\n",
    "In our data right now, there exists samples of different lengths, and this means our training will FAIL as we cannot form proper tensors with such jagged data. To circumvent this, we need to properly pad our data, and also mask all padding tokens during training (We do not want the model to learn how to add padding)\n",
    "\n",
    "To do this we create a data collator that does this for us, using the processor's inbuilt capabilities to achieve this."
   ]
  },
  {
   "cell_type": "code",
   "execution_count": 54,
   "metadata": {
    "executionInfo": {
     "elapsed": 33,
     "status": "ok",
     "timestamp": 1746337981314,
     "user": {
      "displayName": "Warren Low",
      "userId": "03832505700203327791"
     },
     "user_tz": -480
    },
    "id": "JYcphMhxzg6M"
   },
   "outputs": [],
   "source": [
    "import torch\n",
    "\n",
    "from dataclasses import dataclass, field\n",
    "from typing import Any, Dict, List, Optional, Union\n",
    "\n",
    "@dataclass\n",
    "class DataCollatorCTCWithPadding:\n",
    "    \"\"\"\n",
    "    Data collator that will dynamically pad the inputs received.\n",
    "    Args:\n",
    "        processor (:class:`~transformers.Wav2Vec2Processor`)\n",
    "            The processor used for proccessing the data.\n",
    "        padding (:obj:`bool`, :obj:`str` or :class:`~transformers.tokenization_utils_base.PaddingStrategy`, `optional`, defaults to :obj:`True`):\n",
    "            Select a strategy to pad the returned sequences (according to the model's padding side and padding index)\n",
    "            among:\n",
    "            * :obj:`True` or :obj:`'longest'`: Pad to the longest sequence in the batch (or no padding if only a single\n",
    "              sequence if provided).\n",
    "            * :obj:`'max_length'`: Pad to a maximum length specified with the argument :obj:`max_length` or to the\n",
    "              maximum acceptable input length for the model if that argument is not provided.\n",
    "            * :obj:`False` or :obj:`'do_not_pad'` (default): No padding (i.e., can output a batch with sequences of\n",
    "              different lengths).\n",
    "        max_length (:obj:`int`, `optional`):\n",
    "            Maximum length of the ``input_values`` of the returned list and optionally padding length (see above).\n",
    "        max_length_labels (:obj:`int`, `optional`):\n",
    "            Maximum length of the ``labels`` returned list and optionally padding length (see above).\n",
    "        pad_to_multiple_of (:obj:`int`, `optional`):\n",
    "            If set will pad the sequence to a multiple of the provided value.\n",
    "            This is especially useful to enable the use of Tensor Cores on NVIDIA hardware with compute capability >=\n",
    "            7.5 (Volta).\n",
    "    \"\"\"\n",
    "\n",
    "    processor: Wav2Vec2Processor\n",
    "    padding: Union[bool, str] = True\n",
    "    max_length: Optional[int] = None\n",
    "    max_length_labels: Optional[int] = None\n",
    "    pad_to_multiple_of: Optional[int] = None\n",
    "    pad_to_multiple_of_labels: Optional[int] = None\n",
    "\n",
    "    def __call__(self, features: List[Dict[str, Union[List[int], torch.Tensor]]]) -> Dict[str, torch.Tensor]:\n",
    "        # split inputs and labels since they have to be of different lengths and need\n",
    "        # different padding methods\n",
    "        input_features = [{\"input_values\": feature[\"input_values\"]} for feature in features]\n",
    "        label_features = [{\"input_ids\": feature[\"labels\"]} for feature in features]\n",
    "\n",
    "        batch = self.processor.pad(\n",
    "            input_features,\n",
    "            padding=self.padding,\n",
    "            max_length=self.max_length,\n",
    "            pad_to_multiple_of=self.pad_to_multiple_of,\n",
    "            return_tensors=\"pt\",\n",
    "        )\n",
    "        with self.processor.as_target_processor():\n",
    "            labels_batch = self.processor.pad(\n",
    "                label_features,\n",
    "                padding=self.padding,\n",
    "                max_length=self.max_length_labels,\n",
    "                pad_to_multiple_of=self.pad_to_multiple_of_labels,\n",
    "                return_tensors=\"pt\",\n",
    "            )\n",
    "\n",
    "        # replace padding with -100 to ignore loss correctly\n",
    "        labels = labels_batch[\"input_ids\"].masked_fill(labels_batch.attention_mask.ne(1), -100)\n",
    "\n",
    "        batch[\"labels\"] = labels\n",
    "\n",
    "        return batch\n"
   ]
  },
  {
   "cell_type": "code",
   "execution_count": 55,
   "metadata": {
    "executionInfo": {
     "elapsed": 2,
     "status": "ok",
     "timestamp": 1746337981325,
     "user": {
      "displayName": "Warren Low",
      "userId": "03832505700203327791"
     },
     "user_tz": -480
    },
    "id": "ACnqFCi52Gu_"
   },
   "outputs": [],
   "source": [
    "data_collator = DataCollatorCTCWithPadding(processor=processor, padding=True)\n"
   ]
  },
  {
   "cell_type": "markdown",
   "metadata": {
    "id": "OgMNe7X0mAFZ"
   },
   "source": [
    "###  Word error rate\n",
    "\n",
    " We calculate the word error rate for training - This will be discussed more in the next notebook, but is used here to illustrate how to train models with some custom metrics."
   ]
  },
  {
   "cell_type": "code",
   "execution_count": null,
   "metadata": {
    "colab": {
     "base_uri": "https://localhost:8080/",
     "height": 49,
     "referenced_widgets": [
      "e670470305c14c5da3579f0707850462",
      "6ee2463c897c448f885b0a7d122be034",
      "22eda1fb75d344f0b3347e16373babc1",
      "9914e4309f5e4135a05c96c11fcc85ed",
      "c8653984734a4278b291d00ae7fd1a43",
      "c406abe222c44452b3806a50ee703b6e",
      "6fd86de060884ab1a4e3f9446bdac05f",
      "a322060528e44264bac4e065cf80b79c",
      "48d7fcbbe85349ee92d0c9c9232ccf2a",
      "bb45533a621942b08c266e66d9697e3a",
      "e6d76264a65a45e69366ea8add36d466"
     ]
    },
    "executionInfo": {
     "elapsed": 2961,
     "status": "ok",
     "timestamp": 1746337984287,
     "user": {
      "displayName": "Warren Low",
      "userId": "03832505700203327791"
     },
     "user_tz": -480
    },
    "id": "YLarEyE52LX_",
    "outputId": "8ca45351-1a71-4cb3-b352-2fc65e842726"
   },
   "outputs": [],
   "source": [
    "wer_metric = evaluate.load(\"wer\")\n",
    "def compute_metrics(pred):\n",
    "    pred_logits = pred.predictions\n",
    "    pred_ids = np.argmax(pred_logits, axis=-1)\n",
    "\n",
    "    pred.label_ids[pred.label_ids == -100] = processor.tokenizer.pad_token_id\n",
    "\n",
    "    pred_str = processor.batch_decode(pred_ids)\n",
    "    # we do not want to group tokens when computing the metrics\n",
    "    label_str = processor.batch_decode(pred.label_ids, group_tokens=False)\n",
    "\n",
    "    wer = wer_metric.compute(predictions=pred_str, references=label_str)\n",
    "\n",
    "    return {\"wer\": wer}\n"
   ]
  },
  {
   "cell_type": "markdown",
   "metadata": {
    "id": "kTy5nZIuml6F"
   },
   "source": [
    "### Freezing layers\n",
    "\n",
    "Freezing means to prevent the model from updating a set of layers during training - This is good in some cases, as we might not want the model to erroneously update some parts of the model that we know are trained well enough\n",
    "\n",
    "For example, Wav2Vec2 was trained on thousands of hours of ASR data, and thus we can rest assured that the feature extractor should extract important auditory features\n",
    "\n",
    "We should focus our attention more towards tuning the intermediate layers in order to adapt it to our dataset."
   ]
  },
  {
   "cell_type": "code",
   "execution_count": null,
   "metadata": {
    "colab": {
     "base_uri": "https://localhost:8080/"
    },
    "executionInfo": {
     "elapsed": 7,
     "status": "ok",
     "timestamp": 1746337984290,
     "user": {
      "displayName": "Warren Low",
      "userId": "03832505700203327791"
     },
     "user_tz": -480
    },
    "id": "ollZbqt22dxt",
    "outputId": "e8954c6f-8674-4828-9269-394b81b4ad4a"
   },
   "outputs": [],
   "source": [
    "model.freeze_feature_extractor()\n"
   ]
  },
  {
   "cell_type": "markdown",
   "metadata": {
    "id": "q1N0WSrUnCW6"
   },
   "source": [
    "### Training arguments:\n",
    "These arguments define our training process, and include useful hyperparameters that you might want to tune to improve the accuracy of your models\n",
    "\n",
    "\n"
   ]
  },
  {
   "cell_type": "code",
   "execution_count": 58,
   "metadata": {
    "executionInfo": {
     "elapsed": 152,
     "status": "ok",
     "timestamp": 1746337984443,
     "user": {
      "displayName": "Warren Low",
      "userId": "03832505700203327791"
     },
     "user_tz": -480
    },
    "id": "KzcF6L_m2NRC"
   },
   "outputs": [],
   "source": [
    "from transformers import TrainingArguments\n",
    "\n",
    "training_args = TrainingArguments(\n",
    "  group_by_length=True, #Groups examples of similar length together to reduce padding and improve efficiency\n",
    "  per_device_train_batch_size=16, #Batch Size\n",
    "  gradient_accumulation_steps=4, #Accumulates gradient, so total steps before updating is 16 * 4 = effective batch size of 64\n",
    "  num_train_epochs=10, # Change this if you want to seriously evalmaxx on airplane conversations\n",
    "  fp16=True,\n",
    "  gradient_checkpointing=True, #Reduce memory usage at the cost of speed\n",
    "  save_steps = 200,\n",
    "  logging_strategy = \"epoch\",\n",
    "  eval_strategy=\"epoch\",\n",
    "  learning_rate=1e-4,\n",
    "  weight_decay=0.005,\n",
    "  warmup_steps=1000,\n",
    "  save_total_limit=2,\n",
    "  report_to = \"none\"\n",
    ")\n"
   ]
  },
  {
   "cell_type": "code",
   "execution_count": 59,
   "metadata": {
    "executionInfo": {
     "elapsed": 3796,
     "status": "ok",
     "timestamp": 1746337988237,
     "user": {
      "displayName": "Warren Low",
      "userId": "03832505700203327791"
     },
     "user_tz": -480
    },
    "id": "8EPwgy7S2hxM"
   },
   "outputs": [],
   "source": [
    "from transformers import Trainer\n",
    "\n",
    "#Add everything we defined previously into the trainer\n",
    "\n",
    "trainer = Trainer(\n",
    "    model=model,\n",
    "    data_collator=data_collator,\n",
    "    args=training_args,\n",
    "    compute_metrics=compute_metrics,\n",
    "    train_dataset=dataset['train'],\n",
    "    eval_dataset=dataset['validation'],\n",
    "    processing_class=processor.feature_extractor\n",
    ")\n"
   ]
  },
  {
   "cell_type": "code",
   "execution_count": null,
   "metadata": {
    "colab": {
     "base_uri": "https://localhost:8080/",
     "height": 782
    },
    "executionInfo": {
     "elapsed": 712788,
     "status": "ok",
     "timestamp": 1746338701482,
     "user": {
      "displayName": "Warren Low",
      "userId": "03832505700203327791"
     },
     "user_tz": -480
    },
    "id": "_MYFpF2o2k_7",
    "outputId": "6e0e81a2-ccc0-4edc-d34c-4a375eee673b"
   },
   "outputs": [],
   "source": [
    "trainer.train() #Just a single line, how useful is that!\n",
    "\n",
    "# Why is loss so high:\n",
    "# 1) There is still some residual noise\n",
    "# 2) There are different accents, some words are hard to hear"
   ]
  },
  {
   "cell_type": "markdown",
   "metadata": {
    "id": "N8MgRtoIzktN"
   },
   "source": [
    "The training loss and the validation loss decreased as the number epochs increased. This indicates that the model is learning to better predict the training and validation transcription.\n",
    "\n",
    "However, the word error rate (WER) stayed roughly the same. One reason is because we did not do hyperparameter tuning to help the model generalise better. We also only trained it for 10 epochs. Additionally, small changes in the model predictions might not affect the WER."
   ]
  },
  {
   "cell_type": "markdown",
   "metadata": {
    "id": "cQpaHGldsdOc"
   },
   "source": [
    "### Inference\n",
    "\n",
    "Always test what your model outputs after training - You want to make sure it is not overfitting or hacking the loss."
   ]
  },
  {
   "cell_type": "code",
   "execution_count": null,
   "metadata": {
    "colab": {
     "base_uri": "https://localhost:8080/",
     "height": 295
    },
    "executionInfo": {
     "elapsed": 1642,
     "status": "ok",
     "timestamp": 1746338703130,
     "user": {
      "displayName": "Warren Low",
      "userId": "03832505700203327791"
     },
     "user_tz": -480
    },
    "id": "Gzxvv6Ac84Kd",
    "outputId": "707b2cb4-ce0c-4a5b-cf6a-825bee3adeaa"
   },
   "outputs": [],
   "source": [
    "#Inference with the model\n",
    "\n",
    "def evaluate(model, dataset):\n",
    "    model.eval()\n",
    "    predictions = []\n",
    "    references = []\n",
    "    for i in range(5):\n",
    "        batch = dataset[i]['audio']['array']\n",
    "        input_values = processor(batch, return_tensors=\"pt\", padding=True).input_values\n",
    "        with torch.no_grad():\n",
    "            logits = model(input_values.to('cuda')).logits\n",
    "        pred_ids = torch.argmax(logits, dim=-1)\n",
    "        pred_str = processor.batch_decode(pred_ids[0])\n",
    "        predictions.append(pred_str)\n",
    "        references.append(dataset[i]['text'])\n",
    "    return predictions, references\n",
    "\n",
    "predictions, references = evaluate(model, dataset[\"validation\"])\n",
    "\n",
    "#Print dataframe\n",
    "df = pd.DataFrame({'predictions': predictions, 'references': references})\n",
    "df"
   ]
  },
  {
   "cell_type": "markdown",
   "metadata": {
    "id": "x3_O5VpntUfa"
   },
   "source": [
    "Notice the outputs are still quite bad\n",
    "\n",
    "- Note that this dataset is extremely noisy, and highlights the need for us to denoise our inputs beforehand\n",
    "\n",
    "- We are also constrained by Google Colab here, we should increase the num of epochs until the loss plateaus, but that requires a dedicated compute resource"
   ]
  }
 ],
 "metadata": {
  "accelerator": "GPU",
  "colab": {
   "gpuType": "T4",
   "provenance": []
  },
  "kernelspec": {
   "display_name": "Python 3",
   "name": "python3"
  },
  "language_info": {
   "name": "python"
  },
  "widgets": {
   "application/vnd.jupyter.widget-state+json": {
    "0385cbc4b7d0409ca42948c914daf5d4": {
     "model_module": "@jupyter-widgets/controls",
     "model_module_version": "1.5.0",
     "model_name": "HBoxModel",
     "state": {
      "_dom_classes": [],
      "_model_module": "@jupyter-widgets/controls",
      "_model_module_version": "1.5.0",
      "_model_name": "HBoxModel",
      "_view_count": null,
      "_view_module": "@jupyter-widgets/controls",
      "_view_module_version": "1.5.0",
      "_view_name": "HBoxView",
      "box_style": "",
      "children": [
       "IPY_MODEL_ddeddf7a9c3d476b8faf9522c1c7f199",
       "IPY_MODEL_50553080642048b586b5bed7b72a84d6",
       "IPY_MODEL_79af4e01799f483c8ac6d9ea524193db"
      ],
      "layout": "IPY_MODEL_b8878a87f6f84a5484c7696890123cf3"
     }
    },
    "145bc487326f4bbfb5b6020a5dd8618e": {
     "model_module": "@jupyter-widgets/controls",
     "model_module_version": "1.5.0",
     "model_name": "DescriptionStyleModel",
     "state": {
      "_model_module": "@jupyter-widgets/controls",
      "_model_module_version": "1.5.0",
      "_model_name": "DescriptionStyleModel",
      "_view_count": null,
      "_view_module": "@jupyter-widgets/base",
      "_view_module_version": "1.2.0",
      "_view_name": "StyleView",
      "description_width": ""
     }
    },
    "18b09735d47d47f0a610fd675130f6ea": {
     "model_module": "@jupyter-widgets/controls",
     "model_module_version": "1.5.0",
     "model_name": "ProgressStyleModel",
     "state": {
      "_model_module": "@jupyter-widgets/controls",
      "_model_module_version": "1.5.0",
      "_model_name": "ProgressStyleModel",
      "_view_count": null,
      "_view_module": "@jupyter-widgets/base",
      "_view_module_version": "1.2.0",
      "_view_name": "StyleView",
      "bar_color": null,
      "description_width": ""
     }
    },
    "1d807683d7bc4ebfb44a9fe3699a141f": {
     "model_module": "@jupyter-widgets/controls",
     "model_module_version": "1.5.0",
     "model_name": "ProgressStyleModel",
     "state": {
      "_model_module": "@jupyter-widgets/controls",
      "_model_module_version": "1.5.0",
      "_model_name": "ProgressStyleModel",
      "_view_count": null,
      "_view_module": "@jupyter-widgets/base",
      "_view_module_version": "1.2.0",
      "_view_name": "StyleView",
      "bar_color": null,
      "description_width": ""
     }
    },
    "1ddd1baa2d4f47bb9d068e079d878471": {
     "model_module": "@jupyter-widgets/controls",
     "model_module_version": "1.5.0",
     "model_name": "HTMLModel",
     "state": {
      "_dom_classes": [],
      "_model_module": "@jupyter-widgets/controls",
      "_model_module_version": "1.5.0",
      "_model_name": "HTMLModel",
      "_view_count": null,
      "_view_module": "@jupyter-widgets/controls",
      "_view_module_version": "1.5.0",
      "_view_name": "HTMLView",
      "description": "",
      "description_tooltip": null,
      "layout": "IPY_MODEL_48461a08afd543fdaeae273dc097c616",
      "placeholder": "​",
      "style": "IPY_MODEL_aee98016593f4ae7b8dcb92a6e708ec4",
      "value": " 113/113 [00:14&lt;00:00,  5.45 examples/s]"
     }
    },
    "220d10b61d9a4629a2f305ce39805631": {
     "model_module": "@jupyter-widgets/controls",
     "model_module_version": "1.5.0",
     "model_name": "HBoxModel",
     "state": {
      "_dom_classes": [],
      "_model_module": "@jupyter-widgets/controls",
      "_model_module_version": "1.5.0",
      "_model_name": "HBoxModel",
      "_view_count": null,
      "_view_module": "@jupyter-widgets/controls",
      "_view_module_version": "1.5.0",
      "_view_name": "HBoxView",
      "box_style": "",
      "children": [
       "IPY_MODEL_d77d4be5f4944842a01605e790ea219c",
       "IPY_MODEL_68cd4c20c96746bbb22ab2c5c87b4ba1",
       "IPY_MODEL_33f02d18f16c47da96311f4647cc451a"
      ],
      "layout": "IPY_MODEL_3c6104731b864f24b82391ecb6adcf90"
     }
    },
    "22eda1fb75d344f0b3347e16373babc1": {
     "model_module": "@jupyter-widgets/controls",
     "model_module_version": "1.5.0",
     "model_name": "FloatProgressModel",
     "state": {
      "_dom_classes": [],
      "_model_module": "@jupyter-widgets/controls",
      "_model_module_version": "1.5.0",
      "_model_name": "FloatProgressModel",
      "_view_count": null,
      "_view_module": "@jupyter-widgets/controls",
      "_view_module_version": "1.5.0",
      "_view_name": "ProgressView",
      "bar_style": "success",
      "description": "",
      "description_tooltip": null,
      "layout": "IPY_MODEL_a322060528e44264bac4e065cf80b79c",
      "max": 4485,
      "min": 0,
      "orientation": "horizontal",
      "style": "IPY_MODEL_48d7fcbbe85349ee92d0c9c9232ccf2a",
      "value": 4485
     }
    },
    "25eaadd2a65f423599ea5b89b91901e6": {
     "model_module": "@jupyter-widgets/base",
     "model_module_version": "1.2.0",
     "model_name": "LayoutModel",
     "state": {
      "_model_module": "@jupyter-widgets/base",
      "_model_module_version": "1.2.0",
      "_model_name": "LayoutModel",
      "_view_count": null,
      "_view_module": "@jupyter-widgets/base",
      "_view_module_version": "1.2.0",
      "_view_name": "LayoutView",
      "align_content": null,
      "align_items": null,
      "align_self": null,
      "border": null,
      "bottom": null,
      "display": null,
      "flex": null,
      "flex_flow": null,
      "grid_area": null,
      "grid_auto_columns": null,
      "grid_auto_flow": null,
      "grid_auto_rows": null,
      "grid_column": null,
      "grid_gap": null,
      "grid_row": null,
      "grid_template_areas": null,
      "grid_template_columns": null,
      "grid_template_rows": null,
      "height": null,
      "justify_content": null,
      "justify_items": null,
      "left": null,
      "margin": null,
      "max_height": null,
      "max_width": null,
      "min_height": null,
      "min_width": null,
      "object_fit": null,
      "object_position": null,
      "order": null,
      "overflow": null,
      "overflow_x": null,
      "overflow_y": null,
      "padding": null,
      "right": null,
      "top": null,
      "visibility": null,
      "width": null
     }
    },
    "29736d0b13214dc788a8936bb196be65": {
     "model_module": "@jupyter-widgets/base",
     "model_module_version": "1.2.0",
     "model_name": "LayoutModel",
     "state": {
      "_model_module": "@jupyter-widgets/base",
      "_model_module_version": "1.2.0",
      "_model_name": "LayoutModel",
      "_view_count": null,
      "_view_module": "@jupyter-widgets/base",
      "_view_module_version": "1.2.0",
      "_view_name": "LayoutView",
      "align_content": null,
      "align_items": null,
      "align_self": null,
      "border": null,
      "bottom": null,
      "display": null,
      "flex": null,
      "flex_flow": null,
      "grid_area": null,
      "grid_auto_columns": null,
      "grid_auto_flow": null,
      "grid_auto_rows": null,
      "grid_column": null,
      "grid_gap": null,
      "grid_row": null,
      "grid_template_areas": null,
      "grid_template_columns": null,
      "grid_template_rows": null,
      "height": null,
      "justify_content": null,
      "justify_items": null,
      "left": null,
      "margin": null,
      "max_height": null,
      "max_width": null,
      "min_height": null,
      "min_width": null,
      "object_fit": null,
      "object_position": null,
      "order": null,
      "overflow": null,
      "overflow_x": null,
      "overflow_y": null,
      "padding": null,
      "right": null,
      "top": null,
      "visibility": null,
      "width": null
     }
    },
    "3145786b575f45bc99cea66e5de7230a": {
     "model_module": "@jupyter-widgets/controls",
     "model_module_version": "1.5.0",
     "model_name": "HTMLModel",
     "state": {
      "_dom_classes": [],
      "_model_module": "@jupyter-widgets/controls",
      "_model_module_version": "1.5.0",
      "_model_name": "HTMLModel",
      "_view_count": null,
      "_view_module": "@jupyter-widgets/controls",
      "_view_module_version": "1.5.0",
      "_view_name": "HTMLView",
      "description": "",
      "description_tooltip": null,
      "layout": "IPY_MODEL_51ec942f918c4d31aafa546e474386ec",
      "placeholder": "​",
      "style": "IPY_MODEL_bb19c7fb07e54b8ab4aff71ea6449ed8",
      "value": "Map: 100%"
     }
    },
    "328936ef13994aab8da7422fd4e4b915": {
     "model_module": "@jupyter-widgets/controls",
     "model_module_version": "1.5.0",
     "model_name": "DescriptionStyleModel",
     "state": {
      "_model_module": "@jupyter-widgets/controls",
      "_model_module_version": "1.5.0",
      "_model_name": "DescriptionStyleModel",
      "_view_count": null,
      "_view_module": "@jupyter-widgets/base",
      "_view_module_version": "1.2.0",
      "_view_name": "StyleView",
      "description_width": ""
     }
    },
    "32afe1e73e114beab1ea27c814e723f5": {
     "model_module": "@jupyter-widgets/base",
     "model_module_version": "1.2.0",
     "model_name": "LayoutModel",
     "state": {
      "_model_module": "@jupyter-widgets/base",
      "_model_module_version": "1.2.0",
      "_model_name": "LayoutModel",
      "_view_count": null,
      "_view_module": "@jupyter-widgets/base",
      "_view_module_version": "1.2.0",
      "_view_name": "LayoutView",
      "align_content": null,
      "align_items": null,
      "align_self": null,
      "border": null,
      "bottom": null,
      "display": null,
      "flex": null,
      "flex_flow": null,
      "grid_area": null,
      "grid_auto_columns": null,
      "grid_auto_flow": null,
      "grid_auto_rows": null,
      "grid_column": null,
      "grid_gap": null,
      "grid_row": null,
      "grid_template_areas": null,
      "grid_template_columns": null,
      "grid_template_rows": null,
      "height": null,
      "justify_content": null,
      "justify_items": null,
      "left": null,
      "margin": null,
      "max_height": null,
      "max_width": null,
      "min_height": null,
      "min_width": null,
      "object_fit": null,
      "object_position": null,
      "order": null,
      "overflow": null,
      "overflow_x": null,
      "overflow_y": null,
      "padding": null,
      "right": null,
      "top": null,
      "visibility": null,
      "width": null
     }
    },
    "33f02d18f16c47da96311f4647cc451a": {
     "model_module": "@jupyter-widgets/controls",
     "model_module_version": "1.5.0",
     "model_name": "HTMLModel",
     "state": {
      "_dom_classes": [],
      "_model_module": "@jupyter-widgets/controls",
      "_model_module_version": "1.5.0",
      "_model_name": "HTMLModel",
      "_view_count": null,
      "_view_module": "@jupyter-widgets/controls",
      "_view_module_version": "1.5.0",
      "_view_name": "HTMLView",
      "description": "",
      "description_tooltip": null,
      "layout": "IPY_MODEL_b54b0763ffef45e48f7f9a6b2465f244",
      "placeholder": "​",
      "style": "IPY_MODEL_944f46e92a5c43dd900859bcb72091b8",
      "value": " 446/446 [01:07&lt;00:00, 31.12 examples/s]"
     }
    },
    "3a91093720694d7994854a236a60fba9": {
     "model_module": "@jupyter-widgets/base",
     "model_module_version": "1.2.0",
     "model_name": "LayoutModel",
     "state": {
      "_model_module": "@jupyter-widgets/base",
      "_model_module_version": "1.2.0",
      "_model_name": "LayoutModel",
      "_view_count": null,
      "_view_module": "@jupyter-widgets/base",
      "_view_module_version": "1.2.0",
      "_view_name": "LayoutView",
      "align_content": null,
      "align_items": null,
      "align_self": null,
      "border": null,
      "bottom": null,
      "display": null,
      "flex": null,
      "flex_flow": null,
      "grid_area": null,
      "grid_auto_columns": null,
      "grid_auto_flow": null,
      "grid_auto_rows": null,
      "grid_column": null,
      "grid_gap": null,
      "grid_row": null,
      "grid_template_areas": null,
      "grid_template_columns": null,
      "grid_template_rows": null,
      "height": null,
      "justify_content": null,
      "justify_items": null,
      "left": null,
      "margin": null,
      "max_height": null,
      "max_width": null,
      "min_height": null,
      "min_width": null,
      "object_fit": null,
      "object_position": null,
      "order": null,
      "overflow": null,
      "overflow_x": null,
      "overflow_y": null,
      "padding": null,
      "right": null,
      "top": null,
      "visibility": null,
      "width": null
     }
    },
    "3acc09f5c5ef465abd037c69a4947ca8": {
     "model_module": "@jupyter-widgets/controls",
     "model_module_version": "1.5.0",
     "model_name": "DescriptionStyleModel",
     "state": {
      "_model_module": "@jupyter-widgets/controls",
      "_model_module_version": "1.5.0",
      "_model_name": "DescriptionStyleModel",
      "_view_count": null,
      "_view_module": "@jupyter-widgets/base",
      "_view_module_version": "1.2.0",
      "_view_name": "StyleView",
      "description_width": ""
     }
    },
    "3c6104731b864f24b82391ecb6adcf90": {
     "model_module": "@jupyter-widgets/base",
     "model_module_version": "1.2.0",
     "model_name": "LayoutModel",
     "state": {
      "_model_module": "@jupyter-widgets/base",
      "_model_module_version": "1.2.0",
      "_model_name": "LayoutModel",
      "_view_count": null,
      "_view_module": "@jupyter-widgets/base",
      "_view_module_version": "1.2.0",
      "_view_name": "LayoutView",
      "align_content": null,
      "align_items": null,
      "align_self": null,
      "border": null,
      "bottom": null,
      "display": null,
      "flex": null,
      "flex_flow": null,
      "grid_area": null,
      "grid_auto_columns": null,
      "grid_auto_flow": null,
      "grid_auto_rows": null,
      "grid_column": null,
      "grid_gap": null,
      "grid_row": null,
      "grid_template_areas": null,
      "grid_template_columns": null,
      "grid_template_rows": null,
      "height": null,
      "justify_content": null,
      "justify_items": null,
      "left": null,
      "margin": null,
      "max_height": null,
      "max_width": null,
      "min_height": null,
      "min_width": null,
      "object_fit": null,
      "object_position": null,
      "order": null,
      "overflow": null,
      "overflow_x": null,
      "overflow_y": null,
      "padding": null,
      "right": null,
      "top": null,
      "visibility": null,
      "width": null
     }
    },
    "3f572ae266bb4f65a2c5a422d45ea994": {
     "model_module": "@jupyter-widgets/controls",
     "model_module_version": "1.5.0",
     "model_name": "FloatProgressModel",
     "state": {
      "_dom_classes": [],
      "_model_module": "@jupyter-widgets/controls",
      "_model_module_version": "1.5.0",
      "_model_name": "FloatProgressModel",
      "_view_count": null,
      "_view_module": "@jupyter-widgets/controls",
      "_view_module_version": "1.5.0",
      "_view_name": "ProgressView",
      "bar_style": "success",
      "description": "",
      "description_tooltip": null,
      "layout": "IPY_MODEL_29736d0b13214dc788a8936bb196be65",
      "max": 113,
      "min": 0,
      "orientation": "horizontal",
      "style": "IPY_MODEL_4726d49bed7a48faa78ef5317830c224",
      "value": 113
     }
    },
    "4407e565aa4f40f48757744906de2a62": {
     "model_module": "@jupyter-widgets/controls",
     "model_module_version": "1.5.0",
     "model_name": "HTMLModel",
     "state": {
      "_dom_classes": [],
      "_model_module": "@jupyter-widgets/controls",
      "_model_module_version": "1.5.0",
      "_model_name": "HTMLModel",
      "_view_count": null,
      "_view_module": "@jupyter-widgets/controls",
      "_view_module_version": "1.5.0",
      "_view_name": "HTMLView",
      "description": "",
      "description_tooltip": null,
      "layout": "IPY_MODEL_32afe1e73e114beab1ea27c814e723f5",
      "placeholder": "​",
      "style": "IPY_MODEL_72c04580586b45eb92b752d5a4e47555",
      "value": " 113/113 [00:17&lt;00:00, 36.76 examples/s]"
     }
    },
    "4694db60accb425b9dfb855c171a2cdc": {
     "model_module": "@jupyter-widgets/controls",
     "model_module_version": "1.5.0",
     "model_name": "HTMLModel",
     "state": {
      "_dom_classes": [],
      "_model_module": "@jupyter-widgets/controls",
      "_model_module_version": "1.5.0",
      "_model_name": "HTMLModel",
      "_view_count": null,
      "_view_module": "@jupyter-widgets/controls",
      "_view_module_version": "1.5.0",
      "_view_name": "HTMLView",
      "description": "",
      "description_tooltip": null,
      "layout": "IPY_MODEL_b74d92ca9eca4a9ca69c37395486f9fd",
      "placeholder": "​",
      "style": "IPY_MODEL_9ad597f9e6e14db3a05f138dab62ce52",
      "value": "Map: 100%"
     }
    },
    "4726d49bed7a48faa78ef5317830c224": {
     "model_module": "@jupyter-widgets/controls",
     "model_module_version": "1.5.0",
     "model_name": "ProgressStyleModel",
     "state": {
      "_model_module": "@jupyter-widgets/controls",
      "_model_module_version": "1.5.0",
      "_model_name": "ProgressStyleModel",
      "_view_count": null,
      "_view_module": "@jupyter-widgets/base",
      "_view_module_version": "1.2.0",
      "_view_name": "StyleView",
      "bar_color": null,
      "description_width": ""
     }
    },
    "47a402a9651c4685a44eba2c5186ebc9": {
     "model_module": "@jupyter-widgets/controls",
     "model_module_version": "1.5.0",
     "model_name": "HTMLModel",
     "state": {
      "_dom_classes": [],
      "_model_module": "@jupyter-widgets/controls",
      "_model_module_version": "1.5.0",
      "_model_name": "HTMLModel",
      "_view_count": null,
      "_view_module": "@jupyter-widgets/controls",
      "_view_module_version": "1.5.0",
      "_view_name": "HTMLView",
      "description": "",
      "description_tooltip": null,
      "layout": "IPY_MODEL_f14f8c9460d2481c865c00de0fafe5ae",
      "placeholder": "​",
      "style": "IPY_MODEL_9db5719081b3484b90e34468267aadfe",
      "value": "Map: 100%"
     }
    },
    "48461a08afd543fdaeae273dc097c616": {
     "model_module": "@jupyter-widgets/base",
     "model_module_version": "1.2.0",
     "model_name": "LayoutModel",
     "state": {
      "_model_module": "@jupyter-widgets/base",
      "_model_module_version": "1.2.0",
      "_model_name": "LayoutModel",
      "_view_count": null,
      "_view_module": "@jupyter-widgets/base",
      "_view_module_version": "1.2.0",
      "_view_name": "LayoutView",
      "align_content": null,
      "align_items": null,
      "align_self": null,
      "border": null,
      "bottom": null,
      "display": null,
      "flex": null,
      "flex_flow": null,
      "grid_area": null,
      "grid_auto_columns": null,
      "grid_auto_flow": null,
      "grid_auto_rows": null,
      "grid_column": null,
      "grid_gap": null,
      "grid_row": null,
      "grid_template_areas": null,
      "grid_template_columns": null,
      "grid_template_rows": null,
      "height": null,
      "justify_content": null,
      "justify_items": null,
      "left": null,
      "margin": null,
      "max_height": null,
      "max_width": null,
      "min_height": null,
      "min_width": null,
      "object_fit": null,
      "object_position": null,
      "order": null,
      "overflow": null,
      "overflow_x": null,
      "overflow_y": null,
      "padding": null,
      "right": null,
      "top": null,
      "visibility": null,
      "width": null
     }
    },
    "489c5a4ee3614a61a9b82adb1d1b6308": {
     "model_module": "@jupyter-widgets/base",
     "model_module_version": "1.2.0",
     "model_name": "LayoutModel",
     "state": {
      "_model_module": "@jupyter-widgets/base",
      "_model_module_version": "1.2.0",
      "_model_name": "LayoutModel",
      "_view_count": null,
      "_view_module": "@jupyter-widgets/base",
      "_view_module_version": "1.2.0",
      "_view_name": "LayoutView",
      "align_content": null,
      "align_items": null,
      "align_self": null,
      "border": null,
      "bottom": null,
      "display": null,
      "flex": null,
      "flex_flow": null,
      "grid_area": null,
      "grid_auto_columns": null,
      "grid_auto_flow": null,
      "grid_auto_rows": null,
      "grid_column": null,
      "grid_gap": null,
      "grid_row": null,
      "grid_template_areas": null,
      "grid_template_columns": null,
      "grid_template_rows": null,
      "height": null,
      "justify_content": null,
      "justify_items": null,
      "left": null,
      "margin": null,
      "max_height": null,
      "max_width": null,
      "min_height": null,
      "min_width": null,
      "object_fit": null,
      "object_position": null,
      "order": null,
      "overflow": null,
      "overflow_x": null,
      "overflow_y": null,
      "padding": null,
      "right": null,
      "top": null,
      "visibility": null,
      "width": null
     }
    },
    "48d7fcbbe85349ee92d0c9c9232ccf2a": {
     "model_module": "@jupyter-widgets/controls",
     "model_module_version": "1.5.0",
     "model_name": "ProgressStyleModel",
     "state": {
      "_model_module": "@jupyter-widgets/controls",
      "_model_module_version": "1.5.0",
      "_model_name": "ProgressStyleModel",
      "_view_count": null,
      "_view_module": "@jupyter-widgets/base",
      "_view_module_version": "1.2.0",
      "_view_name": "StyleView",
      "bar_color": null,
      "description_width": ""
     }
    },
    "50553080642048b586b5bed7b72a84d6": {
     "model_module": "@jupyter-widgets/controls",
     "model_module_version": "1.5.0",
     "model_name": "FloatProgressModel",
     "state": {
      "_dom_classes": [],
      "_model_module": "@jupyter-widgets/controls",
      "_model_module_version": "1.5.0",
      "_model_name": "FloatProgressModel",
      "_view_count": null,
      "_view_module": "@jupyter-widgets/controls",
      "_view_module_version": "1.5.0",
      "_view_name": "ProgressView",
      "bar_style": "success",
      "description": "",
      "description_tooltip": null,
      "layout": "IPY_MODEL_e6b75f3d67af46c0a73e33be3e1aee60",
      "max": 446,
      "min": 0,
      "orientation": "horizontal",
      "style": "IPY_MODEL_72b2ba161ac94d1ba1a0ee1d3168ebce",
      "value": 446
     }
    },
    "51ec942f918c4d31aafa546e474386ec": {
     "model_module": "@jupyter-widgets/base",
     "model_module_version": "1.2.0",
     "model_name": "LayoutModel",
     "state": {
      "_model_module": "@jupyter-widgets/base",
      "_model_module_version": "1.2.0",
      "_model_name": "LayoutModel",
      "_view_count": null,
      "_view_module": "@jupyter-widgets/base",
      "_view_module_version": "1.2.0",
      "_view_name": "LayoutView",
      "align_content": null,
      "align_items": null,
      "align_self": null,
      "border": null,
      "bottom": null,
      "display": null,
      "flex": null,
      "flex_flow": null,
      "grid_area": null,
      "grid_auto_columns": null,
      "grid_auto_flow": null,
      "grid_auto_rows": null,
      "grid_column": null,
      "grid_gap": null,
      "grid_row": null,
      "grid_template_areas": null,
      "grid_template_columns": null,
      "grid_template_rows": null,
      "height": null,
      "justify_content": null,
      "justify_items": null,
      "left": null,
      "margin": null,
      "max_height": null,
      "max_width": null,
      "min_height": null,
      "min_width": null,
      "object_fit": null,
      "object_position": null,
      "order": null,
      "overflow": null,
      "overflow_x": null,
      "overflow_y": null,
      "padding": null,
      "right": null,
      "top": null,
      "visibility": null,
      "width": null
     }
    },
    "574936a0e4464a41a66d8d4c0b7485d2": {
     "model_module": "@jupyter-widgets/base",
     "model_module_version": "1.2.0",
     "model_name": "LayoutModel",
     "state": {
      "_model_module": "@jupyter-widgets/base",
      "_model_module_version": "1.2.0",
      "_model_name": "LayoutModel",
      "_view_count": null,
      "_view_module": "@jupyter-widgets/base",
      "_view_module_version": "1.2.0",
      "_view_name": "LayoutView",
      "align_content": null,
      "align_items": null,
      "align_self": null,
      "border": null,
      "bottom": null,
      "display": null,
      "flex": null,
      "flex_flow": null,
      "grid_area": null,
      "grid_auto_columns": null,
      "grid_auto_flow": null,
      "grid_auto_rows": null,
      "grid_column": null,
      "grid_gap": null,
      "grid_row": null,
      "grid_template_areas": null,
      "grid_template_columns": null,
      "grid_template_rows": null,
      "height": null,
      "justify_content": null,
      "justify_items": null,
      "left": null,
      "margin": null,
      "max_height": null,
      "max_width": null,
      "min_height": null,
      "min_width": null,
      "object_fit": null,
      "object_position": null,
      "order": null,
      "overflow": null,
      "overflow_x": null,
      "overflow_y": null,
      "padding": null,
      "right": null,
      "top": null,
      "visibility": null,
      "width": null
     }
    },
    "5b3df3dd0edb48669c1b1193bc00cfd4": {
     "model_module": "@jupyter-widgets/controls",
     "model_module_version": "1.5.0",
     "model_name": "HTMLModel",
     "state": {
      "_dom_classes": [],
      "_model_module": "@jupyter-widgets/controls",
      "_model_module_version": "1.5.0",
      "_model_name": "HTMLModel",
      "_view_count": null,
      "_view_module": "@jupyter-widgets/controls",
      "_view_module_version": "1.5.0",
      "_view_name": "HTMLView",
      "description": "",
      "description_tooltip": null,
      "layout": "IPY_MODEL_d551dc0756a8498f8ef1e9cfc038a989",
      "placeholder": "​",
      "style": "IPY_MODEL_328936ef13994aab8da7422fd4e4b915",
      "value": " 446/446 [00:57&lt;00:00,  3.02 examples/s]"
     }
    },
    "5db0287a2f6a4fc6b36537e4bea7db72": {
     "model_module": "@jupyter-widgets/base",
     "model_module_version": "1.2.0",
     "model_name": "LayoutModel",
     "state": {
      "_model_module": "@jupyter-widgets/base",
      "_model_module_version": "1.2.0",
      "_model_name": "LayoutModel",
      "_view_count": null,
      "_view_module": "@jupyter-widgets/base",
      "_view_module_version": "1.2.0",
      "_view_name": "LayoutView",
      "align_content": null,
      "align_items": null,
      "align_self": null,
      "border": null,
      "bottom": null,
      "display": null,
      "flex": null,
      "flex_flow": null,
      "grid_area": null,
      "grid_auto_columns": null,
      "grid_auto_flow": null,
      "grid_auto_rows": null,
      "grid_column": null,
      "grid_gap": null,
      "grid_row": null,
      "grid_template_areas": null,
      "grid_template_columns": null,
      "grid_template_rows": null,
      "height": null,
      "justify_content": null,
      "justify_items": null,
      "left": null,
      "margin": null,
      "max_height": null,
      "max_width": null,
      "min_height": null,
      "min_width": null,
      "object_fit": null,
      "object_position": null,
      "order": null,
      "overflow": null,
      "overflow_x": null,
      "overflow_y": null,
      "padding": null,
      "right": null,
      "top": null,
      "visibility": null,
      "width": null
     }
    },
    "606336d3ec244de9a245a3dc1dbfbeaa": {
     "model_module": "@jupyter-widgets/controls",
     "model_module_version": "1.5.0",
     "model_name": "DescriptionStyleModel",
     "state": {
      "_model_module": "@jupyter-widgets/controls",
      "_model_module_version": "1.5.0",
      "_model_name": "DescriptionStyleModel",
      "_view_count": null,
      "_view_module": "@jupyter-widgets/base",
      "_view_module_version": "1.2.0",
      "_view_name": "StyleView",
      "description_width": ""
     }
    },
    "60f086b079df4e718f60204367bf1811": {
     "model_module": "@jupyter-widgets/base",
     "model_module_version": "1.2.0",
     "model_name": "LayoutModel",
     "state": {
      "_model_module": "@jupyter-widgets/base",
      "_model_module_version": "1.2.0",
      "_model_name": "LayoutModel",
      "_view_count": null,
      "_view_module": "@jupyter-widgets/base",
      "_view_module_version": "1.2.0",
      "_view_name": "LayoutView",
      "align_content": null,
      "align_items": null,
      "align_self": null,
      "border": null,
      "bottom": null,
      "display": null,
      "flex": null,
      "flex_flow": null,
      "grid_area": null,
      "grid_auto_columns": null,
      "grid_auto_flow": null,
      "grid_auto_rows": null,
      "grid_column": null,
      "grid_gap": null,
      "grid_row": null,
      "grid_template_areas": null,
      "grid_template_columns": null,
      "grid_template_rows": null,
      "height": null,
      "justify_content": null,
      "justify_items": null,
      "left": null,
      "margin": null,
      "max_height": null,
      "max_width": null,
      "min_height": null,
      "min_width": null,
      "object_fit": null,
      "object_position": null,
      "order": null,
      "overflow": null,
      "overflow_x": null,
      "overflow_y": null,
      "padding": null,
      "right": null,
      "top": null,
      "visibility": null,
      "width": null
     }
    },
    "68cd4c20c96746bbb22ab2c5c87b4ba1": {
     "model_module": "@jupyter-widgets/controls",
     "model_module_version": "1.5.0",
     "model_name": "FloatProgressModel",
     "state": {
      "_dom_classes": [],
      "_model_module": "@jupyter-widgets/controls",
      "_model_module_version": "1.5.0",
      "_model_name": "FloatProgressModel",
      "_view_count": null,
      "_view_module": "@jupyter-widgets/controls",
      "_view_module_version": "1.5.0",
      "_view_name": "ProgressView",
      "bar_style": "success",
      "description": "",
      "description_tooltip": null,
      "layout": "IPY_MODEL_5db0287a2f6a4fc6b36537e4bea7db72",
      "max": 446,
      "min": 0,
      "orientation": "horizontal",
      "style": "IPY_MODEL_c1592c38ba19433c8dae9d0ec4c748eb",
      "value": 446
     }
    },
    "68e0b2b99c3b4696827ba5343e07c6dc": {
     "model_module": "@jupyter-widgets/controls",
     "model_module_version": "1.5.0",
     "model_name": "ProgressStyleModel",
     "state": {
      "_model_module": "@jupyter-widgets/controls",
      "_model_module_version": "1.5.0",
      "_model_name": "ProgressStyleModel",
      "_view_count": null,
      "_view_module": "@jupyter-widgets/base",
      "_view_module_version": "1.2.0",
      "_view_name": "StyleView",
      "bar_color": null,
      "description_width": ""
     }
    },
    "6ee2463c897c448f885b0a7d122be034": {
     "model_module": "@jupyter-widgets/controls",
     "model_module_version": "1.5.0",
     "model_name": "HTMLModel",
     "state": {
      "_dom_classes": [],
      "_model_module": "@jupyter-widgets/controls",
      "_model_module_version": "1.5.0",
      "_model_name": "HTMLModel",
      "_view_count": null,
      "_view_module": "@jupyter-widgets/controls",
      "_view_module_version": "1.5.0",
      "_view_name": "HTMLView",
      "description": "",
      "description_tooltip": null,
      "layout": "IPY_MODEL_c406abe222c44452b3806a50ee703b6e",
      "placeholder": "​",
      "style": "IPY_MODEL_6fd86de060884ab1a4e3f9446bdac05f",
      "value": "Downloading builder script: 100%"
     }
    },
    "6fd86de060884ab1a4e3f9446bdac05f": {
     "model_module": "@jupyter-widgets/controls",
     "model_module_version": "1.5.0",
     "model_name": "DescriptionStyleModel",
     "state": {
      "_model_module": "@jupyter-widgets/controls",
      "_model_module_version": "1.5.0",
      "_model_name": "DescriptionStyleModel",
      "_view_count": null,
      "_view_module": "@jupyter-widgets/base",
      "_view_module_version": "1.2.0",
      "_view_name": "StyleView",
      "description_width": ""
     }
    },
    "717ea14966b144a38a404d0080d9139b": {
     "model_module": "@jupyter-widgets/base",
     "model_module_version": "1.2.0",
     "model_name": "LayoutModel",
     "state": {
      "_model_module": "@jupyter-widgets/base",
      "_model_module_version": "1.2.0",
      "_model_name": "LayoutModel",
      "_view_count": null,
      "_view_module": "@jupyter-widgets/base",
      "_view_module_version": "1.2.0",
      "_view_name": "LayoutView",
      "align_content": null,
      "align_items": null,
      "align_self": null,
      "border": null,
      "bottom": null,
      "display": null,
      "flex": null,
      "flex_flow": null,
      "grid_area": null,
      "grid_auto_columns": null,
      "grid_auto_flow": null,
      "grid_auto_rows": null,
      "grid_column": null,
      "grid_gap": null,
      "grid_row": null,
      "grid_template_areas": null,
      "grid_template_columns": null,
      "grid_template_rows": null,
      "height": null,
      "justify_content": null,
      "justify_items": null,
      "left": null,
      "margin": null,
      "max_height": null,
      "max_width": null,
      "min_height": null,
      "min_width": null,
      "object_fit": null,
      "object_position": null,
      "order": null,
      "overflow": null,
      "overflow_x": null,
      "overflow_y": null,
      "padding": null,
      "right": null,
      "top": null,
      "visibility": null,
      "width": null
     }
    },
    "72b2ba161ac94d1ba1a0ee1d3168ebce": {
     "model_module": "@jupyter-widgets/controls",
     "model_module_version": "1.5.0",
     "model_name": "ProgressStyleModel",
     "state": {
      "_model_module": "@jupyter-widgets/controls",
      "_model_module_version": "1.5.0",
      "_model_name": "ProgressStyleModel",
      "_view_count": null,
      "_view_module": "@jupyter-widgets/base",
      "_view_module_version": "1.2.0",
      "_view_name": "StyleView",
      "bar_color": null,
      "description_width": ""
     }
    },
    "72c04580586b45eb92b752d5a4e47555": {
     "model_module": "@jupyter-widgets/controls",
     "model_module_version": "1.5.0",
     "model_name": "DescriptionStyleModel",
     "state": {
      "_model_module": "@jupyter-widgets/controls",
      "_model_module_version": "1.5.0",
      "_model_name": "DescriptionStyleModel",
      "_view_count": null,
      "_view_module": "@jupyter-widgets/base",
      "_view_module_version": "1.2.0",
      "_view_name": "StyleView",
      "description_width": ""
     }
    },
    "75b67e0980b347bd810e70580d0a130f": {
     "model_module": "@jupyter-widgets/controls",
     "model_module_version": "1.5.0",
     "model_name": "FloatProgressModel",
     "state": {
      "_dom_classes": [],
      "_model_module": "@jupyter-widgets/controls",
      "_model_module_version": "1.5.0",
      "_model_name": "FloatProgressModel",
      "_view_count": null,
      "_view_module": "@jupyter-widgets/controls",
      "_view_module_version": "1.5.0",
      "_view_name": "ProgressView",
      "bar_style": "success",
      "description": "",
      "description_tooltip": null,
      "layout": "IPY_MODEL_87334246606648ed94f73119ead1f56c",
      "max": 113,
      "min": 0,
      "orientation": "horizontal",
      "style": "IPY_MODEL_68e0b2b99c3b4696827ba5343e07c6dc",
      "value": 113
     }
    },
    "79af4e01799f483c8ac6d9ea524193db": {
     "model_module": "@jupyter-widgets/controls",
     "model_module_version": "1.5.0",
     "model_name": "HTMLModel",
     "state": {
      "_dom_classes": [],
      "_model_module": "@jupyter-widgets/controls",
      "_model_module_version": "1.5.0",
      "_model_name": "HTMLModel",
      "_view_count": null,
      "_view_module": "@jupyter-widgets/controls",
      "_view_module_version": "1.5.0",
      "_view_name": "HTMLView",
      "description": "",
      "description_tooltip": null,
      "layout": "IPY_MODEL_3a91093720694d7994854a236a60fba9",
      "placeholder": "​",
      "style": "IPY_MODEL_606336d3ec244de9a245a3dc1dbfbeaa",
      "value": " 446/446 [00:00&lt;00:00, 1835.02 examples/s]"
     }
    },
    "846bc052d93f455a88009f3a67c8b029": {
     "model_module": "@jupyter-widgets/controls",
     "model_module_version": "1.5.0",
     "model_name": "HTMLModel",
     "state": {
      "_dom_classes": [],
      "_model_module": "@jupyter-widgets/controls",
      "_model_module_version": "1.5.0",
      "_model_name": "HTMLModel",
      "_view_count": null,
      "_view_module": "@jupyter-widgets/controls",
      "_view_module_version": "1.5.0",
      "_view_name": "HTMLView",
      "description": "",
      "description_tooltip": null,
      "layout": "IPY_MODEL_574936a0e4464a41a66d8d4c0b7485d2",
      "placeholder": "​",
      "style": "IPY_MODEL_91f0c466f01d4ef58acbd9402ff28153",
      "value": " 113/113 [00:00&lt;00:00, 1480.67 examples/s]"
     }
    },
    "8491d74f795347e59cb5fcee199d715f": {
     "model_module": "@jupyter-widgets/base",
     "model_module_version": "1.2.0",
     "model_name": "LayoutModel",
     "state": {
      "_model_module": "@jupyter-widgets/base",
      "_model_module_version": "1.2.0",
      "_model_name": "LayoutModel",
      "_view_count": null,
      "_view_module": "@jupyter-widgets/base",
      "_view_module_version": "1.2.0",
      "_view_name": "LayoutView",
      "align_content": null,
      "align_items": null,
      "align_self": null,
      "border": null,
      "bottom": null,
      "display": null,
      "flex": null,
      "flex_flow": null,
      "grid_area": null,
      "grid_auto_columns": null,
      "grid_auto_flow": null,
      "grid_auto_rows": null,
      "grid_column": null,
      "grid_gap": null,
      "grid_row": null,
      "grid_template_areas": null,
      "grid_template_columns": null,
      "grid_template_rows": null,
      "height": null,
      "justify_content": null,
      "justify_items": null,
      "left": null,
      "margin": null,
      "max_height": null,
      "max_width": null,
      "min_height": null,
      "min_width": null,
      "object_fit": null,
      "object_position": null,
      "order": null,
      "overflow": null,
      "overflow_x": null,
      "overflow_y": null,
      "padding": null,
      "right": null,
      "top": null,
      "visibility": null,
      "width": null
     }
    },
    "87334246606648ed94f73119ead1f56c": {
     "model_module": "@jupyter-widgets/base",
     "model_module_version": "1.2.0",
     "model_name": "LayoutModel",
     "state": {
      "_model_module": "@jupyter-widgets/base",
      "_model_module_version": "1.2.0",
      "_model_name": "LayoutModel",
      "_view_count": null,
      "_view_module": "@jupyter-widgets/base",
      "_view_module_version": "1.2.0",
      "_view_name": "LayoutView",
      "align_content": null,
      "align_items": null,
      "align_self": null,
      "border": null,
      "bottom": null,
      "display": null,
      "flex": null,
      "flex_flow": null,
      "grid_area": null,
      "grid_auto_columns": null,
      "grid_auto_flow": null,
      "grid_auto_rows": null,
      "grid_column": null,
      "grid_gap": null,
      "grid_row": null,
      "grid_template_areas": null,
      "grid_template_columns": null,
      "grid_template_rows": null,
      "height": null,
      "justify_content": null,
      "justify_items": null,
      "left": null,
      "margin": null,
      "max_height": null,
      "max_width": null,
      "min_height": null,
      "min_width": null,
      "object_fit": null,
      "object_position": null,
      "order": null,
      "overflow": null,
      "overflow_x": null,
      "overflow_y": null,
      "padding": null,
      "right": null,
      "top": null,
      "visibility": null,
      "width": null
     }
    },
    "91f0c466f01d4ef58acbd9402ff28153": {
     "model_module": "@jupyter-widgets/controls",
     "model_module_version": "1.5.0",
     "model_name": "DescriptionStyleModel",
     "state": {
      "_model_module": "@jupyter-widgets/controls",
      "_model_module_version": "1.5.0",
      "_model_name": "DescriptionStyleModel",
      "_view_count": null,
      "_view_module": "@jupyter-widgets/base",
      "_view_module_version": "1.2.0",
      "_view_name": "StyleView",
      "description_width": ""
     }
    },
    "944f46e92a5c43dd900859bcb72091b8": {
     "model_module": "@jupyter-widgets/controls",
     "model_module_version": "1.5.0",
     "model_name": "DescriptionStyleModel",
     "state": {
      "_model_module": "@jupyter-widgets/controls",
      "_model_module_version": "1.5.0",
      "_model_name": "DescriptionStyleModel",
      "_view_count": null,
      "_view_module": "@jupyter-widgets/base",
      "_view_module_version": "1.2.0",
      "_view_name": "StyleView",
      "description_width": ""
     }
    },
    "9914e4309f5e4135a05c96c11fcc85ed": {
     "model_module": "@jupyter-widgets/controls",
     "model_module_version": "1.5.0",
     "model_name": "HTMLModel",
     "state": {
      "_dom_classes": [],
      "_model_module": "@jupyter-widgets/controls",
      "_model_module_version": "1.5.0",
      "_model_name": "HTMLModel",
      "_view_count": null,
      "_view_module": "@jupyter-widgets/controls",
      "_view_module_version": "1.5.0",
      "_view_name": "HTMLView",
      "description": "",
      "description_tooltip": null,
      "layout": "IPY_MODEL_bb45533a621942b08c266e66d9697e3a",
      "placeholder": "​",
      "style": "IPY_MODEL_e6d76264a65a45e69366ea8add36d466",
      "value": " 4.49k/4.49k [00:00&lt;00:00, 442kB/s]"
     }
    },
    "9ad597f9e6e14db3a05f138dab62ce52": {
     "model_module": "@jupyter-widgets/controls",
     "model_module_version": "1.5.0",
     "model_name": "DescriptionStyleModel",
     "state": {
      "_model_module": "@jupyter-widgets/controls",
      "_model_module_version": "1.5.0",
      "_model_name": "DescriptionStyleModel",
      "_view_count": null,
      "_view_module": "@jupyter-widgets/base",
      "_view_module_version": "1.2.0",
      "_view_name": "StyleView",
      "description_width": ""
     }
    },
    "9bd95aea65e14d80aa3f711416c03236": {
     "model_module": "@jupyter-widgets/controls",
     "model_module_version": "1.5.0",
     "model_name": "DescriptionStyleModel",
     "state": {
      "_model_module": "@jupyter-widgets/controls",
      "_model_module_version": "1.5.0",
      "_model_name": "DescriptionStyleModel",
      "_view_count": null,
      "_view_module": "@jupyter-widgets/base",
      "_view_module_version": "1.2.0",
      "_view_name": "StyleView",
      "description_width": ""
     }
    },
    "9d55f02847194474b0d6e378ea1b352e": {
     "model_module": "@jupyter-widgets/base",
     "model_module_version": "1.2.0",
     "model_name": "LayoutModel",
     "state": {
      "_model_module": "@jupyter-widgets/base",
      "_model_module_version": "1.2.0",
      "_model_name": "LayoutModel",
      "_view_count": null,
      "_view_module": "@jupyter-widgets/base",
      "_view_module_version": "1.2.0",
      "_view_name": "LayoutView",
      "align_content": null,
      "align_items": null,
      "align_self": null,
      "border": null,
      "bottom": null,
      "display": null,
      "flex": null,
      "flex_flow": null,
      "grid_area": null,
      "grid_auto_columns": null,
      "grid_auto_flow": null,
      "grid_auto_rows": null,
      "grid_column": null,
      "grid_gap": null,
      "grid_row": null,
      "grid_template_areas": null,
      "grid_template_columns": null,
      "grid_template_rows": null,
      "height": null,
      "justify_content": null,
      "justify_items": null,
      "left": null,
      "margin": null,
      "max_height": null,
      "max_width": null,
      "min_height": null,
      "min_width": null,
      "object_fit": null,
      "object_position": null,
      "order": null,
      "overflow": null,
      "overflow_x": null,
      "overflow_y": null,
      "padding": null,
      "right": null,
      "top": null,
      "visibility": null,
      "width": null
     }
    },
    "9db5719081b3484b90e34468267aadfe": {
     "model_module": "@jupyter-widgets/controls",
     "model_module_version": "1.5.0",
     "model_name": "DescriptionStyleModel",
     "state": {
      "_model_module": "@jupyter-widgets/controls",
      "_model_module_version": "1.5.0",
      "_model_name": "DescriptionStyleModel",
      "_view_count": null,
      "_view_module": "@jupyter-widgets/base",
      "_view_module_version": "1.2.0",
      "_view_name": "StyleView",
      "description_width": ""
     }
    },
    "a322060528e44264bac4e065cf80b79c": {
     "model_module": "@jupyter-widgets/base",
     "model_module_version": "1.2.0",
     "model_name": "LayoutModel",
     "state": {
      "_model_module": "@jupyter-widgets/base",
      "_model_module_version": "1.2.0",
      "_model_name": "LayoutModel",
      "_view_count": null,
      "_view_module": "@jupyter-widgets/base",
      "_view_module_version": "1.2.0",
      "_view_name": "LayoutView",
      "align_content": null,
      "align_items": null,
      "align_self": null,
      "border": null,
      "bottom": null,
      "display": null,
      "flex": null,
      "flex_flow": null,
      "grid_area": null,
      "grid_auto_columns": null,
      "grid_auto_flow": null,
      "grid_auto_rows": null,
      "grid_column": null,
      "grid_gap": null,
      "grid_row": null,
      "grid_template_areas": null,
      "grid_template_columns": null,
      "grid_template_rows": null,
      "height": null,
      "justify_content": null,
      "justify_items": null,
      "left": null,
      "margin": null,
      "max_height": null,
      "max_width": null,
      "min_height": null,
      "min_width": null,
      "object_fit": null,
      "object_position": null,
      "order": null,
      "overflow": null,
      "overflow_x": null,
      "overflow_y": null,
      "padding": null,
      "right": null,
      "top": null,
      "visibility": null,
      "width": null
     }
    },
    "aa5e8bde31fc4e4aa6bd02bd209fbf31": {
     "model_module": "@jupyter-widgets/controls",
     "model_module_version": "1.5.0",
     "model_name": "HBoxModel",
     "state": {
      "_dom_classes": [],
      "_model_module": "@jupyter-widgets/controls",
      "_model_module_version": "1.5.0",
      "_model_name": "HBoxModel",
      "_view_count": null,
      "_view_module": "@jupyter-widgets/controls",
      "_view_module_version": "1.5.0",
      "_view_name": "HBoxView",
      "box_style": "",
      "children": [
       "IPY_MODEL_c97a115c7505434db2a1145b7eb33ac5",
       "IPY_MODEL_75b67e0980b347bd810e70580d0a130f",
       "IPY_MODEL_1ddd1baa2d4f47bb9d068e079d878471"
      ],
      "layout": "IPY_MODEL_9d55f02847194474b0d6e378ea1b352e"
     }
    },
    "ae078ac514e64dd6b48d76fe96fde01f": {
     "model_module": "@jupyter-widgets/controls",
     "model_module_version": "1.5.0",
     "model_name": "FloatProgressModel",
     "state": {
      "_dom_classes": [],
      "_model_module": "@jupyter-widgets/controls",
      "_model_module_version": "1.5.0",
      "_model_name": "FloatProgressModel",
      "_view_count": null,
      "_view_module": "@jupyter-widgets/controls",
      "_view_module_version": "1.5.0",
      "_view_name": "ProgressView",
      "bar_style": "success",
      "description": "",
      "description_tooltip": null,
      "layout": "IPY_MODEL_ead3213dd61546f99890351960c37c28",
      "max": 446,
      "min": 0,
      "orientation": "horizontal",
      "style": "IPY_MODEL_18b09735d47d47f0a610fd675130f6ea",
      "value": 446
     }
    },
    "aee98016593f4ae7b8dcb92a6e708ec4": {
     "model_module": "@jupyter-widgets/controls",
     "model_module_version": "1.5.0",
     "model_name": "DescriptionStyleModel",
     "state": {
      "_model_module": "@jupyter-widgets/controls",
      "_model_module_version": "1.5.0",
      "_model_name": "DescriptionStyleModel",
      "_view_count": null,
      "_view_module": "@jupyter-widgets/base",
      "_view_module_version": "1.2.0",
      "_view_name": "StyleView",
      "description_width": ""
     }
    },
    "b5435d810c7e422c96410a29603e7552": {
     "model_module": "@jupyter-widgets/controls",
     "model_module_version": "1.5.0",
     "model_name": "HBoxModel",
     "state": {
      "_dom_classes": [],
      "_model_module": "@jupyter-widgets/controls",
      "_model_module_version": "1.5.0",
      "_model_name": "HBoxModel",
      "_view_count": null,
      "_view_module": "@jupyter-widgets/controls",
      "_view_module_version": "1.5.0",
      "_view_name": "HBoxView",
      "box_style": "",
      "children": [
       "IPY_MODEL_4694db60accb425b9dfb855c171a2cdc",
       "IPY_MODEL_3f572ae266bb4f65a2c5a422d45ea994",
       "IPY_MODEL_846bc052d93f455a88009f3a67c8b029"
      ],
      "layout": "IPY_MODEL_ee757fccb8844b00891bed6485356d01"
     }
    },
    "b54b0763ffef45e48f7f9a6b2465f244": {
     "model_module": "@jupyter-widgets/base",
     "model_module_version": "1.2.0",
     "model_name": "LayoutModel",
     "state": {
      "_model_module": "@jupyter-widgets/base",
      "_model_module_version": "1.2.0",
      "_model_name": "LayoutModel",
      "_view_count": null,
      "_view_module": "@jupyter-widgets/base",
      "_view_module_version": "1.2.0",
      "_view_name": "LayoutView",
      "align_content": null,
      "align_items": null,
      "align_self": null,
      "border": null,
      "bottom": null,
      "display": null,
      "flex": null,
      "flex_flow": null,
      "grid_area": null,
      "grid_auto_columns": null,
      "grid_auto_flow": null,
      "grid_auto_rows": null,
      "grid_column": null,
      "grid_gap": null,
      "grid_row": null,
      "grid_template_areas": null,
      "grid_template_columns": null,
      "grid_template_rows": null,
      "height": null,
      "justify_content": null,
      "justify_items": null,
      "left": null,
      "margin": null,
      "max_height": null,
      "max_width": null,
      "min_height": null,
      "min_width": null,
      "object_fit": null,
      "object_position": null,
      "order": null,
      "overflow": null,
      "overflow_x": null,
      "overflow_y": null,
      "padding": null,
      "right": null,
      "top": null,
      "visibility": null,
      "width": null
     }
    },
    "b74d92ca9eca4a9ca69c37395486f9fd": {
     "model_module": "@jupyter-widgets/base",
     "model_module_version": "1.2.0",
     "model_name": "LayoutModel",
     "state": {
      "_model_module": "@jupyter-widgets/base",
      "_model_module_version": "1.2.0",
      "_model_name": "LayoutModel",
      "_view_count": null,
      "_view_module": "@jupyter-widgets/base",
      "_view_module_version": "1.2.0",
      "_view_name": "LayoutView",
      "align_content": null,
      "align_items": null,
      "align_self": null,
      "border": null,
      "bottom": null,
      "display": null,
      "flex": null,
      "flex_flow": null,
      "grid_area": null,
      "grid_auto_columns": null,
      "grid_auto_flow": null,
      "grid_auto_rows": null,
      "grid_column": null,
      "grid_gap": null,
      "grid_row": null,
      "grid_template_areas": null,
      "grid_template_columns": null,
      "grid_template_rows": null,
      "height": null,
      "justify_content": null,
      "justify_items": null,
      "left": null,
      "margin": null,
      "max_height": null,
      "max_width": null,
      "min_height": null,
      "min_width": null,
      "object_fit": null,
      "object_position": null,
      "order": null,
      "overflow": null,
      "overflow_x": null,
      "overflow_y": null,
      "padding": null,
      "right": null,
      "top": null,
      "visibility": null,
      "width": null
     }
    },
    "b8878a87f6f84a5484c7696890123cf3": {
     "model_module": "@jupyter-widgets/base",
     "model_module_version": "1.2.0",
     "model_name": "LayoutModel",
     "state": {
      "_model_module": "@jupyter-widgets/base",
      "_model_module_version": "1.2.0",
      "_model_name": "LayoutModel",
      "_view_count": null,
      "_view_module": "@jupyter-widgets/base",
      "_view_module_version": "1.2.0",
      "_view_name": "LayoutView",
      "align_content": null,
      "align_items": null,
      "align_self": null,
      "border": null,
      "bottom": null,
      "display": null,
      "flex": null,
      "flex_flow": null,
      "grid_area": null,
      "grid_auto_columns": null,
      "grid_auto_flow": null,
      "grid_auto_rows": null,
      "grid_column": null,
      "grid_gap": null,
      "grid_row": null,
      "grid_template_areas": null,
      "grid_template_columns": null,
      "grid_template_rows": null,
      "height": null,
      "justify_content": null,
      "justify_items": null,
      "left": null,
      "margin": null,
      "max_height": null,
      "max_width": null,
      "min_height": null,
      "min_width": null,
      "object_fit": null,
      "object_position": null,
      "order": null,
      "overflow": null,
      "overflow_x": null,
      "overflow_y": null,
      "padding": null,
      "right": null,
      "top": null,
      "visibility": null,
      "width": null
     }
    },
    "bb19c7fb07e54b8ab4aff71ea6449ed8": {
     "model_module": "@jupyter-widgets/controls",
     "model_module_version": "1.5.0",
     "model_name": "DescriptionStyleModel",
     "state": {
      "_model_module": "@jupyter-widgets/controls",
      "_model_module_version": "1.5.0",
      "_model_name": "DescriptionStyleModel",
      "_view_count": null,
      "_view_module": "@jupyter-widgets/base",
      "_view_module_version": "1.2.0",
      "_view_name": "StyleView",
      "description_width": ""
     }
    },
    "bb45533a621942b08c266e66d9697e3a": {
     "model_module": "@jupyter-widgets/base",
     "model_module_version": "1.2.0",
     "model_name": "LayoutModel",
     "state": {
      "_model_module": "@jupyter-widgets/base",
      "_model_module_version": "1.2.0",
      "_model_name": "LayoutModel",
      "_view_count": null,
      "_view_module": "@jupyter-widgets/base",
      "_view_module_version": "1.2.0",
      "_view_name": "LayoutView",
      "align_content": null,
      "align_items": null,
      "align_self": null,
      "border": null,
      "bottom": null,
      "display": null,
      "flex": null,
      "flex_flow": null,
      "grid_area": null,
      "grid_auto_columns": null,
      "grid_auto_flow": null,
      "grid_auto_rows": null,
      "grid_column": null,
      "grid_gap": null,
      "grid_row": null,
      "grid_template_areas": null,
      "grid_template_columns": null,
      "grid_template_rows": null,
      "height": null,
      "justify_content": null,
      "justify_items": null,
      "left": null,
      "margin": null,
      "max_height": null,
      "max_width": null,
      "min_height": null,
      "min_width": null,
      "object_fit": null,
      "object_position": null,
      "order": null,
      "overflow": null,
      "overflow_x": null,
      "overflow_y": null,
      "padding": null,
      "right": null,
      "top": null,
      "visibility": null,
      "width": null
     }
    },
    "c1592c38ba19433c8dae9d0ec4c748eb": {
     "model_module": "@jupyter-widgets/controls",
     "model_module_version": "1.5.0",
     "model_name": "ProgressStyleModel",
     "state": {
      "_model_module": "@jupyter-widgets/controls",
      "_model_module_version": "1.5.0",
      "_model_name": "ProgressStyleModel",
      "_view_count": null,
      "_view_module": "@jupyter-widgets/base",
      "_view_module_version": "1.2.0",
      "_view_name": "StyleView",
      "bar_color": null,
      "description_width": ""
     }
    },
    "c406abe222c44452b3806a50ee703b6e": {
     "model_module": "@jupyter-widgets/base",
     "model_module_version": "1.2.0",
     "model_name": "LayoutModel",
     "state": {
      "_model_module": "@jupyter-widgets/base",
      "_model_module_version": "1.2.0",
      "_model_name": "LayoutModel",
      "_view_count": null,
      "_view_module": "@jupyter-widgets/base",
      "_view_module_version": "1.2.0",
      "_view_name": "LayoutView",
      "align_content": null,
      "align_items": null,
      "align_self": null,
      "border": null,
      "bottom": null,
      "display": null,
      "flex": null,
      "flex_flow": null,
      "grid_area": null,
      "grid_auto_columns": null,
      "grid_auto_flow": null,
      "grid_auto_rows": null,
      "grid_column": null,
      "grid_gap": null,
      "grid_row": null,
      "grid_template_areas": null,
      "grid_template_columns": null,
      "grid_template_rows": null,
      "height": null,
      "justify_content": null,
      "justify_items": null,
      "left": null,
      "margin": null,
      "max_height": null,
      "max_width": null,
      "min_height": null,
      "min_width": null,
      "object_fit": null,
      "object_position": null,
      "order": null,
      "overflow": null,
      "overflow_x": null,
      "overflow_y": null,
      "padding": null,
      "right": null,
      "top": null,
      "visibility": null,
      "width": null
     }
    },
    "c8653984734a4278b291d00ae7fd1a43": {
     "model_module": "@jupyter-widgets/base",
     "model_module_version": "1.2.0",
     "model_name": "LayoutModel",
     "state": {
      "_model_module": "@jupyter-widgets/base",
      "_model_module_version": "1.2.0",
      "_model_name": "LayoutModel",
      "_view_count": null,
      "_view_module": "@jupyter-widgets/base",
      "_view_module_version": "1.2.0",
      "_view_name": "LayoutView",
      "align_content": null,
      "align_items": null,
      "align_self": null,
      "border": null,
      "bottom": null,
      "display": null,
      "flex": null,
      "flex_flow": null,
      "grid_area": null,
      "grid_auto_columns": null,
      "grid_auto_flow": null,
      "grid_auto_rows": null,
      "grid_column": null,
      "grid_gap": null,
      "grid_row": null,
      "grid_template_areas": null,
      "grid_template_columns": null,
      "grid_template_rows": null,
      "height": null,
      "justify_content": null,
      "justify_items": null,
      "left": null,
      "margin": null,
      "max_height": null,
      "max_width": null,
      "min_height": null,
      "min_width": null,
      "object_fit": null,
      "object_position": null,
      "order": null,
      "overflow": null,
      "overflow_x": null,
      "overflow_y": null,
      "padding": null,
      "right": null,
      "top": null,
      "visibility": null,
      "width": null
     }
    },
    "c97a115c7505434db2a1145b7eb33ac5": {
     "model_module": "@jupyter-widgets/controls",
     "model_module_version": "1.5.0",
     "model_name": "HTMLModel",
     "state": {
      "_dom_classes": [],
      "_model_module": "@jupyter-widgets/controls",
      "_model_module_version": "1.5.0",
      "_model_name": "HTMLModel",
      "_view_count": null,
      "_view_module": "@jupyter-widgets/controls",
      "_view_module_version": "1.5.0",
      "_view_name": "HTMLView",
      "description": "",
      "description_tooltip": null,
      "layout": "IPY_MODEL_8491d74f795347e59cb5fcee199d715f",
      "placeholder": "​",
      "style": "IPY_MODEL_9bd95aea65e14d80aa3f711416c03236",
      "value": "Map: 100%"
     }
    },
    "cb5bc93cbaea4ab5aa64254270703425": {
     "model_module": "@jupyter-widgets/controls",
     "model_module_version": "1.5.0",
     "model_name": "HBoxModel",
     "state": {
      "_dom_classes": [],
      "_model_module": "@jupyter-widgets/controls",
      "_model_module_version": "1.5.0",
      "_model_name": "HBoxModel",
      "_view_count": null,
      "_view_module": "@jupyter-widgets/controls",
      "_view_module_version": "1.5.0",
      "_view_name": "HBoxView",
      "box_style": "",
      "children": [
       "IPY_MODEL_47a402a9651c4685a44eba2c5186ebc9",
       "IPY_MODEL_ae078ac514e64dd6b48d76fe96fde01f",
       "IPY_MODEL_5b3df3dd0edb48669c1b1193bc00cfd4"
      ],
      "layout": "IPY_MODEL_489c5a4ee3614a61a9b82adb1d1b6308"
     }
    },
    "d551dc0756a8498f8ef1e9cfc038a989": {
     "model_module": "@jupyter-widgets/base",
     "model_module_version": "1.2.0",
     "model_name": "LayoutModel",
     "state": {
      "_model_module": "@jupyter-widgets/base",
      "_model_module_version": "1.2.0",
      "_model_name": "LayoutModel",
      "_view_count": null,
      "_view_module": "@jupyter-widgets/base",
      "_view_module_version": "1.2.0",
      "_view_name": "LayoutView",
      "align_content": null,
      "align_items": null,
      "align_self": null,
      "border": null,
      "bottom": null,
      "display": null,
      "flex": null,
      "flex_flow": null,
      "grid_area": null,
      "grid_auto_columns": null,
      "grid_auto_flow": null,
      "grid_auto_rows": null,
      "grid_column": null,
      "grid_gap": null,
      "grid_row": null,
      "grid_template_areas": null,
      "grid_template_columns": null,
      "grid_template_rows": null,
      "height": null,
      "justify_content": null,
      "justify_items": null,
      "left": null,
      "margin": null,
      "max_height": null,
      "max_width": null,
      "min_height": null,
      "min_width": null,
      "object_fit": null,
      "object_position": null,
      "order": null,
      "overflow": null,
      "overflow_x": null,
      "overflow_y": null,
      "padding": null,
      "right": null,
      "top": null,
      "visibility": null,
      "width": null
     }
    },
    "d77d4be5f4944842a01605e790ea219c": {
     "model_module": "@jupyter-widgets/controls",
     "model_module_version": "1.5.0",
     "model_name": "HTMLModel",
     "state": {
      "_dom_classes": [],
      "_model_module": "@jupyter-widgets/controls",
      "_model_module_version": "1.5.0",
      "_model_name": "HTMLModel",
      "_view_count": null,
      "_view_module": "@jupyter-widgets/controls",
      "_view_module_version": "1.5.0",
      "_view_name": "HTMLView",
      "description": "",
      "description_tooltip": null,
      "layout": "IPY_MODEL_717ea14966b144a38a404d0080d9139b",
      "placeholder": "​",
      "style": "IPY_MODEL_3acc09f5c5ef465abd037c69a4947ca8",
      "value": "Map: 100%"
     }
    },
    "dab1ccd486db40eeb71cf4673e8021aa": {
     "model_module": "@jupyter-widgets/base",
     "model_module_version": "1.2.0",
     "model_name": "LayoutModel",
     "state": {
      "_model_module": "@jupyter-widgets/base",
      "_model_module_version": "1.2.0",
      "_model_name": "LayoutModel",
      "_view_count": null,
      "_view_module": "@jupyter-widgets/base",
      "_view_module_version": "1.2.0",
      "_view_name": "LayoutView",
      "align_content": null,
      "align_items": null,
      "align_self": null,
      "border": null,
      "bottom": null,
      "display": null,
      "flex": null,
      "flex_flow": null,
      "grid_area": null,
      "grid_auto_columns": null,
      "grid_auto_flow": null,
      "grid_auto_rows": null,
      "grid_column": null,
      "grid_gap": null,
      "grid_row": null,
      "grid_template_areas": null,
      "grid_template_columns": null,
      "grid_template_rows": null,
      "height": null,
      "justify_content": null,
      "justify_items": null,
      "left": null,
      "margin": null,
      "max_height": null,
      "max_width": null,
      "min_height": null,
      "min_width": null,
      "object_fit": null,
      "object_position": null,
      "order": null,
      "overflow": null,
      "overflow_x": null,
      "overflow_y": null,
      "padding": null,
      "right": null,
      "top": null,
      "visibility": null,
      "width": null
     }
    },
    "ddeddf7a9c3d476b8faf9522c1c7f199": {
     "model_module": "@jupyter-widgets/controls",
     "model_module_version": "1.5.0",
     "model_name": "HTMLModel",
     "state": {
      "_dom_classes": [],
      "_model_module": "@jupyter-widgets/controls",
      "_model_module_version": "1.5.0",
      "_model_name": "HTMLModel",
      "_view_count": null,
      "_view_module": "@jupyter-widgets/controls",
      "_view_module_version": "1.5.0",
      "_view_name": "HTMLView",
      "description": "",
      "description_tooltip": null,
      "layout": "IPY_MODEL_60f086b079df4e718f60204367bf1811",
      "placeholder": "​",
      "style": "IPY_MODEL_145bc487326f4bbfb5b6020a5dd8618e",
      "value": "Map: 100%"
     }
    },
    "e670470305c14c5da3579f0707850462": {
     "model_module": "@jupyter-widgets/controls",
     "model_module_version": "1.5.0",
     "model_name": "HBoxModel",
     "state": {
      "_dom_classes": [],
      "_model_module": "@jupyter-widgets/controls",
      "_model_module_version": "1.5.0",
      "_model_name": "HBoxModel",
      "_view_count": null,
      "_view_module": "@jupyter-widgets/controls",
      "_view_module_version": "1.5.0",
      "_view_name": "HBoxView",
      "box_style": "",
      "children": [
       "IPY_MODEL_6ee2463c897c448f885b0a7d122be034",
       "IPY_MODEL_22eda1fb75d344f0b3347e16373babc1",
       "IPY_MODEL_9914e4309f5e4135a05c96c11fcc85ed"
      ],
      "layout": "IPY_MODEL_c8653984734a4278b291d00ae7fd1a43"
     }
    },
    "e6b75f3d67af46c0a73e33be3e1aee60": {
     "model_module": "@jupyter-widgets/base",
     "model_module_version": "1.2.0",
     "model_name": "LayoutModel",
     "state": {
      "_model_module": "@jupyter-widgets/base",
      "_model_module_version": "1.2.0",
      "_model_name": "LayoutModel",
      "_view_count": null,
      "_view_module": "@jupyter-widgets/base",
      "_view_module_version": "1.2.0",
      "_view_name": "LayoutView",
      "align_content": null,
      "align_items": null,
      "align_self": null,
      "border": null,
      "bottom": null,
      "display": null,
      "flex": null,
      "flex_flow": null,
      "grid_area": null,
      "grid_auto_columns": null,
      "grid_auto_flow": null,
      "grid_auto_rows": null,
      "grid_column": null,
      "grid_gap": null,
      "grid_row": null,
      "grid_template_areas": null,
      "grid_template_columns": null,
      "grid_template_rows": null,
      "height": null,
      "justify_content": null,
      "justify_items": null,
      "left": null,
      "margin": null,
      "max_height": null,
      "max_width": null,
      "min_height": null,
      "min_width": null,
      "object_fit": null,
      "object_position": null,
      "order": null,
      "overflow": null,
      "overflow_x": null,
      "overflow_y": null,
      "padding": null,
      "right": null,
      "top": null,
      "visibility": null,
      "width": null
     }
    },
    "e6d76264a65a45e69366ea8add36d466": {
     "model_module": "@jupyter-widgets/controls",
     "model_module_version": "1.5.0",
     "model_name": "DescriptionStyleModel",
     "state": {
      "_model_module": "@jupyter-widgets/controls",
      "_model_module_version": "1.5.0",
      "_model_name": "DescriptionStyleModel",
      "_view_count": null,
      "_view_module": "@jupyter-widgets/base",
      "_view_module_version": "1.2.0",
      "_view_name": "StyleView",
      "description_width": ""
     }
    },
    "ead3213dd61546f99890351960c37c28": {
     "model_module": "@jupyter-widgets/base",
     "model_module_version": "1.2.0",
     "model_name": "LayoutModel",
     "state": {
      "_model_module": "@jupyter-widgets/base",
      "_model_module_version": "1.2.0",
      "_model_name": "LayoutModel",
      "_view_count": null,
      "_view_module": "@jupyter-widgets/base",
      "_view_module_version": "1.2.0",
      "_view_name": "LayoutView",
      "align_content": null,
      "align_items": null,
      "align_self": null,
      "border": null,
      "bottom": null,
      "display": null,
      "flex": null,
      "flex_flow": null,
      "grid_area": null,
      "grid_auto_columns": null,
      "grid_auto_flow": null,
      "grid_auto_rows": null,
      "grid_column": null,
      "grid_gap": null,
      "grid_row": null,
      "grid_template_areas": null,
      "grid_template_columns": null,
      "grid_template_rows": null,
      "height": null,
      "justify_content": null,
      "justify_items": null,
      "left": null,
      "margin": null,
      "max_height": null,
      "max_width": null,
      "min_height": null,
      "min_width": null,
      "object_fit": null,
      "object_position": null,
      "order": null,
      "overflow": null,
      "overflow_x": null,
      "overflow_y": null,
      "padding": null,
      "right": null,
      "top": null,
      "visibility": null,
      "width": null
     }
    },
    "ec887614647c420d8dbd0ec514bd44cf": {
     "model_module": "@jupyter-widgets/controls",
     "model_module_version": "1.5.0",
     "model_name": "FloatProgressModel",
     "state": {
      "_dom_classes": [],
      "_model_module": "@jupyter-widgets/controls",
      "_model_module_version": "1.5.0",
      "_model_name": "FloatProgressModel",
      "_view_count": null,
      "_view_module": "@jupyter-widgets/controls",
      "_view_module_version": "1.5.0",
      "_view_name": "ProgressView",
      "bar_style": "success",
      "description": "",
      "description_tooltip": null,
      "layout": "IPY_MODEL_25eaadd2a65f423599ea5b89b91901e6",
      "max": 113,
      "min": 0,
      "orientation": "horizontal",
      "style": "IPY_MODEL_1d807683d7bc4ebfb44a9fe3699a141f",
      "value": 113
     }
    },
    "ee757fccb8844b00891bed6485356d01": {
     "model_module": "@jupyter-widgets/base",
     "model_module_version": "1.2.0",
     "model_name": "LayoutModel",
     "state": {
      "_model_module": "@jupyter-widgets/base",
      "_model_module_version": "1.2.0",
      "_model_name": "LayoutModel",
      "_view_count": null,
      "_view_module": "@jupyter-widgets/base",
      "_view_module_version": "1.2.0",
      "_view_name": "LayoutView",
      "align_content": null,
      "align_items": null,
      "align_self": null,
      "border": null,
      "bottom": null,
      "display": null,
      "flex": null,
      "flex_flow": null,
      "grid_area": null,
      "grid_auto_columns": null,
      "grid_auto_flow": null,
      "grid_auto_rows": null,
      "grid_column": null,
      "grid_gap": null,
      "grid_row": null,
      "grid_template_areas": null,
      "grid_template_columns": null,
      "grid_template_rows": null,
      "height": null,
      "justify_content": null,
      "justify_items": null,
      "left": null,
      "margin": null,
      "max_height": null,
      "max_width": null,
      "min_height": null,
      "min_width": null,
      "object_fit": null,
      "object_position": null,
      "order": null,
      "overflow": null,
      "overflow_x": null,
      "overflow_y": null,
      "padding": null,
      "right": null,
      "top": null,
      "visibility": null,
      "width": null
     }
    },
    "f14f8c9460d2481c865c00de0fafe5ae": {
     "model_module": "@jupyter-widgets/base",
     "model_module_version": "1.2.0",
     "model_name": "LayoutModel",
     "state": {
      "_model_module": "@jupyter-widgets/base",
      "_model_module_version": "1.2.0",
      "_model_name": "LayoutModel",
      "_view_count": null,
      "_view_module": "@jupyter-widgets/base",
      "_view_module_version": "1.2.0",
      "_view_name": "LayoutView",
      "align_content": null,
      "align_items": null,
      "align_self": null,
      "border": null,
      "bottom": null,
      "display": null,
      "flex": null,
      "flex_flow": null,
      "grid_area": null,
      "grid_auto_columns": null,
      "grid_auto_flow": null,
      "grid_auto_rows": null,
      "grid_column": null,
      "grid_gap": null,
      "grid_row": null,
      "grid_template_areas": null,
      "grid_template_columns": null,
      "grid_template_rows": null,
      "height": null,
      "justify_content": null,
      "justify_items": null,
      "left": null,
      "margin": null,
      "max_height": null,
      "max_width": null,
      "min_height": null,
      "min_width": null,
      "object_fit": null,
      "object_position": null,
      "order": null,
      "overflow": null,
      "overflow_x": null,
      "overflow_y": null,
      "padding": null,
      "right": null,
      "top": null,
      "visibility": null,
      "width": null
     }
    },
    "f9af1d96d9f7450e8a1aa5af533d1177": {
     "model_module": "@jupyter-widgets/controls",
     "model_module_version": "1.5.0",
     "model_name": "HBoxModel",
     "state": {
      "_dom_classes": [],
      "_model_module": "@jupyter-widgets/controls",
      "_model_module_version": "1.5.0",
      "_model_name": "HBoxModel",
      "_view_count": null,
      "_view_module": "@jupyter-widgets/controls",
      "_view_module_version": "1.5.0",
      "_view_name": "HBoxView",
      "box_style": "",
      "children": [
       "IPY_MODEL_3145786b575f45bc99cea66e5de7230a",
       "IPY_MODEL_ec887614647c420d8dbd0ec514bd44cf",
       "IPY_MODEL_4407e565aa4f40f48757744906de2a62"
      ],
      "layout": "IPY_MODEL_dab1ccd486db40eeb71cf4673e8021aa"
     }
    }
   }
  }
 },
 "nbformat": 4,
 "nbformat_minor": 0
}
