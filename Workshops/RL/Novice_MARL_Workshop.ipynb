{
 "cells": [
  {
   "cell_type": "code",
   "execution_count": 1,
   "metadata": {
    "colab": {
     "base_uri": "https://localhost:8080/"
    },
    "executionInfo": {
     "elapsed": 19124,
     "status": "ok",
     "timestamp": 1746340823029,
     "user": {
      "displayName": "Warren Low",
      "userId": "03832505700203327791"
     },
     "user_tz": -480
    },
    "id": "4lEnb_j-4Q2H",
    "outputId": "1f8cfc66-a198-4403-ccd9-0493b42ed662"
   },
   "outputs": [
    {
     "name": "stdout",
     "output_type": "stream",
     "text": [
      "Requirement already satisfied: imageio in /usr/local/lib/python3.11/dist-packages (2.37.0)\n",
      "Requirement already satisfied: numpy in /usr/local/lib/python3.11/dist-packages (from imageio) (2.0.2)\n",
      "Requirement already satisfied: pillow>=8.3.2 in /usr/local/lib/python3.11/dist-packages (from imageio) (11.2.1)\n"
     ]
    }
   ],
   "source": [
    "!pip install pettingzoo[butterfly]>=1.24.0\n",
    "!pip install supersuit>=3.9.0\n",
    "!pip install stable-baselines3>=2.0.0\n",
    "!pip install imageio"
   ]
  },
  {
   "cell_type": "markdown",
   "metadata": {
    "id": "NLlcytb57e8k"
   },
   "source": [
    "### PettingZoo\n",
    "\n",
    "Gym is the environment manager for single agent, and PettingZoo is the equivalent of Gym for multi agent environments.\n",
    "\n",
    "We will set up a PPO training run for a multi agent environment, Knights and Zombies."
   ]
  },
  {
   "cell_type": "code",
   "execution_count": 2,
   "metadata": {
    "colab": {
     "base_uri": "https://localhost:8080/"
    },
    "executionInfo": {
     "elapsed": 15553,
     "status": "ok",
     "timestamp": 1746340838584,
     "user": {
      "displayName": "Warren Low",
      "userId": "03832505700203327791"
     },
     "user_tz": -480
    },
    "id": "8bbBVMXj4AoC",
    "outputId": "b87fa5fd-86dd-48cc-e892-20b44c2b531f"
   },
   "outputs": [
    {
     "name": "stderr",
     "output_type": "stream",
     "text": [
      "/usr/local/lib/python3.11/dist-packages/pygame/pkgdata.py:25: DeprecationWarning: pkg_resources is deprecated as an API. See https://setuptools.pypa.io/en/latest/pkg_resources.html\n",
      "  from pkg_resources import resource_stream, resource_exists\n",
      "/usr/local/lib/python3.11/dist-packages/pkg_resources/__init__.py:3154: DeprecationWarning: Deprecated call to `pkg_resources.declare_namespace('google')`.\n",
      "Implementing implicit namespace packages (as specified in PEP 420) is preferred to `pkg_resources.declare_namespace`. See https://setuptools.pypa.io/en/latest/references/keywords.html#keyword-namespace-packages\n",
      "  declare_namespace(pkg)\n",
      "/usr/local/lib/python3.11/dist-packages/pkg_resources/__init__.py:3154: DeprecationWarning: Deprecated call to `pkg_resources.declare_namespace('google.cloud')`.\n",
      "Implementing implicit namespace packages (as specified in PEP 420) is preferred to `pkg_resources.declare_namespace`. See https://setuptools.pypa.io/en/latest/references/keywords.html#keyword-namespace-packages\n",
      "  declare_namespace(pkg)\n",
      "/usr/local/lib/python3.11/dist-packages/pkg_resources/__init__.py:3154: DeprecationWarning: Deprecated call to `pkg_resources.declare_namespace('sphinxcontrib')`.\n",
      "Implementing implicit namespace packages (as specified in PEP 420) is preferred to `pkg_resources.declare_namespace`. See https://setuptools.pypa.io/en/latest/references/keywords.html#keyword-namespace-packages\n",
      "  declare_namespace(pkg)\n"
     ]
    }
   ],
   "source": [
    "from __future__ import annotations\n",
    "\n",
    "import glob\n",
    "import os\n",
    "import time\n",
    "\n",
    "import supersuit as ss\n",
    "from stable_baselines3 import PPO\n",
    "from stable_baselines3.ppo import CnnPolicy, MlpPolicy\n",
    "from stable_baselines3.common.vec_env import VecVideoRecorder\n",
    "\n",
    "from pettingzoo.butterfly import knights_archers_zombies_v10"
   ]
  },
  {
   "cell_type": "markdown",
   "metadata": {
    "id": "HZ7xo8ey6qQs"
   },
   "source": [
    "### Env kwargs\n",
    "This is a set of keywords in SB3 that tells the environment how it should initialise it.\n",
    "\n",
    "- `max_cycles`: Run for only 100 cycles maximally\n",
    "- `max_zombies`: Tell it to only create 4 zombies at any point of time\n",
    "- `vector_state`: Use vectors to represent the state or use images instead."
   ]
  },
  {
   "cell_type": "code",
   "execution_count": 3,
   "metadata": {
    "executionInfo": {
     "elapsed": 9,
     "status": "ok",
     "timestamp": 1746340838592,
     "user": {
      "displayName": "Warren Low",
      "userId": "03832505700203327791"
     },
     "user_tz": -480
    },
    "id": "KWkViZRZ6poZ"
   },
   "outputs": [],
   "source": [
    "env_kwargs = dict(max_cycles=100, max_zombies=4, vector_state=True)\n",
    "env_fn = knights_archers_zombies_v10\n",
    "\n",
    "### Training parameters\n",
    "steps = 81_920\n",
    "seed = 0\n"
   ]
  },
  {
   "cell_type": "markdown",
   "metadata": {
    "id": "lIqbp651AMKq"
   },
   "source": [
    "### Today's environment: Knights Archers Zombies\n",
    "<img src=\"https://pettingzoo.farama.org/_images/butterfly_knights_archers_zombies.gif\"/>\n",
    "Consists of two types of agents running around killing zombies\n",
    "- Archer: Can chuck arrows at zombies\n",
    "- Knights: Go in to melee zombies\n",
    "\n",
    "Actions: Can move in any direction and rotate character\n",
    "Reward: The more zombies an agent kills, the more rewards it gets.\n",
    "\n",
    "Setup: Can be AEC or Parallel\n",
    "\n",
    "#### Types of Environment\n",
    "AEC: Each agent takes a turn before passing on to the next agent\n",
    "\n",
    "Parallel: Everyone moves in parallel\n",
    "\n"
   ]
  },
  {
   "cell_type": "code",
   "execution_count": 4,
   "metadata": {
    "executionInfo": {
     "elapsed": 15,
     "status": "ok",
     "timestamp": 1746340838608,
     "user": {
      "displayName": "Warren Low",
      "userId": "03832505700203327791"
     },
     "user_tz": -480
    },
    "id": "XoDxUB157N0R"
   },
   "outputs": [],
   "source": [
    "### Initialise environment\n",
    "\n",
    "env = env_fn.parallel_env(**env_kwargs)"
   ]
  },
  {
   "cell_type": "markdown",
   "metadata": {
    "id": "B9thtB697Tnn"
   },
   "source": [
    "### Introducing Supersuit\n",
    "\n",
    "Supersuit is a collections of small functions which can wrap reinforcement learning environments to do preprocessing. It supports both Gymnasium and PettingZoo."
   ]
  },
  {
   "cell_type": "code",
   "execution_count": 5,
   "metadata": {
    "executionInfo": {
     "elapsed": 6,
     "status": "ok",
     "timestamp": 1746340838615,
     "user": {
      "displayName": "Warren Low",
      "userId": "03832505700203327791"
     },
     "user_tz": -480
    },
    "id": "wuWSNOsh71lD"
   },
   "outputs": [],
   "source": [
    "# Add black death wrapper so the number of agents stays constant\n",
    "# MarkovVectorEnv does not support environments with varying numbers of active agents unless black_death is set to True\n",
    "env = ss.black_death_v3(env)\n",
    "\n",
    "# Pre-process using SuperSuit (Only if visual is set to True)\n",
    "visual_observation = not env.unwrapped.vector_state\n",
    "if visual_observation:\n",
    "    # If the observation space is visual, reduce the color channels, resize from 512px to 84px, and apply frame stacking\n",
    "    env = ss.color_reduction_v0(env, mode=\"B\")\n",
    "    env = ss.resize_v1(env, x_size=84, y_size=84)\n",
    "    env = ss.frame_stack_v1(env, 3)\n"
   ]
  },
  {
   "cell_type": "markdown",
   "metadata": {
    "id": "NPLxsdn79zEB"
   },
   "source": [
    "### Setting up the policy and training\n",
    "\n",
    "#### Housekeeping code\n",
    "\n",
    "`ss.pettingzoo_env_to_vec_env_v1(env)` vectorizes the PettingZoo environment into a Gym-style VecEnv. It treats each agent in the multigent env as if it was in its own sub environment. The result is a single VecEnv where each index correspond to one PettingZoo agent. This bridges the gap between whats Stable Baselines 3 expects and PettingZoo's wrapper.\n",
    "\n",
    "`ss.concat_vec_envs_v1(env, num_vec_envs=8, num_cpus=1, base_class=\"stable_baselines3\")` takes an existing vecEnv and stacks 8 identical copies of it into a bigger VecEnv that runs 8 parallel rollouts.\n",
    "- `num_cpus = 1` means it runs everything in a single process\n",
    "- `base_class=\"stable_baselines3\"` forces the VecEnv to use VecEnv's base class from SB3 so that SB3 algorithms can work with it.\n",
    "\n",
    "\n"
   ]
  },
  {
   "cell_type": "code",
   "execution_count": 6,
   "metadata": {
    "colab": {
     "base_uri": "https://localhost:8080/"
    },
    "executionInfo": {
     "elapsed": 205218,
     "status": "ok",
     "timestamp": 1746341043834,
     "user": {
      "displayName": "Warren Low",
      "userId": "03832505700203327791"
     },
     "user_tz": -480
    },
    "id": "FY4Fo_t39o-b",
    "outputId": "abc80e21-240b-40f2-c2e8-40993a9ada68"
   },
   "outputs": [
    {
     "name": "stdout",
     "output_type": "stream",
     "text": [
      "Starting training on knights_archers_zombies_v10.\n",
      "Using cpu device\n",
      "------------------------------\n",
      "| time/              |       |\n",
      "|    fps             | 815   |\n",
      "|    iterations      | 1     |\n",
      "|    time_elapsed    | 80    |\n",
      "|    total_timesteps | 65536 |\n",
      "------------------------------\n",
      "------------------------------------------\n",
      "| time/                   |              |\n",
      "|    fps                  | 735          |\n",
      "|    iterations           | 2            |\n",
      "|    time_elapsed         | 178          |\n",
      "|    total_timesteps      | 131072       |\n",
      "| train/                  |              |\n",
      "|    approx_kl            | 0.0068222075 |\n",
      "|    clip_fraction        | 0.0504       |\n",
      "|    clip_range           | 0.2          |\n",
      "|    entropy_loss         | -1.79        |\n",
      "|    explained_variance   | -0.306       |\n",
      "|    learning_rate        | 0.0003       |\n",
      "|    loss                 | -0.00554     |\n",
      "|    n_updates            | 10           |\n",
      "|    policy_gradient_loss | -0.00334     |\n",
      "|    value_loss           | 0.0289       |\n",
      "------------------------------------------\n",
      "Model has been saved.\n",
      "Finished training on knights_archers_zombies_v10.\n"
     ]
    }
   ],
   "source": [
    "env.reset(seed=seed)\n",
    "\n",
    "print(f\"Starting training on {str(env.metadata['name'])}.\")\n",
    "\n",
    "env = ss.pettingzoo_env_to_vec_env_v1(env)\n",
    "env = ss.concat_vec_envs_v1(env, 8, num_cpus=1, base_class=\"stable_baselines3\")\n",
    "\n",
    "# Use a CNN policy if the observation space is visual\n",
    "model = PPO(\n",
    "    CnnPolicy if visual_observation else MlpPolicy,\n",
    "    env,\n",
    "    verbose=3,\n",
    "    batch_size=256,\n",
    ")\n",
    "\n",
    "model.learn(total_timesteps=steps, progress_bar = True)\n",
    "\n",
    "model.save(f\"{env.unwrapped.metadata.get('name')}_{time.strftime('%Y%m%d-%H%M%S')}\")\n",
    "\n",
    "print(\"Model has been saved.\")\n",
    "\n",
    "print(f\"Finished training on {str(env.unwrapped.metadata['name'])}.\")\n",
    "\n",
    "env.close()"
   ]
  },
  {
   "cell_type": "markdown",
   "metadata": {
    "id": "u8coEufuAFnF"
   },
   "source": [
    "### Evaluation of Model\n",
    "\n",
    "We load our trained model, and experiment with it here. We use imageio to save a video of the entire run. Notice that we use the same visual observations here, but removed Black Death. That is because we are no longer running this within SB3, and are running it on PettingZoo directly."
   ]
  },
  {
   "cell_type": "code",
   "execution_count": 7,
   "metadata": {
    "executionInfo": {
     "elapsed": 19,
     "status": "ok",
     "timestamp": 1746341043852,
     "user": {
      "displayName": "Warren Low",
      "userId": "03832505700203327791"
     },
     "user_tz": -480
    },
    "id": "T1_bMX5N41-2"
   },
   "outputs": [],
   "source": [
    "import imageio\n",
    "\n",
    "def eval(env_fn, num_games: int = 100, render_mode: str | None = None, **env_kwargs):\n",
    "    # Evaluate a trained agent vs a random agent\n",
    "    video_folder =\"./logs\"\n",
    "    os.makedirs(\"logs\",exist_ok=True)\n",
    "    video_length = 200\n",
    "    env = env_fn.env(render_mode=render_mode, **env_kwargs)\n",
    "\n",
    "    # Pre-process using SuperSuit\n",
    "    visual_observation = not env.unwrapped.vector_state\n",
    "    if visual_observation:\n",
    "        # If the observation space is visual, reduce the color channels, resize from 512px to 84px, and apply frame stacking\n",
    "        env = ss.color_reduction_v0(env, mode=\"B\")\n",
    "        env = ss.resize_v1(env, x_size=84, y_size=84)\n",
    "        env = ss.frame_stack_v1(env, 3)\n",
    "    print(\n",
    "        f\"\\nStarting evaluation on {str(env.metadata['name'])} (num_games={num_games}, render_mode={render_mode})\"\n",
    "    )\n",
    "\n",
    "    try:\n",
    "        latest_policy = max(\n",
    "            glob.glob(f\"{env.metadata['name']}*.zip\"), key=os.path.getctime\n",
    "        )\n",
    "    except ValueError:\n",
    "        print(\"Policy not found.\")\n",
    "        exit(0)\n",
    "\n",
    "\n",
    "\n",
    "    model = PPO.load(latest_policy)\n",
    "\n",
    "    rewards = {agent: 0 for agent in env.possible_agents}\n",
    "\n",
    "    # Note: we evaluate here using an AEC environments, to allow for easy A/B testing against random policies\n",
    "    # For example, we can see here that using a random agent for archer_0 results in less points than the trained agent\n",
    "    for i in range(num_games):\n",
    "        env.reset(seed=i)\n",
    "        env.action_space(env.possible_agents[0]).seed(i)\n",
    "        frames = []\n",
    "        for agent in env.agent_iter():\n",
    "            obs, reward, termination, truncation, info = env.last()\n",
    "            if render_mode == \"rgb_array\":\n",
    "              frames.append(env.render())\n",
    "\n",
    "            for a in env.agents:\n",
    "                rewards[a] += env.rewards[a]\n",
    "\n",
    "            if termination or truncation:\n",
    "                break\n",
    "            else:\n",
    "                if agent == env.possible_agents[0]:\n",
    "                    act = env.action_space(agent).sample()\n",
    "                else:\n",
    "                    act = model.predict(obs, deterministic=True)[0]\n",
    "            env.step(act)\n",
    "        if render_mode == \"rgb_array\":\n",
    "            path = f\"{video_folder}/PPO_game_{i}.mp4\"\n",
    "            imageio.mimsave(path, frames, fps = 30)\n",
    "            print(f\"Saved to {path}\")\n",
    "    env.close()\n",
    "\n",
    "    avg_reward = sum(rewards.values()) / len(rewards.values())\n",
    "    avg_reward_per_agent = {\n",
    "        agent: rewards[agent] / num_games for agent in env.possible_agents\n",
    "    }\n",
    "    print(f\"Avg reward: {avg_reward}\")\n",
    "    print(\"Avg reward per agent, per game: \", avg_reward_per_agent)\n",
    "    print(\"Full rewards: \", rewards)\n",
    "    return avg_reward\n"
   ]
  },
  {
   "cell_type": "code",
   "execution_count": 8,
   "metadata": {
    "colab": {
     "base_uri": "https://localhost:8080/"
    },
    "executionInfo": {
     "elapsed": 21177,
     "status": "ok",
     "timestamp": 1746341065034,
     "user": {
      "displayName": "Warren Low",
      "userId": "03832505700203327791"
     },
     "user_tz": -480
    },
    "id": "n0_r1OJZ4-SX",
    "outputId": "c383326b-9c8b-43b6-aa69-a84b05265c28"
   },
   "outputs": [
    {
     "name": "stdout",
     "output_type": "stream",
     "text": [
      "\n",
      "Starting evaluation on knights_archers_zombies_v10 (num_games=10, render_mode=None)\n",
      "Avg reward: 0.75\n",
      "Avg reward per agent, per game:  {'archer_0': 0.2, 'archer_1': 0.1, 'knight_0': 0.0, 'knight_1': 0.0}\n",
      "Full rewards:  {'archer_0': 2, 'archer_1': 1, 'knight_0': 0, 'knight_1': 0}\n",
      "\n",
      "Starting evaluation on knights_archers_zombies_v10 (num_games=2, render_mode=rgb_array)\n",
      "Saved to ./logs/PPO_game_0.mp4\n",
      "Saved to ./logs/PPO_game_1.mp4\n",
      "Avg reward: 0.0\n",
      "Avg reward per agent, per game:  {'archer_0': 0.0, 'archer_1': 0.0, 'knight_0': 0.0, 'knight_1': 0.0}\n",
      "Full rewards:  {'archer_0': 0, 'archer_1': 0, 'knight_0': 0, 'knight_1': 0}\n"
     ]
    },
    {
     "data": {
      "text/plain": [
       "0.0"
      ]
     },
     "execution_count": 8,
     "metadata": {},
     "output_type": "execute_result"
    }
   ],
   "source": [
    "env_fn = knights_archers_zombies_v10\n",
    "\n",
    "# Set vector_state to false in order to use visual observations (significantly longer training time)\n",
    "env_kwargs = dict(max_cycles=100, max_zombies=4, vector_state=True)\n",
    "\n",
    "\n",
    "# Evaluate 10 games (takes ~10 seconds on a laptop CPU)\n",
    "eval(env_fn, num_games=10, render_mode=None, **env_kwargs)\n",
    "\n",
    "# Watch 2 games (takes ~10 seconds on a laptop CPU)\n",
    "eval(env_fn, num_games=2, render_mode=\"rgb_array\", **env_kwargs)"
   ]
  },
  {
   "cell_type": "code",
   "execution_count": 9,
   "metadata": {
    "colab": {
     "base_uri": "https://localhost:8080/",
     "height": 741
    },
    "executionInfo": {
     "elapsed": 55,
     "status": "ok",
     "timestamp": 1746341065097,
     "user": {
      "displayName": "Warren Low",
      "userId": "03832505700203327791"
     },
     "user_tz": -480
    },
    "id": "XzeF6M6v6lD-",
    "outputId": "d9d8cf38-165f-41be-9058-3934f25da055"
   },
   "outputs": [
    {
     "data": {
      "text/html": [
       "<video controls  >\n",
       " <source src=\"data:video/mp4;base64,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\" type=\"video/mp4\">\n",
       " Your browser does not support the video tag.\n",
       " </video>"
      ],
      "text/plain": [
       "<IPython.core.display.Video object>"
      ]
     },
     "execution_count": 9,
     "metadata": {},
     "output_type": "execute_result"
    }
   ],
   "source": [
    "### Visualise one of the games\n",
    "import IPython.display as ipd\n",
    "\n",
    "ipd.Video(\"logs/PPO_game_0.mp4\", embed = True)"
   ]
  }
 ],
 "metadata": {
  "colab": {
   "authorship_tag": "ABX9TyM34zSZOnwnqcE5G+MLSbOa",
   "provenance": []
  },
  "kernelspec": {
   "display_name": "Python 3",
   "name": "python3"
  },
  "language_info": {
   "name": "python"
  }
 },
 "nbformat": 4,
 "nbformat_minor": 0
}
