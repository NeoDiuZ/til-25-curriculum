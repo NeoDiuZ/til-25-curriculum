{
  "nbformat": 4,
  "nbformat_minor": 0,
  "metadata": {
    "colab": {
      "provenance": []
    },
    "kernelspec": {
      "name": "python3",
      "display_name": "Python 3"
    },
    "language_info": {
      "name": "python"
    },
    "widgets": {
      "application/vnd.jupyter.widget-state+json": {
        "6c6dd857babb40e59ea6c3a8cadb9bb6": {
          "model_module": "@jupyter-widgets/output",
          "model_name": "OutputModel",
          "model_module_version": "1.0.0",
          "state": {
            "_dom_classes": [],
            "_model_module": "@jupyter-widgets/output",
            "_model_module_version": "1.0.0",
            "_model_name": "OutputModel",
            "_view_count": null,
            "_view_module": "@jupyter-widgets/output",
            "_view_module_version": "1.0.0",
            "_view_name": "OutputView",
            "layout": "IPY_MODEL_7367c287c6f94969b2db8901bf4e35eb",
            "msg_id": "",
            "outputs": [
              {
                "output_type": "display_data",
                "data": {
                  "text/plain": "\u001b[35m 100%\u001b[0m \u001b[38;2;114;156;31m━━━━━━━━━━━━━━━━━━━━━━━━━━━━━━━━━━━━━━━━━━━━━━━━━━━━━━━━━━━━\u001b[0m \u001b[32m131,072/81,920 \u001b[0m [ \u001b[33m0:04:12\u001b[0m < \u001b[36m0:00:00\u001b[0m , \u001b[31m228 it/s\u001b[0m ]\n",
                  "text/html": "<pre style=\"white-space:pre;overflow-x:auto;line-height:normal;font-family:Menlo,'DejaVu Sans Mono',consolas,'Courier New',monospace\"><span style=\"color: #800080; text-decoration-color: #800080\"> 100%</span> <span style=\"color: #729c1f; text-decoration-color: #729c1f\">━━━━━━━━━━━━━━━━━━━━━━━━━━━━━━━━━━━━━━━━━━━━━━━━━━━━━━━━━━━━</span> <span style=\"color: #008000; text-decoration-color: #008000\">131,072/81,920 </span> [ <span style=\"color: #808000; text-decoration-color: #808000\">0:04:12</span> &lt; <span style=\"color: #008080; text-decoration-color: #008080\">0:00:00</span> , <span style=\"color: #800000; text-decoration-color: #800000\">228 it/s</span> ]\n</pre>\n"
                },
                "metadata": {}
              }
            ]
          }
        },
        "7367c287c6f94969b2db8901bf4e35eb": {
          "model_module": "@jupyter-widgets/base",
          "model_name": "LayoutModel",
          "model_module_version": "1.2.0",
          "state": {
            "_model_module": "@jupyter-widgets/base",
            "_model_module_version": "1.2.0",
            "_model_name": "LayoutModel",
            "_view_count": null,
            "_view_module": "@jupyter-widgets/base",
            "_view_module_version": "1.2.0",
            "_view_name": "LayoutView",
            "align_content": null,
            "align_items": null,
            "align_self": null,
            "border": null,
            "bottom": null,
            "display": null,
            "flex": null,
            "flex_flow": null,
            "grid_area": null,
            "grid_auto_columns": null,
            "grid_auto_flow": null,
            "grid_auto_rows": null,
            "grid_column": null,
            "grid_gap": null,
            "grid_row": null,
            "grid_template_areas": null,
            "grid_template_columns": null,
            "grid_template_rows": null,
            "height": null,
            "justify_content": null,
            "justify_items": null,
            "left": null,
            "margin": null,
            "max_height": null,
            "max_width": null,
            "min_height": null,
            "min_width": null,
            "object_fit": null,
            "object_position": null,
            "order": null,
            "overflow": null,
            "overflow_x": null,
            "overflow_y": null,
            "padding": null,
            "right": null,
            "top": null,
            "visibility": null,
            "width": null
          }
        }
      }
    }
  },
  "cells": [
    {
      "cell_type": "code",
      "source": [
        "!pip install pettingzoo[butterfly]>=1.24.0\n",
        "!pip install supersuit>=3.9.0\n",
        "!pip install stable-baselines3>=2.0.0\n",
        "!pip install imageio"
      ],
      "metadata": {
        "colab": {
          "base_uri": "https://localhost:8080/"
        },
        "id": "4lEnb_j-4Q2H",
        "outputId": "6087a5ee-2db3-4228-a4f9-1c5358910af5"
      },
      "execution_count": 1,
      "outputs": [
        {
          "output_type": "stream",
          "name": "stdout",
          "text": [
            "y\n",
            "Requirement already satisfied: imageio in /usr/local/lib/python3.11/dist-packages (2.37.0)\n",
            "Requirement already satisfied: numpy in /usr/local/lib/python3.11/dist-packages (from imageio) (2.0.2)\n",
            "Requirement already satisfied: pillow>=8.3.2 in /usr/local/lib/python3.11/dist-packages (from imageio) (11.2.1)\n"
          ]
        }
      ]
    },
    {
      "cell_type": "markdown",
      "source": [
        "### PettingZoo\n",
        "\n",
        "Gym is the environment manager for single agent, and PettingZoo is the equivalent of Gym for multi agent environments.\n",
        "\n",
        "We will set up a PPO training run for a multi agent environment, Knights and Zombies."
      ],
      "metadata": {
        "id": "NLlcytb57e8k"
      }
    },
    {
      "cell_type": "code",
      "execution_count": 1,
      "metadata": {
        "colab": {
          "base_uri": "https://localhost:8080/"
        },
        "id": "8bbBVMXj4AoC",
        "outputId": "c9611f46-b22d-444d-ee98-82ef3acd2c95"
      },
      "outputs": [
        {
          "output_type": "stream",
          "name": "stderr",
          "text": [
            "/usr/local/lib/python3.11/dist-packages/pygame/pkgdata.py:25: DeprecationWarning: pkg_resources is deprecated as an API. See https://setuptools.pypa.io/en/latest/pkg_resources.html\n",
            "  from pkg_resources import resource_stream, resource_exists\n",
            "/usr/local/lib/python3.11/dist-packages/pkg_resources/__init__.py:3154: DeprecationWarning: Deprecated call to `pkg_resources.declare_namespace('google')`.\n",
            "Implementing implicit namespace packages (as specified in PEP 420) is preferred to `pkg_resources.declare_namespace`. See https://setuptools.pypa.io/en/latest/references/keywords.html#keyword-namespace-packages\n",
            "  declare_namespace(pkg)\n",
            "/usr/local/lib/python3.11/dist-packages/pkg_resources/__init__.py:3154: DeprecationWarning: Deprecated call to `pkg_resources.declare_namespace('google.cloud')`.\n",
            "Implementing implicit namespace packages (as specified in PEP 420) is preferred to `pkg_resources.declare_namespace`. See https://setuptools.pypa.io/en/latest/references/keywords.html#keyword-namespace-packages\n",
            "  declare_namespace(pkg)\n",
            "/usr/local/lib/python3.11/dist-packages/pkg_resources/__init__.py:3154: DeprecationWarning: Deprecated call to `pkg_resources.declare_namespace('sphinxcontrib')`.\n",
            "Implementing implicit namespace packages (as specified in PEP 420) is preferred to `pkg_resources.declare_namespace`. See https://setuptools.pypa.io/en/latest/references/keywords.html#keyword-namespace-packages\n",
            "  declare_namespace(pkg)\n"
          ]
        }
      ],
      "source": [
        "from __future__ import annotations\n",
        "\n",
        "import glob\n",
        "import os\n",
        "import time\n",
        "\n",
        "import supersuit as ss\n",
        "from stable_baselines3 import PPO\n",
        "from stable_baselines3.ppo import CnnPolicy, MlpPolicy\n",
        "from stable_baselines3.common.vec_env import VecVideoRecorder\n",
        "\n",
        "from pettingzoo.butterfly import knights_archers_zombies_v10"
      ]
    },
    {
      "cell_type": "markdown",
      "source": [
        "### Env kwargs\n",
        "This is a set of keywords in SB3 that tells the environment how it should initialise it.\n",
        "\n",
        "- `max_cycles`: Run for only 100 cycles maximally\n",
        "- `max_zombies`: Tell it to only create 4 zombies at any point of time\n",
        "- `vector_state`: Use vectors to represent the state or use images instead."
      ],
      "metadata": {
        "id": "HZ7xo8ey6qQs"
      }
    },
    {
      "cell_type": "code",
      "source": [
        "env_kwargs = dict(max_cycles=100, max_zombies=4, vector_state=True)\n",
        "env_fn = knights_archers_zombies_v10\n",
        "\n",
        "### Training parameters\n",
        "steps = 81_920\n",
        "seed = 0\n"
      ],
      "metadata": {
        "id": "KWkViZRZ6poZ"
      },
      "execution_count": 2,
      "outputs": []
    },
    {
      "cell_type": "markdown",
      "source": [
        "### Today's environment: Knights Archers Zombies\n",
        "<img src=\"https://pettingzoo.farama.org/_images/butterfly_knights_archers_zombies.gif\"/>\n",
        "Consists of two types of agents running around killing zombies\n",
        "- Archer: Can chuck arrows at zombies\n",
        "- Knights: Go in to melee zombies\n",
        "\n",
        "Actions: Can move in any direction and rotate character\n",
        "Reward: The more zombies an agent kills, the more rewards it gets.\n",
        "\n",
        "Setup: Can be AEC or Parallel\n",
        "\n",
        "#### Types of Environment\n",
        "AEC: Each agent takes a turn before passing on to the next agent\n",
        "\n",
        "Parallel: Everyone moves in parallel\n",
        "\n"
      ],
      "metadata": {
        "id": "lIqbp651AMKq"
      }
    },
    {
      "cell_type": "code",
      "source": [
        "### Initialise environment\n",
        "\n",
        "env = env_fn.parallel_env(**env_kwargs)"
      ],
      "metadata": {
        "id": "XoDxUB157N0R"
      },
      "execution_count": 3,
      "outputs": []
    },
    {
      "cell_type": "markdown",
      "source": [
        "### Introducing Supersuit\n",
        "\n",
        "Supersuit is a collections of small functions which can wrap reinforcement learning environments to do preprocessing. It supports both Gymnasium and PettingZoo.\n",
        "\n",
        "To ensure robustness, we have added some wrappers that can help modify the environment by making our actions or observations noisier\n",
        "\n",
        "`sticky_actions_v0` assigns a probability of an old action “sticking” to the environment and not updating as given by `repeat_action_prob`, allowing us to occassionally use the same action instead of changing it.\n",
        "\n",
        "Moreover, `frame_skip_v0` allows us to skip some observations and rewards, which cause our model to have to react to that."
      ],
      "metadata": {
        "id": "B9thtB697Tnn"
      }
    },
    {
      "cell_type": "code",
      "source": [
        "# Add black death wrapper so the number of agents stays constant\n",
        "# MarkovVectorEnv does not support environments with varying numbers of active agents unless black_death is set to True\n",
        "env = ss.black_death_v3(env)\n",
        "# --- 2. modality‑agnostic robustness wrappers -----------------\n",
        "repeat_action_prob = 0.3 #Probability of repeating the action\n",
        "frameskip = (1,3) #Skip from 1 up to 3 frames\n",
        "\n",
        "env = ss.sticky_actions_v0(env, repeat_action_probability=repeat_action_prob)\n",
        "env = ss.frame_skip_v0(env, frameskip)\n",
        "\n",
        "# Pre-process using SuperSuit (Only if visual is set to True)\n",
        "visual_observation = not env.unwrapped.vector_state\n",
        "if visual_observation:\n",
        "    # If the observation space is visual, reduce the color channels, resize from 512px to 84px, and apply frame stacking\n",
        "    env = ss.color_reduction_v0(env, mode=\"B\")\n",
        "    env = ss.resize_v1(env, x_size=84, y_size=84)\n",
        "    env = ss.frame_stack_v1(env, 3)\n"
      ],
      "metadata": {
        "id": "wuWSNOsh71lD"
      },
      "execution_count": 4,
      "outputs": []
    },
    {
      "cell_type": "markdown",
      "source": [
        "### Setting up the policy and training\n",
        "\n",
        "#### Housekeeping code\n",
        "\n",
        "`ss.pettingzoo_env_to_vec_env_v1(env)` vectorizes the PettingZoo environment into a Gym-style VecEnv. It treats each agent in the multigent env as if it was in its own sub environment. The result is a single VecEnv where each index correspond to one PettingZoo agent. This bridges the gap between whats Stable Baselines 3 expects and PettingZoo's wrapper.\n",
        "\n",
        "`ss.concat_vec_envs_v1(env, num_vec_envs=8, num_cpus=1, base_class=\"stable_baselines3\")` takes an existing vecEnv and stacks 8 identical copies of it into a bigger VecEnv that runs 8 parallel rollouts.\n",
        "- `num_cpus = 1` means it runs everything in a single process\n",
        "- `base_class=\"stable_baselines3\"` forces the VecEnv to use VecEnv's base class from SB3 so that SB3 algorithms can work with it.\n",
        "\n",
        "\n"
      ],
      "metadata": {
        "id": "NPLxsdn79zEB"
      }
    },
    {
      "cell_type": "code",
      "source": [
        "env.reset(seed=seed)\n",
        "\n",
        "print(f\"Starting training on {str(env.metadata['name'])}.\")\n",
        "\n",
        "env = ss.pettingzoo_env_to_vec_env_v1(env)\n",
        "env = ss.concat_vec_envs_v1(env, 8, num_cpus=1, base_class=\"stable_baselines3\")\n",
        "\n",
        "# Use a CNN policy if the observation space is visual\n",
        "model = PPO(\n",
        "    CnnPolicy if visual_observation else MlpPolicy,\n",
        "    env,\n",
        "    verbose=3,\n",
        "    batch_size=256,\n",
        ")\n",
        "\n",
        "model.learn(total_timesteps=steps, progress_bar = True)\n",
        "\n",
        "model.save(f\"{env.unwrapped.metadata.get('name')}_{time.strftime('%Y%m%d-%H%M%S')}\")\n",
        "\n",
        "print(\"Model has been saved.\")\n",
        "\n",
        "print(f\"Finished training on {str(env.unwrapped.metadata['name'])}.\")\n",
        "\n",
        "env.close()"
      ],
      "metadata": {
        "colab": {
          "base_uri": "https://localhost:8080/",
          "height": 590,
          "referenced_widgets": [
            "6c6dd857babb40e59ea6c3a8cadb9bb6",
            "7367c287c6f94969b2db8901bf4e35eb"
          ]
        },
        "id": "FY4Fo_t39o-b",
        "outputId": "938c0ad7-7972-45f2-b80a-d9e8f48b8835"
      },
      "execution_count": 5,
      "outputs": [
        {
          "output_type": "stream",
          "name": "stdout",
          "text": [
            "Starting training on knights_archers_zombies_v10.\n",
            "Using cpu device\n"
          ]
        },
        {
          "output_type": "display_data",
          "data": {
            "text/plain": [
              "Output()"
            ],
            "application/vnd.jupyter.widget-view+json": {
              "version_major": 2,
              "version_minor": 0,
              "model_id": "6c6dd857babb40e59ea6c3a8cadb9bb6"
            }
          },
          "metadata": {}
        },
        {
          "output_type": "display_data",
          "data": {
            "text/plain": [
              "/usr/local/lib/python3.11/dist-packages/ipywidgets/widgets/widget_output.py:111: DeprecationWarning: \n",
              "Kernel._parent_header is deprecated in ipykernel 6. Use .get_parent()\n",
              "  if ip and hasattr(ip, 'kernel') and hasattr(ip.kernel, '_parent_header'):\n"
            ],
            "text/html": [
              "<pre style=\"white-space:pre;overflow-x:auto;line-height:normal;font-family:Menlo,'DejaVu Sans Mono',consolas,'Courier New',monospace\">/usr/local/lib/python3.11/dist-packages/ipywidgets/widgets/widget_output.py:111: DeprecationWarning: \n",
              "Kernel._parent_header is deprecated in ipykernel 6. Use .get_parent()\n",
              "  if ip and hasattr(ip, 'kernel') and hasattr(ip.kernel, '_parent_header'):\n",
              "</pre>\n"
            ]
          },
          "metadata": {}
        },
        {
          "output_type": "stream",
          "name": "stdout",
          "text": [
            "------------------------------\n",
            "| time/              |       |\n",
            "|    fps             | 362   |\n",
            "|    iterations      | 1     |\n",
            "|    time_elapsed    | 180   |\n",
            "|    total_timesteps | 65536 |\n",
            "------------------------------\n",
            "-----------------------------------------\n",
            "| time/                   |             |\n",
            "|    fps                  | 337         |\n",
            "|    iterations           | 2           |\n",
            "|    time_elapsed         | 387         |\n",
            "|    total_timesteps      | 131072      |\n",
            "| train/                  |             |\n",
            "|    approx_kl            | 0.009844935 |\n",
            "|    clip_fraction        | 0.0813      |\n",
            "|    clip_range           | 0.2         |\n",
            "|    entropy_loss         | -1.78       |\n",
            "|    explained_variance   | -1.19       |\n",
            "|    learning_rate        | 0.0003      |\n",
            "|    loss                 | 0.0178      |\n",
            "|    n_updates            | 10          |\n",
            "|    policy_gradient_loss | -0.00612    |\n",
            "|    value_loss           | 0.0432      |\n",
            "-----------------------------------------\n"
          ]
        },
        {
          "output_type": "display_data",
          "data": {
            "text/plain": [],
            "text/html": [
              "<pre style=\"white-space:pre;overflow-x:auto;line-height:normal;font-family:Menlo,'DejaVu Sans Mono',consolas,'Courier New',monospace\"></pre>\n"
            ]
          },
          "metadata": {}
        },
        {
          "output_type": "stream",
          "name": "stdout",
          "text": [
            "Model has been saved.\n",
            "Finished training on knights_archers_zombies_v10.\n"
          ]
        }
      ]
    },
    {
      "cell_type": "markdown",
      "source": [
        "### Evaluation of Model\n",
        "\n",
        "We load our trained model, and experiment with it here. We use imageio to save a video of the entire run. Notice that we use the same visual observations here, but removed Black Death. That is because we are no longer running this within SB3, and are running it on PettingZoo directly.\n",
        "\n",
        "We also added `cvar`, or conditional variance at risk, as well as worst return to help evaluate our models."
      ],
      "metadata": {
        "id": "u8coEufuAFnF"
      }
    },
    {
      "cell_type": "code",
      "source": [
        "import numpy as np\n",
        "\n",
        "def cvar(returns, alpha=0.1):\n",
        "    \"\"\"CVaR_α of a 1‑D list/array (alpha in (0,1]).\"\"\"\n",
        "    if len(returns) == 0:\n",
        "        return np.nan\n",
        "    k = max(1, int(np.ceil(alpha * len(returns)))) #Finds the proportional length according to alpha\n",
        "    return np.mean(np.sort(returns)[:k]) #Take worst alpha runs and mean"
      ],
      "metadata": {
        "id": "RSjhv3o2RqDv"
      },
      "execution_count": 6,
      "outputs": []
    },
    {
      "cell_type": "code",
      "source": [
        "import imageio\n",
        "\n",
        "def eval(env_fn, num_games: int = 100, render_mode: str | None = None, repeat_action_prob = 0.3, frameskip = 2, cvar_alpha: float = 0.1, **env_kwargs):\n",
        "    # Evaluate a trained agent vs a random agent\n",
        "    video_folder =\"./logs\"\n",
        "    os.makedirs(\"logs\",exist_ok=True)\n",
        "    video_length = 200\n",
        "    env = env_fn.env(render_mode=render_mode, **env_kwargs)\n",
        "    # Test for Robustness in evals\n",
        "    env = ss.sticky_actions_v0(env, repeat_action_probability=repeat_action_prob)\n",
        "    env = ss.frame_skip_v0(env, frameskip)\n",
        "\n",
        "    # Pre-process using SuperSuit\n",
        "    visual_observation = not env.unwrapped.vector_state\n",
        "    if visual_observation:\n",
        "        # If the observation space is visual, reduce the color channels, resize from 512px to 84px, and apply frame stacking\n",
        "        env = ss.color_reduction_v0(env, mode=\"B\")\n",
        "        env = ss.resize_v1(env, x_size=84, y_size=84)\n",
        "        env = ss.frame_stack_v1(env, 3)\n",
        "    print(\n",
        "        f\"\\nStarting evaluation on {str(env.metadata['name'])} (num_games={num_games}, render_mode={render_mode})\"\n",
        "    )\n",
        "\n",
        "    try:\n",
        "        latest_policy = max(\n",
        "            glob.glob(f\"{env.metadata['name']}*.zip\"), key=os.path.getctime\n",
        "        )\n",
        "    except ValueError:\n",
        "        print(\"Policy not found.\")\n",
        "        exit(0)\n",
        "\n",
        "\n",
        "\n",
        "    model = PPO.load(latest_policy)\n",
        "\n",
        "    ep_returns = {agent: [] for agent in env.possible_agents}\n",
        "    # Note: we evaluate here using an AEC environments, to allow for easy A/B testing against random policies\n",
        "    # For example, we can see here that using a random agent for archer_0 results in less points than the trained agent\n",
        "    for i in range(num_games):\n",
        "        env.reset(seed=i)\n",
        "        rewards_this_ep = {a: 0.0 for a in env.possible_agents}\n",
        "        env.action_space(env.possible_agents[0]).seed(i)\n",
        "        frames = []\n",
        "\n",
        "        for agent in env.agent_iter():\n",
        "            obs, reward, termination, truncation, info = env.last()\n",
        "            if render_mode == \"rgb_array\":\n",
        "              frames.append(env.render())\n",
        "\n",
        "            for a in env.agents:\n",
        "                rewards_this_ep[a] += env.rewards[a]\n",
        "\n",
        "            if termination or truncation:\n",
        "                break\n",
        "            else:\n",
        "                if agent == env.possible_agents[0]:\n",
        "                    act = env.action_space(agent).sample()\n",
        "                else:\n",
        "                    act = model.predict(obs, deterministic=True)[0]\n",
        "            env.step(act)\n",
        "\n",
        "        # store per‑episode returns\n",
        "        for a in env.possible_agents:\n",
        "            ep_returns[a].append(rewards_this_ep[a])\n",
        "\n",
        "        if render_mode == \"rgb_array\":\n",
        "            path = f\"{video_folder}/PPO_game_{i}.mp4\"\n",
        "            imageio.mimsave(path, frames, fps = 30)\n",
        "            print(f\"Saved to {path}\")\n",
        "    env.close()\n",
        "\n",
        "    # ---- aggregate metrics ------------------------------------------------\n",
        "    mean_return  = {a: np.mean(ep_returns[a]) for a in env.possible_agents}\n",
        "    worst_return = {a: np.min( ep_returns[a]) for a in env.possible_agents}\n",
        "    cvar_return  = {a: cvar(ep_returns[a], alpha=cvar_alpha) for a in env.possible_agents}\n",
        "    var_return   = {a: np.var(ep_returns[a]) for a in env.possible_agents}\n",
        "\n",
        "    # Compute overall metrics\n",
        "    mean_overall  = np.mean(list(mean_return.values()))\n",
        "    worst_overall = np.min([min(r) for r in ep_returns.values()])\n",
        "    cvar_overall  = np.mean(list(cvar_return.values()))\n",
        "    var_overall   = np.mean(list(var_return.values()))\n",
        "\n",
        "    # Print summary\n",
        "    print(f\"\\n==== Evaluation Results (α={cvar_alpha:.2f}) ====\")\n",
        "    print(\n",
        "        f\"Overall Rewards → \"\n",
        "        f\"mean: {mean_overall:.2f} | \"\n",
        "        f\"worst: {worst_overall:.2f} | \"\n",
        "        f\"CVaR: {cvar_overall:.2f} | \"\n",
        "        f\"Variance: {var_overall:.2f}\"\n",
        "    )\n",
        "\n",
        "    print(\"\\nPer‑agent metrics:\")\n",
        "    for a in env.possible_agents:\n",
        "        print(\n",
        "            f\"  {a:>10}: \"\n",
        "            f\"mean={mean_return[a]:.2f}, \"\n",
        "            f\"worst={worst_return[a]:.2f}, \"\n",
        "            f\"CVaR={cvar_return[a]:.2f}, \"\n",
        "            f\"Variance={var_return[a]:.2f}\"\n",
        "        )\n",
        "\n",
        "    return {\n",
        "        \"mean\": mean_overall,\n",
        "        \"worst\": worst_overall,\n",
        "        \"cvar\": cvar_overall,\n",
        "        \"variance\": var_overall,\n",
        "        \"per_agent\": {\n",
        "            a: {\n",
        "                \"mean\": mean_return[a],\n",
        "                \"worst\": worst_return[a],\n",
        "                \"cvar\": cvar_return[a],\n",
        "                \"variance\": var_return[a],\n",
        "            }\n",
        "            for a in env.possible_agents\n",
        "        },\n",
        "    }"
      ],
      "metadata": {
        "id": "T1_bMX5N41-2"
      },
      "execution_count": 9,
      "outputs": []
    },
    {
      "cell_type": "code",
      "source": [
        "env_fn = knights_archers_zombies_v10\n",
        "\n",
        "# Set vector_state to false in order to use visual observations (significantly longer training time)\n",
        "env_kwargs = dict(max_cycles=100, max_zombies=4, vector_state=True)\n",
        "\n",
        "\n",
        "# Evaluate 10 games (takes ~10 seconds on a laptop CPU)\n",
        "eval(env_fn, num_games=10, render_mode=None, **env_kwargs)\n",
        "\n",
        "# Watch 2 games (takes ~10 seconds on a laptop CPU)\n",
        "eval(env_fn, num_games=2, render_mode=\"rgb_array\", **env_kwargs)"
      ],
      "metadata": {
        "colab": {
          "base_uri": "https://localhost:8080/"
        },
        "id": "n0_r1OJZ4-SX",
        "outputId": "6647aa96-7e0f-453b-cc82-44d3bb6815c6"
      },
      "execution_count": 10,
      "outputs": [
        {
          "output_type": "stream",
          "name": "stdout",
          "text": [
            "\n",
            "Starting evaluation on knights_archers_zombies_v10 (num_games=10, render_mode=None)\n",
            "\n",
            "==== Evaluation Results (α=0.10) ====\n",
            "Overall Rewards → mean: 0.03 | worst: 0.00 | CVaR: 0.00 | Variance: 0.02\n",
            "\n",
            "Per‑agent metrics:\n",
            "    archer_0: mean=0.10, worst=0.00, CVaR=0.00, Variance=0.09\n",
            "    archer_1: mean=0.00, worst=0.00, CVaR=0.00, Variance=0.00\n",
            "    knight_0: mean=0.00, worst=0.00, CVaR=0.00, Variance=0.00\n",
            "    knight_1: mean=0.00, worst=0.00, CVaR=0.00, Variance=0.00\n",
            "\n",
            "Starting evaluation on knights_archers_zombies_v10 (num_games=2, render_mode=rgb_array)\n",
            "Saved to ./logs/PPO_game_0.mp4\n",
            "Saved to ./logs/PPO_game_1.mp4\n",
            "\n",
            "==== Evaluation Results (α=0.10) ====\n",
            "Overall Rewards → mean: 0.00 | worst: 0.00 | CVaR: 0.00 | Variance: 0.00\n",
            "\n",
            "Per‑agent metrics:\n",
            "    archer_0: mean=0.00, worst=0.00, CVaR=0.00, Variance=0.00\n",
            "    archer_1: mean=0.00, worst=0.00, CVaR=0.00, Variance=0.00\n",
            "    knight_0: mean=0.00, worst=0.00, CVaR=0.00, Variance=0.00\n",
            "    knight_1: mean=0.00, worst=0.00, CVaR=0.00, Variance=0.00\n"
          ]
        },
        {
          "output_type": "execute_result",
          "data": {
            "text/plain": [
              "{'mean': np.float64(0.0),\n",
              " 'worst': np.float64(0.0),\n",
              " 'cvar': np.float64(0.0),\n",
              " 'variance': np.float64(0.0),\n",
              " 'per_agent': {'archer_0': {'mean': np.float64(0.0),\n",
              "   'worst': np.float64(0.0),\n",
              "   'cvar': np.float64(0.0),\n",
              "   'variance': np.float64(0.0)},\n",
              "  'archer_1': {'mean': np.float64(0.0),\n",
              "   'worst': np.float64(0.0),\n",
              "   'cvar': np.float64(0.0),\n",
              "   'variance': np.float64(0.0)},\n",
              "  'knight_0': {'mean': np.float64(0.0),\n",
              "   'worst': np.float64(0.0),\n",
              "   'cvar': np.float64(0.0),\n",
              "   'variance': np.float64(0.0)},\n",
              "  'knight_1': {'mean': np.float64(0.0),\n",
              "   'worst': np.float64(0.0),\n",
              "   'cvar': np.float64(0.0),\n",
              "   'variance': np.float64(0.0)}}}"
            ]
          },
          "metadata": {},
          "execution_count": 10
        }
      ]
    },
    {
      "cell_type": "code",
      "source": [
        "### Visualise one of the games\n",
        "import IPython.display as ipd\n",
        "\n",
        "ipd.Video(\"logs/PPO_game_0.mp4\", embed = True)"
      ],
      "metadata": {
        "colab": {
          "base_uri": "https://localhost:8080/",
          "height": 741
        },
        "id": "XzeF6M6v6lD-",
        "outputId": "980c2933-c71f-4165-bf41-5c114523c72d"
      },
      "execution_count": 11,
      "outputs": [
        {
          "output_type": "execute_result",
          "data": {
            "text/plain": [
              "<IPython.core.display.Video object>"
            ],
            "text/html": [
              "<video controls  >\n",
              " <source src=\"data:video/mp4;base64,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\" type=\"video/mp4\">\n",
              " Your browser does not support the video tag.\n",
              " </video>"
            ]
          },
          "metadata": {},
          "execution_count": 11
        }
      ]
    },
    {
      "cell_type": "code",
      "source": [],
      "metadata": {
        "id": "87O6ZlFdQ9D9"
      },
      "execution_count": null,
      "outputs": []
    }
  ]
}