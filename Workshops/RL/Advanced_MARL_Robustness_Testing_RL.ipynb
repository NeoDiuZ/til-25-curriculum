{
  "nbformat": 4,
  "nbformat_minor": 0,
  "metadata": {
    "colab": {
      "provenance": []
    },
    "kernelspec": {
      "name": "python3",
      "display_name": "Python 3"
    },
    "language_info": {
      "name": "python"
    },
    "widgets": {
      "application/vnd.jupyter.widget-state+json": {
        "de262c66cdca4d81a0e31636f37d3ea7": {
          "model_module": "@jupyter-widgets/controls",
          "model_name": "HBoxModel",
          "model_module_version": "1.5.0",
          "state": {
            "_dom_classes": [],
            "_model_module": "@jupyter-widgets/controls",
            "_model_module_version": "1.5.0",
            "_model_name": "HBoxModel",
            "_view_count": null,
            "_view_module": "@jupyter-widgets/controls",
            "_view_module_version": "1.5.0",
            "_view_name": "HBoxView",
            "box_style": "",
            "children": [
              "IPY_MODEL_c8777a9a1277423c83e13f7429f81b9b",
              "IPY_MODEL_ea48c99904d74e3a8a550ffb87b3bee7",
              "IPY_MODEL_93b9e42ec1f140148a4f0d6647b4df61"
            ],
            "layout": "IPY_MODEL_903b4b3e4aa244ca95bba752bf5b3afa"
          }
        },
        "c8777a9a1277423c83e13f7429f81b9b": {
          "model_module": "@jupyter-widgets/controls",
          "model_name": "HTMLModel",
          "model_module_version": "1.5.0",
          "state": {
            "_dom_classes": [],
            "_model_module": "@jupyter-widgets/controls",
            "_model_module_version": "1.5.0",
            "_model_name": "HTMLModel",
            "_view_count": null,
            "_view_module": "@jupyter-widgets/controls",
            "_view_module_version": "1.5.0",
            "_view_name": "HTMLView",
            "description": "",
            "description_tooltip": null,
            "layout": "IPY_MODEL_46bb14e9eb8045a29e0a4a44b68de9aa",
            "placeholder": "​",
            "style": "IPY_MODEL_973d125c7ea34acbbf6d7fb7f69baa31",
            "value": "eval cumulative reward:  12.0899 (init:  5.8008), eval step-count: 199, average reward= 0.0507 (init= 0.0587), step count (max): 199, lr policy:  0.0000: "
          }
        },
        "ea48c99904d74e3a8a550ffb87b3bee7": {
          "model_module": "@jupyter-widgets/controls",
          "model_name": "FloatProgressModel",
          "model_module_version": "1.5.0",
          "state": {
            "_dom_classes": [],
            "_model_module": "@jupyter-widgets/controls",
            "_model_module_version": "1.5.0",
            "_model_name": "FloatProgressModel",
            "_view_count": null,
            "_view_module": "@jupyter-widgets/controls",
            "_view_module_version": "1.5.0",
            "_view_name": "ProgressView",
            "bar_style": "",
            "description": "",
            "description_tooltip": null,
            "layout": "IPY_MODEL_bcf44fbcbfea48248030715c74e4381a",
            "max": 250000,
            "min": 0,
            "orientation": "horizontal",
            "style": "IPY_MODEL_35ba5113b8394535b824a96c101cfedc",
            "value": 250000
          }
        },
        "93b9e42ec1f140148a4f0d6647b4df61": {
          "model_module": "@jupyter-widgets/controls",
          "model_name": "HTMLModel",
          "model_module_version": "1.5.0",
          "state": {
            "_dom_classes": [],
            "_model_module": "@jupyter-widgets/controls",
            "_model_module_version": "1.5.0",
            "_model_name": "HTMLModel",
            "_view_count": null,
            "_view_module": "@jupyter-widgets/controls",
            "_view_module_version": "1.5.0",
            "_view_name": "HTMLView",
            "description": "",
            "description_tooltip": null,
            "layout": "IPY_MODEL_8af448a073ee4e7bb02d82d44dbed570",
            "placeholder": "​",
            "style": "IPY_MODEL_9db171b7182b4c88a8a3bc518e002ef6",
            "value": " 250125/? [17:40&lt;00:00, 215.17it/s]"
          }
        },
        "903b4b3e4aa244ca95bba752bf5b3afa": {
          "model_module": "@jupyter-widgets/base",
          "model_name": "LayoutModel",
          "model_module_version": "1.2.0",
          "state": {
            "_model_module": "@jupyter-widgets/base",
            "_model_module_version": "1.2.0",
            "_model_name": "LayoutModel",
            "_view_count": null,
            "_view_module": "@jupyter-widgets/base",
            "_view_module_version": "1.2.0",
            "_view_name": "LayoutView",
            "align_content": null,
            "align_items": null,
            "align_self": null,
            "border": null,
            "bottom": null,
            "display": null,
            "flex": null,
            "flex_flow": null,
            "grid_area": null,
            "grid_auto_columns": null,
            "grid_auto_flow": null,
            "grid_auto_rows": null,
            "grid_column": null,
            "grid_gap": null,
            "grid_row": null,
            "grid_template_areas": null,
            "grid_template_columns": null,
            "grid_template_rows": null,
            "height": null,
            "justify_content": null,
            "justify_items": null,
            "left": null,
            "margin": null,
            "max_height": null,
            "max_width": null,
            "min_height": null,
            "min_width": null,
            "object_fit": null,
            "object_position": null,
            "order": null,
            "overflow": null,
            "overflow_x": null,
            "overflow_y": null,
            "padding": null,
            "right": null,
            "top": null,
            "visibility": null,
            "width": null
          }
        },
        "46bb14e9eb8045a29e0a4a44b68de9aa": {
          "model_module": "@jupyter-widgets/base",
          "model_name": "LayoutModel",
          "model_module_version": "1.2.0",
          "state": {
            "_model_module": "@jupyter-widgets/base",
            "_model_module_version": "1.2.0",
            "_model_name": "LayoutModel",
            "_view_count": null,
            "_view_module": "@jupyter-widgets/base",
            "_view_module_version": "1.2.0",
            "_view_name": "LayoutView",
            "align_content": null,
            "align_items": null,
            "align_self": null,
            "border": null,
            "bottom": null,
            "display": null,
            "flex": null,
            "flex_flow": null,
            "grid_area": null,
            "grid_auto_columns": null,
            "grid_auto_flow": null,
            "grid_auto_rows": null,
            "grid_column": null,
            "grid_gap": null,
            "grid_row": null,
            "grid_template_areas": null,
            "grid_template_columns": null,
            "grid_template_rows": null,
            "height": null,
            "justify_content": null,
            "justify_items": null,
            "left": null,
            "margin": null,
            "max_height": null,
            "max_width": null,
            "min_height": null,
            "min_width": null,
            "object_fit": null,
            "object_position": null,
            "order": null,
            "overflow": null,
            "overflow_x": null,
            "overflow_y": null,
            "padding": null,
            "right": null,
            "top": null,
            "visibility": null,
            "width": null
          }
        },
        "973d125c7ea34acbbf6d7fb7f69baa31": {
          "model_module": "@jupyter-widgets/controls",
          "model_name": "DescriptionStyleModel",
          "model_module_version": "1.5.0",
          "state": {
            "_model_module": "@jupyter-widgets/controls",
            "_model_module_version": "1.5.0",
            "_model_name": "DescriptionStyleModel",
            "_view_count": null,
            "_view_module": "@jupyter-widgets/base",
            "_view_module_version": "1.2.0",
            "_view_name": "StyleView",
            "description_width": ""
          }
        },
        "bcf44fbcbfea48248030715c74e4381a": {
          "model_module": "@jupyter-widgets/base",
          "model_name": "LayoutModel",
          "model_module_version": "1.2.0",
          "state": {
            "_model_module": "@jupyter-widgets/base",
            "_model_module_version": "1.2.0",
            "_model_name": "LayoutModel",
            "_view_count": null,
            "_view_module": "@jupyter-widgets/base",
            "_view_module_version": "1.2.0",
            "_view_name": "LayoutView",
            "align_content": null,
            "align_items": null,
            "align_self": null,
            "border": null,
            "bottom": null,
            "display": null,
            "flex": null,
            "flex_flow": null,
            "grid_area": null,
            "grid_auto_columns": null,
            "grid_auto_flow": null,
            "grid_auto_rows": null,
            "grid_column": null,
            "grid_gap": null,
            "grid_row": null,
            "grid_template_areas": null,
            "grid_template_columns": null,
            "grid_template_rows": null,
            "height": null,
            "justify_content": null,
            "justify_items": null,
            "left": null,
            "margin": null,
            "max_height": null,
            "max_width": null,
            "min_height": null,
            "min_width": null,
            "object_fit": null,
            "object_position": null,
            "order": null,
            "overflow": null,
            "overflow_x": null,
            "overflow_y": null,
            "padding": null,
            "right": null,
            "top": null,
            "visibility": null,
            "width": null
          }
        },
        "35ba5113b8394535b824a96c101cfedc": {
          "model_module": "@jupyter-widgets/controls",
          "model_name": "ProgressStyleModel",
          "model_module_version": "1.5.0",
          "state": {
            "_model_module": "@jupyter-widgets/controls",
            "_model_module_version": "1.5.0",
            "_model_name": "ProgressStyleModel",
            "_view_count": null,
            "_view_module": "@jupyter-widgets/base",
            "_view_module_version": "1.2.0",
            "_view_name": "StyleView",
            "bar_color": null,
            "description_width": ""
          }
        },
        "8af448a073ee4e7bb02d82d44dbed570": {
          "model_module": "@jupyter-widgets/base",
          "model_name": "LayoutModel",
          "model_module_version": "1.2.0",
          "state": {
            "_model_module": "@jupyter-widgets/base",
            "_model_module_version": "1.2.0",
            "_model_name": "LayoutModel",
            "_view_count": null,
            "_view_module": "@jupyter-widgets/base",
            "_view_module_version": "1.2.0",
            "_view_name": "LayoutView",
            "align_content": null,
            "align_items": null,
            "align_self": null,
            "border": null,
            "bottom": null,
            "display": null,
            "flex": null,
            "flex_flow": null,
            "grid_area": null,
            "grid_auto_columns": null,
            "grid_auto_flow": null,
            "grid_auto_rows": null,
            "grid_column": null,
            "grid_gap": null,
            "grid_row": null,
            "grid_template_areas": null,
            "grid_template_columns": null,
            "grid_template_rows": null,
            "height": null,
            "justify_content": null,
            "justify_items": null,
            "left": null,
            "margin": null,
            "max_height": null,
            "max_width": null,
            "min_height": null,
            "min_width": null,
            "object_fit": null,
            "object_position": null,
            "order": null,
            "overflow": null,
            "overflow_x": null,
            "overflow_y": null,
            "padding": null,
            "right": null,
            "top": null,
            "visibility": null,
            "width": null
          }
        },
        "9db171b7182b4c88a8a3bc518e002ef6": {
          "model_module": "@jupyter-widgets/controls",
          "model_name": "DescriptionStyleModel",
          "model_module_version": "1.5.0",
          "state": {
            "_model_module": "@jupyter-widgets/controls",
            "_model_module_version": "1.5.0",
            "_model_name": "DescriptionStyleModel",
            "_view_count": null,
            "_view_module": "@jupyter-widgets/base",
            "_view_module_version": "1.2.0",
            "_view_name": "StyleView",
            "description_width": ""
          }
        }
      }
    }
  },
  "cells": [
    {
      "cell_type": "markdown",
      "source": [
        "# Robustness Testing\n",
        "\n",
        "In this tutorial, you will learn how to test for robustness on a simple actor critic model."
      ],
      "metadata": {
        "id": "159bl5Cq3XuT"
      }
    },
    {
      "cell_type": "code",
      "execution_count": 1,
      "metadata": {
        "colab": {
          "base_uri": "https://localhost:8080/"
        },
        "id": "_bsAJu2tXLAQ",
        "outputId": "5f836b49-3974-46d6-df66-e09d06ebbb83"
      },
      "outputs": [
        {
          "output_type": "stream",
          "name": "stdout",
          "text": [
            "Collecting torchrl\n",
            "  Downloading torchrl-0.8.0-cp311-cp311-manylinux_2_28_x86_64.whl.metadata (41 kB)\n",
            "\u001b[?25l     \u001b[90m━━━━━━━━━━━━━━━━━━━━━━━━━━━━━━━━━━━━━━━━\u001b[0m \u001b[32m0.0/41.2 kB\u001b[0m \u001b[31m?\u001b[0m eta \u001b[36m-:--:--\u001b[0m\r\u001b[2K     \u001b[90m━━━━━━━━━━━━━━━━━━━━━━━━━━━━━━━━━━━━━━━━\u001b[0m \u001b[32m41.2/41.2 kB\u001b[0m \u001b[31m1.4 MB/s\u001b[0m eta \u001b[36m0:00:00\u001b[0m\n",
            "\u001b[?25hCollecting gymnasium==0.29\n",
            "  Downloading gymnasium-0.29.0-py3-none-any.whl.metadata (10 kB)\n",
            "Requirement already satisfied: tqdm in /usr/local/lib/python3.11/dist-packages (4.67.1)\n",
            "Requirement already satisfied: matplotlib in /usr/local/lib/python3.11/dist-packages (3.10.0)\n",
            "Collecting av\n",
            "  Downloading av-14.3.0-cp311-cp311-manylinux_2_17_x86_64.manylinux2014_x86_64.whl.metadata (4.7 kB)\n",
            "Requirement already satisfied: numpy>=1.21.0 in /usr/local/lib/python3.11/dist-packages (from gymnasium==0.29) (2.0.2)\n",
            "Requirement already satisfied: cloudpickle>=1.2.0 in /usr/local/lib/python3.11/dist-packages (from gymnasium==0.29) (3.1.1)\n",
            "Requirement already satisfied: typing-extensions>=4.3.0 in /usr/local/lib/python3.11/dist-packages (from gymnasium==0.29) (4.13.2)\n",
            "Requirement already satisfied: farama-notifications>=0.0.1 in /usr/local/lib/python3.11/dist-packages (from gymnasium==0.29) (0.0.4)\n",
            "Requirement already satisfied: torch>=2.1.0 in /usr/local/lib/python3.11/dist-packages (from torchrl) (2.6.0+cu124)\n",
            "Requirement already satisfied: packaging in /usr/local/lib/python3.11/dist-packages (from torchrl) (24.2)\n",
            "Collecting tensordict<0.9.0,>=0.8.1 (from torchrl)\n",
            "  Downloading tensordict-0.8.2-cp311-cp311-manylinux_2_28_x86_64.whl.metadata (9.2 kB)\n",
            "Requirement already satisfied: contourpy>=1.0.1 in /usr/local/lib/python3.11/dist-packages (from matplotlib) (1.3.2)\n",
            "Requirement already satisfied: cycler>=0.10 in /usr/local/lib/python3.11/dist-packages (from matplotlib) (0.12.1)\n",
            "Requirement already satisfied: fonttools>=4.22.0 in /usr/local/lib/python3.11/dist-packages (from matplotlib) (4.57.0)\n",
            "Requirement already satisfied: kiwisolver>=1.3.1 in /usr/local/lib/python3.11/dist-packages (from matplotlib) (1.4.8)\n",
            "Requirement already satisfied: pillow>=8 in /usr/local/lib/python3.11/dist-packages (from matplotlib) (11.2.1)\n",
            "Requirement already satisfied: pyparsing>=2.3.1 in /usr/local/lib/python3.11/dist-packages (from matplotlib) (3.2.3)\n",
            "Requirement already satisfied: python-dateutil>=2.7 in /usr/local/lib/python3.11/dist-packages (from matplotlib) (2.9.0.post0)\n",
            "Requirement already satisfied: six>=1.5 in /usr/local/lib/python3.11/dist-packages (from python-dateutil>=2.7->matplotlib) (1.17.0)\n",
            "Requirement already satisfied: importlib_metadata in /usr/local/lib/python3.11/dist-packages (from tensordict<0.9.0,>=0.8.1->torchrl) (8.7.0)\n",
            "Requirement already satisfied: orjson in /usr/local/lib/python3.11/dist-packages (from tensordict<0.9.0,>=0.8.1->torchrl) (3.10.18)\n",
            "Requirement already satisfied: filelock in /usr/local/lib/python3.11/dist-packages (from torch>=2.1.0->torchrl) (3.18.0)\n",
            "Requirement already satisfied: networkx in /usr/local/lib/python3.11/dist-packages (from torch>=2.1.0->torchrl) (3.4.2)\n",
            "Requirement already satisfied: jinja2 in /usr/local/lib/python3.11/dist-packages (from torch>=2.1.0->torchrl) (3.1.6)\n",
            "Requirement already satisfied: fsspec in /usr/local/lib/python3.11/dist-packages (from torch>=2.1.0->torchrl) (2025.3.2)\n",
            "Collecting nvidia-cuda-nvrtc-cu12==12.4.127 (from torch>=2.1.0->torchrl)\n",
            "  Downloading nvidia_cuda_nvrtc_cu12-12.4.127-py3-none-manylinux2014_x86_64.whl.metadata (1.5 kB)\n",
            "Collecting nvidia-cuda-runtime-cu12==12.4.127 (from torch>=2.1.0->torchrl)\n",
            "  Downloading nvidia_cuda_runtime_cu12-12.4.127-py3-none-manylinux2014_x86_64.whl.metadata (1.5 kB)\n",
            "Collecting nvidia-cuda-cupti-cu12==12.4.127 (from torch>=2.1.0->torchrl)\n",
            "  Downloading nvidia_cuda_cupti_cu12-12.4.127-py3-none-manylinux2014_x86_64.whl.metadata (1.6 kB)\n",
            "Collecting nvidia-cudnn-cu12==9.1.0.70 (from torch>=2.1.0->torchrl)\n",
            "  Downloading nvidia_cudnn_cu12-9.1.0.70-py3-none-manylinux2014_x86_64.whl.metadata (1.6 kB)\n",
            "Collecting nvidia-cublas-cu12==12.4.5.8 (from torch>=2.1.0->torchrl)\n",
            "  Downloading nvidia_cublas_cu12-12.4.5.8-py3-none-manylinux2014_x86_64.whl.metadata (1.5 kB)\n",
            "Collecting nvidia-cufft-cu12==11.2.1.3 (from torch>=2.1.0->torchrl)\n",
            "  Downloading nvidia_cufft_cu12-11.2.1.3-py3-none-manylinux2014_x86_64.whl.metadata (1.5 kB)\n",
            "Collecting nvidia-curand-cu12==10.3.5.147 (from torch>=2.1.0->torchrl)\n",
            "  Downloading nvidia_curand_cu12-10.3.5.147-py3-none-manylinux2014_x86_64.whl.metadata (1.5 kB)\n",
            "Collecting nvidia-cusolver-cu12==11.6.1.9 (from torch>=2.1.0->torchrl)\n",
            "  Downloading nvidia_cusolver_cu12-11.6.1.9-py3-none-manylinux2014_x86_64.whl.metadata (1.6 kB)\n",
            "Collecting nvidia-cusparse-cu12==12.3.1.170 (from torch>=2.1.0->torchrl)\n",
            "  Downloading nvidia_cusparse_cu12-12.3.1.170-py3-none-manylinux2014_x86_64.whl.metadata (1.6 kB)\n",
            "Requirement already satisfied: nvidia-cusparselt-cu12==0.6.2 in /usr/local/lib/python3.11/dist-packages (from torch>=2.1.0->torchrl) (0.6.2)\n",
            "Requirement already satisfied: nvidia-nccl-cu12==2.21.5 in /usr/local/lib/python3.11/dist-packages (from torch>=2.1.0->torchrl) (2.21.5)\n",
            "Requirement already satisfied: nvidia-nvtx-cu12==12.4.127 in /usr/local/lib/python3.11/dist-packages (from torch>=2.1.0->torchrl) (12.4.127)\n",
            "Collecting nvidia-nvjitlink-cu12==12.4.127 (from torch>=2.1.0->torchrl)\n",
            "  Downloading nvidia_nvjitlink_cu12-12.4.127-py3-none-manylinux2014_x86_64.whl.metadata (1.5 kB)\n",
            "Requirement already satisfied: triton==3.2.0 in /usr/local/lib/python3.11/dist-packages (from torch>=2.1.0->torchrl) (3.2.0)\n",
            "Requirement already satisfied: sympy==1.13.1 in /usr/local/lib/python3.11/dist-packages (from torch>=2.1.0->torchrl) (1.13.1)\n",
            "Requirement already satisfied: mpmath<1.4,>=1.1.0 in /usr/local/lib/python3.11/dist-packages (from sympy==1.13.1->torch>=2.1.0->torchrl) (1.3.0)\n",
            "Requirement already satisfied: zipp>=3.20 in /usr/local/lib/python3.11/dist-packages (from importlib_metadata->tensordict<0.9.0,>=0.8.1->torchrl) (3.21.0)\n",
            "Requirement already satisfied: MarkupSafe>=2.0 in /usr/local/lib/python3.11/dist-packages (from jinja2->torch>=2.1.0->torchrl) (3.0.2)\n",
            "Downloading gymnasium-0.29.0-py3-none-any.whl (953 kB)\n",
            "\u001b[2K   \u001b[90m━━━━━━━━━━━━━━━━━━━━━━━━━━━━━━━━━━━━━━━━\u001b[0m \u001b[32m953.8/953.8 kB\u001b[0m \u001b[31m6.5 MB/s\u001b[0m eta \u001b[36m0:00:00\u001b[0m\n",
            "\u001b[?25hDownloading torchrl-0.8.0-cp311-cp311-manylinux_2_28_x86_64.whl (1.2 MB)\n",
            "\u001b[2K   \u001b[90m━━━━━━━━━━━━━━━━━━━━━━━━━━━━━━━━━━━━━━━━\u001b[0m \u001b[32m1.2/1.2 MB\u001b[0m \u001b[31m20.5 MB/s\u001b[0m eta \u001b[36m0:00:00\u001b[0m\n",
            "\u001b[?25hDownloading av-14.3.0-cp311-cp311-manylinux_2_17_x86_64.manylinux2014_x86_64.whl (35.2 MB)\n",
            "\u001b[2K   \u001b[90m━━━━━━━━━━━━━━━━━━━━━━━━━━━━━━━━━━━━━━━━\u001b[0m \u001b[32m35.2/35.2 MB\u001b[0m \u001b[31m15.8 MB/s\u001b[0m eta \u001b[36m0:00:00\u001b[0m\n",
            "\u001b[?25hDownloading tensordict-0.8.2-cp311-cp311-manylinux_2_28_x86_64.whl (414 kB)\n",
            "\u001b[2K   \u001b[90m━━━━━━━━━━━━━━━━━━━━━━━━━━━━━━━━━━━━━━━━\u001b[0m \u001b[32m414.3/414.3 kB\u001b[0m \u001b[31m16.7 MB/s\u001b[0m eta \u001b[36m0:00:00\u001b[0m\n",
            "\u001b[?25hDownloading nvidia_cublas_cu12-12.4.5.8-py3-none-manylinux2014_x86_64.whl (363.4 MB)\n",
            "\u001b[2K   \u001b[90m━━━━━━━━━━━━━━━━━━━━━━━━━━━━━━━━━━━━━━━━\u001b[0m \u001b[32m363.4/363.4 MB\u001b[0m \u001b[31m4.2 MB/s\u001b[0m eta \u001b[36m0:00:00\u001b[0m\n",
            "\u001b[?25hDownloading nvidia_cuda_cupti_cu12-12.4.127-py3-none-manylinux2014_x86_64.whl (13.8 MB)\n",
            "\u001b[2K   \u001b[90m━━━━━━━━━━━━━━━━━━━━━━━━━━━━━━━━━━━━━━━━\u001b[0m \u001b[32m13.8/13.8 MB\u001b[0m \u001b[31m49.7 MB/s\u001b[0m eta \u001b[36m0:00:00\u001b[0m\n",
            "\u001b[?25hDownloading nvidia_cuda_nvrtc_cu12-12.4.127-py3-none-manylinux2014_x86_64.whl (24.6 MB)\n",
            "\u001b[2K   \u001b[90m━━━━━━━━━━━━━━━━━━━━━━━━━━━━━━━━━━━━━━━━\u001b[0m \u001b[32m24.6/24.6 MB\u001b[0m \u001b[31m40.4 MB/s\u001b[0m eta \u001b[36m0:00:00\u001b[0m\n",
            "\u001b[?25hDownloading nvidia_cuda_runtime_cu12-12.4.127-py3-none-manylinux2014_x86_64.whl (883 kB)\n",
            "\u001b[2K   \u001b[90m━━━━━━━━━━━━━━━━━━━━━━━━━━━━━━━━━━━━━━━━\u001b[0m \u001b[32m883.7/883.7 kB\u001b[0m \u001b[31m23.7 MB/s\u001b[0m eta \u001b[36m0:00:00\u001b[0m\n",
            "\u001b[?25hDownloading nvidia_cudnn_cu12-9.1.0.70-py3-none-manylinux2014_x86_64.whl (664.8 MB)\n",
            "\u001b[2K   \u001b[90m━━━━━━━━━━━━━━━━━━━━━━━━━━━━━━━━━━━━━━━━\u001b[0m \u001b[32m664.8/664.8 MB\u001b[0m \u001b[31m3.0 MB/s\u001b[0m eta \u001b[36m0:00:00\u001b[0m\n",
            "\u001b[?25hDownloading nvidia_cufft_cu12-11.2.1.3-py3-none-manylinux2014_x86_64.whl (211.5 MB)\n",
            "\u001b[2K   \u001b[90m━━━━━━━━━━━━━━━━━━━━━━━━━━━━━━━━━━━━━━━━\u001b[0m \u001b[32m211.5/211.5 MB\u001b[0m \u001b[31m5.7 MB/s\u001b[0m eta \u001b[36m0:00:00\u001b[0m\n",
            "\u001b[?25hDownloading nvidia_curand_cu12-10.3.5.147-py3-none-manylinux2014_x86_64.whl (56.3 MB)\n",
            "\u001b[2K   \u001b[90m━━━━━━━━━━━━━━━━━━━━━━━━━━━━━━━━━━━━━━━━\u001b[0m \u001b[32m56.3/56.3 MB\u001b[0m \u001b[31m11.1 MB/s\u001b[0m eta \u001b[36m0:00:00\u001b[0m\n",
            "\u001b[?25hDownloading nvidia_cusolver_cu12-11.6.1.9-py3-none-manylinux2014_x86_64.whl (127.9 MB)\n",
            "\u001b[2K   \u001b[90m━━━━━━━━━━━━━━━━━━━━━━━━━━━━━━━━━━━━━━━━\u001b[0m \u001b[32m127.9/127.9 MB\u001b[0m \u001b[31m7.5 MB/s\u001b[0m eta \u001b[36m0:00:00\u001b[0m\n",
            "\u001b[?25hDownloading nvidia_cusparse_cu12-12.3.1.170-py3-none-manylinux2014_x86_64.whl (207.5 MB)\n",
            "\u001b[2K   \u001b[90m━━━━━━━━━━━━━━━━━━━━━━━━━━━━━━━━━━━━━━━━\u001b[0m \u001b[32m207.5/207.5 MB\u001b[0m \u001b[31m5.5 MB/s\u001b[0m eta \u001b[36m0:00:00\u001b[0m\n",
            "\u001b[?25hDownloading nvidia_nvjitlink_cu12-12.4.127-py3-none-manylinux2014_x86_64.whl (21.1 MB)\n",
            "\u001b[2K   \u001b[90m━━━━━━━━━━━━━━━━━━━━━━━━━━━━━━━━━━━━━━━━\u001b[0m \u001b[32m21.1/21.1 MB\u001b[0m \u001b[31m30.9 MB/s\u001b[0m eta \u001b[36m0:00:00\u001b[0m\n",
            "\u001b[?25hInstalling collected packages: nvidia-nvjitlink-cu12, nvidia-curand-cu12, nvidia-cufft-cu12, nvidia-cuda-runtime-cu12, nvidia-cuda-nvrtc-cu12, nvidia-cuda-cupti-cu12, nvidia-cublas-cu12, gymnasium, av, nvidia-cusparse-cu12, nvidia-cudnn-cu12, nvidia-cusolver-cu12, tensordict, torchrl\n",
            "  Attempting uninstall: nvidia-nvjitlink-cu12\n",
            "    Found existing installation: nvidia-nvjitlink-cu12 12.5.82\n",
            "    Uninstalling nvidia-nvjitlink-cu12-12.5.82:\n",
            "      Successfully uninstalled nvidia-nvjitlink-cu12-12.5.82\n",
            "  Attempting uninstall: nvidia-curand-cu12\n",
            "    Found existing installation: nvidia-curand-cu12 10.3.6.82\n",
            "    Uninstalling nvidia-curand-cu12-10.3.6.82:\n",
            "      Successfully uninstalled nvidia-curand-cu12-10.3.6.82\n",
            "  Attempting uninstall: nvidia-cufft-cu12\n",
            "    Found existing installation: nvidia-cufft-cu12 11.2.3.61\n",
            "    Uninstalling nvidia-cufft-cu12-11.2.3.61:\n",
            "      Successfully uninstalled nvidia-cufft-cu12-11.2.3.61\n",
            "  Attempting uninstall: nvidia-cuda-runtime-cu12\n",
            "    Found existing installation: nvidia-cuda-runtime-cu12 12.5.82\n",
            "    Uninstalling nvidia-cuda-runtime-cu12-12.5.82:\n",
            "      Successfully uninstalled nvidia-cuda-runtime-cu12-12.5.82\n",
            "  Attempting uninstall: nvidia-cuda-nvrtc-cu12\n",
            "    Found existing installation: nvidia-cuda-nvrtc-cu12 12.5.82\n",
            "    Uninstalling nvidia-cuda-nvrtc-cu12-12.5.82:\n",
            "      Successfully uninstalled nvidia-cuda-nvrtc-cu12-12.5.82\n",
            "  Attempting uninstall: nvidia-cuda-cupti-cu12\n",
            "    Found existing installation: nvidia-cuda-cupti-cu12 12.5.82\n",
            "    Uninstalling nvidia-cuda-cupti-cu12-12.5.82:\n",
            "      Successfully uninstalled nvidia-cuda-cupti-cu12-12.5.82\n",
            "  Attempting uninstall: nvidia-cublas-cu12\n",
            "    Found existing installation: nvidia-cublas-cu12 12.5.3.2\n",
            "    Uninstalling nvidia-cublas-cu12-12.5.3.2:\n",
            "      Successfully uninstalled nvidia-cublas-cu12-12.5.3.2\n",
            "  Attempting uninstall: gymnasium\n",
            "    Found existing installation: gymnasium 1.1.1\n",
            "    Uninstalling gymnasium-1.1.1:\n",
            "      Successfully uninstalled gymnasium-1.1.1\n",
            "  Attempting uninstall: nvidia-cusparse-cu12\n",
            "    Found existing installation: nvidia-cusparse-cu12 12.5.1.3\n",
            "    Uninstalling nvidia-cusparse-cu12-12.5.1.3:\n",
            "      Successfully uninstalled nvidia-cusparse-cu12-12.5.1.3\n",
            "  Attempting uninstall: nvidia-cudnn-cu12\n",
            "    Found existing installation: nvidia-cudnn-cu12 9.3.0.75\n",
            "    Uninstalling nvidia-cudnn-cu12-9.3.0.75:\n",
            "      Successfully uninstalled nvidia-cudnn-cu12-9.3.0.75\n",
            "  Attempting uninstall: nvidia-cusolver-cu12\n",
            "    Found existing installation: nvidia-cusolver-cu12 11.6.3.83\n",
            "    Uninstalling nvidia-cusolver-cu12-11.6.3.83:\n",
            "      Successfully uninstalled nvidia-cusolver-cu12-11.6.3.83\n",
            "\u001b[31mERROR: pip's dependency resolver does not currently take into account all the packages that are installed. This behaviour is the source of the following dependency conflicts.\n",
            "dopamine-rl 4.1.2 requires gymnasium>=1.0.0, but you have gymnasium 0.29.0 which is incompatible.\u001b[0m\u001b[31m\n",
            "\u001b[0mSuccessfully installed av-14.3.0 gymnasium-0.29.0 nvidia-cublas-cu12-12.4.5.8 nvidia-cuda-cupti-cu12-12.4.127 nvidia-cuda-nvrtc-cu12-12.4.127 nvidia-cuda-runtime-cu12-12.4.127 nvidia-cudnn-cu12-9.1.0.70 nvidia-cufft-cu12-11.2.1.3 nvidia-curand-cu12-10.3.5.147 nvidia-cusolver-cu12-11.6.1.9 nvidia-cusparse-cu12-12.3.1.170 nvidia-nvjitlink-cu12-12.4.127 tensordict-0.8.2 torchrl-0.8.0\n"
          ]
        }
      ],
      "source": [
        "!pip install torchrl gymnasium==0.29 tqdm matplotlib av"
      ]
    },
    {
      "cell_type": "markdown",
      "source": [
        "### Dependencies and Setup\n",
        "\n",
        "The code below imports all libraries needed for TorchRL to work. TorchRL is more modular compared to other libraries, leading us to need to import many different moving parts in order to train an agent. However, the benefit becomes it is much easier to extend our agent and customise it, as opposed to other frameworks like Stable Baseline 3 and Tianshou\n",
        "\n",
        "\n",
        "NOTE: Google Colab prompts for changes whenever the numpy version is changed, so just restart your session and all should be fixed."
      ],
      "metadata": {
        "id": "BVUb2oYu4Bxx"
      }
    },
    {
      "cell_type": "code",
      "source": [
        "from pathlib import Path\n",
        "from IPython.display import Video\n",
        "import os\n",
        "import random\n",
        "\n",
        "# https://gymnasium.farama.org/\n",
        "'''DO NOT ACCIDENTALLY INSTALL OPENAI GYM, IT IS OUTDATED'''\n",
        "import gymnasium as gym\n",
        "from gymnasium.wrappers import RecordVideo\n",
        "\n",
        "# Port environment into TorchRL\n",
        "from torchrl.envs import GymWrapper\n",
        "import warnings\n",
        "warnings.filterwarnings(\"ignore\")\n",
        "from torch import multiprocessing\n",
        "\n",
        "\n",
        "from collections import defaultdict\n",
        "\n",
        "import matplotlib.pyplot as plt\n",
        "import torch\n",
        "\n",
        "from tensordict.nn import TensorDictModule\n",
        "from torch import nn\n",
        "from torch.distributions import Categorical\n",
        "\n",
        "from torchrl.collectors import SyncDataCollector\n",
        "from torchrl.data.replay_buffers import ReplayBuffer\n",
        "from torchrl.data.replay_buffers.samplers import SamplerWithoutReplacement\n",
        "from torchrl.data.replay_buffers.storages import LazyTensorStorage\n",
        "from torchrl.envs import (\n",
        "    Compose, DoubleToFloat,\n",
        "    ObservationNorm, StepCounter,\n",
        "    TransformedEnv\n",
        ")\n",
        "from torchrl.envs.transforms import Transform\n",
        "from torchrl.envs import ParallelEnv, EnvCreator, SerialEnv\n",
        "from torchrl.envs.utils import check_env_specs, ExplorationType, set_exploration_type\n",
        "from torchrl.modules import ProbabilisticActor, ValueOperator\n",
        "from torchrl.objectives import ClipPPOLoss\n",
        "from torchrl.objectives.value import GAE\n",
        "from tqdm.notebook import tqdm\n",
        "from torchrl.record import VideoRecorder\n",
        "from torchrl.record.loggers import CSVLogger"
      ],
      "metadata": {
        "id": "DJbrKPzfaapD",
        "colab": {
          "base_uri": "https://localhost:8080/"
        },
        "outputId": "bc4491e2-ed45-4e18-c1da-d745a9218de5"
      },
      "execution_count": 2,
      "outputs": [
        {
          "output_type": "stream",
          "name": "stderr",
          "text": [
            "/usr/local/lib/python3.11/dist-packages/torchrl/data/replay_buffers/samplers.py:34: UserWarning: Failed to import torchrl C++ binaries. Some modules (eg, prioritized replay buffers) may not work with your installation. This is likely due to a discrepancy between your package version and the PyTorch version. Make sure both are compatible. Usually, torchrl majors follow the pytorch majors within a few days around the release. For instance, TorchRL 0.5 requires PyTorch 2.4.0, and TorchRL 0.6 requires PyTorch 2.5.0.\n",
            "  warnings.warn(EXTENSION_WARNING)\n"
          ]
        }
      ]
    },
    {
      "cell_type": "markdown",
      "source": [
        "### Creating the environment\n",
        "\n",
        "We choose to create the MountainCar-v0 environment, where the goal is to train an agent to reach the top of the right hill.\n",
        "\n",
        "Unlike in the previous tutorial, we set up our environment slightly differently: We are using a lambda object instead of just feeding TransformedEnv directly.\n",
        "\n",
        "We will explore more on why so in later cells."
      ],
      "metadata": {
        "id": "CFjkSxQ343qJ"
      }
    },
    {
      "cell_type": "code",
      "source": [
        "## Reward Shaping - To ensure we get somewhat better performance (You can tweak this to give better results!)\n",
        "\n",
        "class VelocityPositionReward(Transform):\n",
        "    def __init__(self, velocity_weight=5.0, position_threshold=0.0, side_bonus_weight=2.0, base_reward=0.0):\n",
        "        super().__init__()\n",
        "        self.velocity_weight = velocity_weight\n",
        "        self.side_bonus_weight = side_bonus_weight\n",
        "        self.position_threshold = position_threshold  # Threshold to determine left vs right side\n",
        "        self.base_reward = base_reward\n",
        "        self.max_velocity = None\n",
        "        self.min_velocity = None\n",
        "\n",
        "    def _step(self, tensordict, next_tensordict):\n",
        "        # Extract velocity and position from the next observation\n",
        "        velocity = next_tensordict[\"observation\"][..., 1]\n",
        "        position = next_tensordict[\"observation\"][..., 0]  # Assuming position is at index 0\n",
        "\n",
        "        # Initialize velocity trackers for new episodes if needed\n",
        "        if self.max_velocity is None or self.min_velocity is None or next_tensordict.get(\"done\", False).any():\n",
        "            self.max_velocity = velocity.clone()\n",
        "            self.min_velocity = velocity.clone()\n",
        "\n",
        "        # Update max_velocity when a new maximum is reached\n",
        "        self.max_velocity = torch.maximum(velocity, self.max_velocity)\n",
        "\n",
        "        # Update min_velocity when a new minimum is reached\n",
        "        self.min_velocity = torch.minimum(velocity, self.min_velocity)\n",
        "\n",
        "        # Start with base reward + velocity component (as in original)\n",
        "        reward = self.base_reward + self.velocity_weight * self.max_velocity\n",
        "\n",
        "        # Apply position-based velocity bonus\n",
        "        left_side = position < self.position_threshold\n",
        "        right_side = position >= self.position_threshold\n",
        "\n",
        "        # For left side positions, bonus for negative velocity (going left)\n",
        "        left_bonus = torch.where(\n",
        "            left_side & (velocity < 0),\n",
        "            self.side_bonus_weight * torch.abs(self.min_velocity),\n",
        "            torch.zeros_like(velocity)\n",
        "        )\n",
        "\n",
        "        # For right side positions, bonus for positive velocity (going right)\n",
        "        right_bonus = torch.where(\n",
        "            right_side & (velocity > 0),\n",
        "            self.side_bonus_weight * self.max_velocity,\n",
        "            torch.zeros_like(velocity)\n",
        "        )\n",
        "\n",
        "        # Add the bonuses to the reward\n",
        "        reward = reward + left_bonus + right_bonus\n",
        "\n",
        "        # Update the reward in the next_tensordict\n",
        "        next_tensordict.set(\"reward\", reward.unsqueeze(-1))\n",
        "\n",
        "        return next_tensordict\n",
        "\n",
        "    def _reset(self, tensordict, tensordict_reset):\n",
        "        # Reset the velocity tracking\n",
        "        self.max_velocity = None\n",
        "        self.min_velocity = None\n",
        "        return tensordict_reset"
      ],
      "metadata": {
        "id": "yfB-K4fzOl4Q"
      },
      "execution_count": 3,
      "outputs": []
    },
    {
      "cell_type": "markdown",
      "source": [
        "### Robustness Tests\n",
        "\n",
        "The following code below test for robustness, and how well our model performs in edge cases. In essence, these noise or shuffle the observation, skewing the representations of the environment fed to the model.\n",
        "\n",
        "These helps achieve two things\n",
        "\n",
        "1. Test for robustness during inference\n",
        "1. Help the model generalize better during training.\n",
        "\n",
        "To achieve this, we apply a transform to the environment, similar to what we did for reward shaping.\n",
        "\n",
        "The following transforms does the following:\n",
        "- RobustObsNoise: Add random noise to the observations\n",
        "- RobustObsShuffle: Shuffles the observations around in the observation\n"
      ],
      "metadata": {
        "id": "_c4wHecjDe7Z"
      }
    },
    {
      "cell_type": "code",
      "source": [
        "class RobustObsNoise(Transform):\n",
        "    def __init__(self, random_threshold=0.3, noise_scale=0.01, seed=42):\n",
        "        super().__init__()\n",
        "        self.random_threshold = random_threshold\n",
        "        self.noise_scale = noise_scale\n",
        "        self.generator = torch.Generator()\n",
        "        self.generator.manual_seed(seed)\n",
        "\n",
        "    def _apply_noise(self, observation):\n",
        "        # Apply noise with probability determined by random_threshold\n",
        "        if torch.rand(1, generator=self.generator).item() < self.random_threshold:\n",
        "            # Create noise tensors with the same shape as the observation components\n",
        "            position_noise = torch.randn(observation[..., 0].shape, generator=self.generator,\n",
        "                                        device=observation.device) * self.noise_scale\n",
        "            velocity_noise = torch.randn(observation[..., 1].shape, generator=self.generator,\n",
        "                                        device=observation.device) * self.noise_scale\n",
        "\n",
        "            # Combine noise into proper shape\n",
        "            noise = torch.stack([position_noise, velocity_noise], dim=-1)\n",
        "\n",
        "            # Add noise to observation\n",
        "            return observation + noise\n",
        "        return observation\n",
        "\n",
        "    def _reset(self, tensordict, tensordict_reset):\n",
        "        # Apply noise to initial observation too\n",
        "        if \"observation\" in tensordict_reset:\n",
        "            tensordict_reset[\"observation\"] = self._apply_noise(tensordict_reset[\"observation\"])\n",
        "        return tensordict_reset\n",
        "\n",
        "    def _step(self, tensordict, next_tensordict):\n",
        "        # Apply noise to the next observation\n",
        "        if \"observation\" in next_tensordict:\n",
        "            next_tensordict[\"observation\"] = self._apply_noise(next_tensordict[\"observation\"])\n",
        "        return next_tensordict"
      ],
      "metadata": {
        "id": "2WI836wS3w8R"
      },
      "execution_count": 4,
      "outputs": []
    },
    {
      "cell_type": "code",
      "source": [
        "class RobustObsShuffle(Transform):\n",
        "    def __init__(self, random_threshold=0.3, seed=42):\n",
        "        super().__init__()\n",
        "        self.random_threshold = random_threshold\n",
        "        self.generator = torch.Generator()\n",
        "        self.generator.manual_seed(seed)\n",
        "\n",
        "    def _shuffle_observation(self, observation):\n",
        "        # Apply shuffling with probability determined by random_threshold\n",
        "        if torch.rand(1, generator=self.generator).item() < self.random_threshold:\n",
        "            # MountainCar observation is [position, velocity]\n",
        "            # Shuffle by swapping position and velocity values\n",
        "            shuffled = torch.zeros_like(observation)\n",
        "            shuffled[..., 0] = observation[..., 1]  # Put velocity in position's place\n",
        "            shuffled[..., 1] = observation[..., 0]  # Put position in velocity's place\n",
        "            return shuffled\n",
        "        return observation\n",
        "\n",
        "    def _reset(self, tensordict, tensordict_reset):\n",
        "        # Apply shuffling to initial observation too\n",
        "        if \"observation\" in tensordict_reset:\n",
        "            tensordict_reset[\"observation\"] = self._shuffle_observation(tensordict_reset[\"observation\"])\n",
        "        return tensordict_reset\n",
        "\n",
        "    def _step(self, tensordict, next_tensordict):\n",
        "        # Apply shuffling to the next observation\n",
        "        if \"observation\" in next_tensordict:\n",
        "            next_tensordict[\"observation\"] = self._shuffle_observation(next_tensordict[\"observation\"])\n",
        "        return next_tensordict"
      ],
      "metadata": {
        "id": "EjfGPeEL39FM"
      },
      "execution_count": 5,
      "outputs": []
    },
    {
      "cell_type": "code",
      "source": [
        "HOME_DIR = Path(\"/working\")\n",
        "os.makedirs(HOME_DIR, exist_ok = True)\n",
        "RANDOM_SEED = 42\n",
        "DEVICE = 'cpu'\n",
        "OUTPUT_DIR = Path(\"./working\")\n",
        "OUTPUT_DIR.mkdir(exist_ok=True)\n",
        "VIDEO_DIR = OUTPUT_DIR / \"my_exp\" / \"videos\"\n",
        "\n",
        "'''\n",
        "How to make an environment in TorchRL\n",
        "\n",
        "env = gym.make(\"MountainCar-v0\", render_mode = \"rgb_array\")\n",
        "base_env = GymWrapper(env, device = DEVICE, categorical_action_encoding=False) #Change this to false as we use OneHot\n",
        "'''\n",
        "\n",
        "logger = CSVLogger(exp_name=\"my_exp\", log_dir = OUTPUT_DIR, video_format=\"mp4\")\n",
        "\n",
        "# 1) Factory for the recording env (worker 0)\n",
        "def make_nonrecording_env():\n",
        "    base = GymWrapper(\n",
        "        gym.make(\"MountainCar-v0\"),\n",
        "        device=\"cpu\",\n",
        "        categorical_action_encoding=True,\n",
        "    )\n",
        "    return TransformedEnv(\n",
        "        base,\n",
        "        Compose(\n",
        "            DoubleToFloat(),\n",
        "            VelocityPositionReward(),\n",
        "            StepCounter(),\n",
        "\n",
        "        ),\n",
        "    )\n",
        "\n",
        "\n",
        "#Build a **serial** env with the recorder\n",
        "base = GymWrapper(\n",
        "    gym.make(\"MountainCar-v0\", render_mode=\"rgb_array\"),\n",
        "    device=DEVICE,\n",
        "    categorical_action_encoding=True,\n",
        "    from_pixels=True,\n",
        "    pixels_only=False,\n",
        ")\n",
        "rec_env = TransformedEnv(\n",
        "    base,\n",
        "    Compose(\n",
        "        DoubleToFloat(),\n",
        "        VideoRecorder(logger, tag=\"only_video\", skip=5),\n",
        "        VelocityPositionReward(),\n",
        "        RobustObsNoise(),\n",
        "        RobustObsShuffle(),\n",
        "        StepCounter(),\n",
        "\n",
        "    ),\n",
        ")\n"
      ],
      "metadata": {
        "id": "plSb7Cq4accg",
        "colab": {
          "base_uri": "https://localhost:8080/"
        },
        "outputId": "c000af6b-df24-4f12-c32d-861d5c054665"
      },
      "execution_count": 6,
      "outputs": [
        {
          "output_type": "stream",
          "name": "stderr",
          "text": [
            "/usr/local/lib/python3.11/dist-packages/pygame/pkgdata.py:25: DeprecationWarning: pkg_resources is deprecated as an API. See https://setuptools.pypa.io/en/latest/pkg_resources.html\n",
            "  from pkg_resources import resource_stream, resource_exists\n",
            "/usr/local/lib/python3.11/dist-packages/pkg_resources/__init__.py:3154: DeprecationWarning: Deprecated call to `pkg_resources.declare_namespace('google')`.\n",
            "Implementing implicit namespace packages (as specified in PEP 420) is preferred to `pkg_resources.declare_namespace`. See https://setuptools.pypa.io/en/latest/references/keywords.html#keyword-namespace-packages\n",
            "  declare_namespace(pkg)\n",
            "/usr/local/lib/python3.11/dist-packages/pkg_resources/__init__.py:3154: DeprecationWarning: Deprecated call to `pkg_resources.declare_namespace('google.cloud')`.\n",
            "Implementing implicit namespace packages (as specified in PEP 420) is preferred to `pkg_resources.declare_namespace`. See https://setuptools.pypa.io/en/latest/references/keywords.html#keyword-namespace-packages\n",
            "  declare_namespace(pkg)\n",
            "/usr/local/lib/python3.11/dist-packages/pkg_resources/__init__.py:3154: DeprecationWarning: Deprecated call to `pkg_resources.declare_namespace('sphinxcontrib')`.\n",
            "Implementing implicit namespace packages (as specified in PEP 420) is preferred to `pkg_resources.declare_namespace`. See https://setuptools.pypa.io/en/latest/references/keywords.html#keyword-namespace-packages\n",
            "  declare_namespace(pkg)\n"
          ]
        }
      ]
    },
    {
      "cell_type": "markdown",
      "source": [
        "### Hyperparameters\n",
        "\n",
        "These values change the complexity of the neurual network and other variables when training, such as batch size, total number of frames per episode,  replay buffer batches etc.\n"
      ],
      "metadata": {
        "id": "SwwcYbXT5mtA"
      }
    },
    {
      "cell_type": "code",
      "source": [
        "\n",
        "# Optimization Hyperparameters\n",
        "\n",
        "num_cells = 64  # number of cells in each hidden layer\n",
        "lr = 3e-4\n",
        "max_grad_norm = 1.0\n",
        "\n",
        "# Collection Hyperparams\n",
        "\n",
        "# How many frames to simulate the environment with the current policy\n",
        "# before you start optimizing your policy\n",
        "frames_per_batch = 2000\n",
        "\n",
        "# After this number of frames, stop training.\n",
        "# For serious training endeavors, do at least 1M steps.\n",
        "total_frames = 250_000\n",
        "\n",
        "# Algorithm Hyperparameters\n",
        "\n",
        "# In Supervised Learning, this is your Batch Size.\n",
        "# Here we are referring to a small slice of the frames we collected above.\n",
        "# This is passed wholesale into the policy for backpropagation.\n",
        "sub_batch_size = 64\n",
        "\n",
        "# How many times you want to loop through the collected frames\n",
        "# during your optimization phase.\n",
        "# This is PPO-specific, other algorithms\n",
        "num_epochs = 10\n",
        "\n",
        "# clip value for PPO loss: see the equation in the intro for more context.\n",
        "clip_epsilon = (\n",
        "    0.2\n",
        ")\n",
        "# Gamma and Lambda are hyperparameters for Generalised Advantage Estimation.\n",
        "# This is specific to most modern implementations of PPO,\n",
        "# and the math is very complex (the interested can go look at https://datascience.stackexchange.com/questions/32480/how-does-generalised-advantage-estimation-work),\n",
        "# but if you are just looking to optimize the algorithm:\n",
        "# 1. Gamma controls to what extent your algorithm looks into the future.\n",
        "# Specifically, steps into the future ~= 1 / (1 - gamma)\n",
        "# 2. Lambda\n",
        "gamma = 0.99\n",
        "lmbda = 0.95\n",
        "entropy_eps = 1e-4"
      ],
      "metadata": {
        "id": "CYmiDbWMawd_"
      },
      "execution_count": 7,
      "outputs": []
    },
    {
      "cell_type": "markdown",
      "source": [
        "### Parallel Environments\n",
        "\n",
        "If you had run the previous code for testing in Unit 1.1, the code would have taken a very long time to train a baseline PPO model. That is because simulating the agent on the environment is very compute intensive. By trading off memory usage, we can create multiple environments in parallel to speed up training.\n",
        "\n",
        "To do this, we call ParallelEnv, and feed it a lambda that creates a new environment. We also provide the number of environments we would like to provide in parallel.\n",
        "\n",
        "Due to constraints in the Colab instance provided, we have reduced the number of parallel environments to 2. Do feel free to try and optimise the code to allow for larger parallel runs if you are interested!"
      ],
      "metadata": {
        "id": "ztfN2OU270gZ"
      }
    },
    {
      "cell_type": "code",
      "source": [
        "\n",
        "composed_env = ParallelEnv(3, make_nonrecording_env) #Parallel env makes it faster\n",
        "\n",
        "''' print(\"observation_spec:\", composed_env.observation_spec)\n",
        "print(\"reward_spec:\", composed_env.reward_spec)\n",
        "print(\"input_spec:\", composed_env.input_spec)\n",
        "print(\"action_spec (as defined by input_spec):\", composed_env.action_spec)\n",
        "\n",
        "assert composed_env.batch_size == (2,) '''\n",
        "\n",
        "check_env_specs(composed_env)\n",
        "check_env_specs(rec_env)"
      ],
      "metadata": {
        "colab": {
          "base_uri": "https://localhost:8080/"
        },
        "id": "WGuiNu2yayIi",
        "outputId": "5c99e65e-b65b-4e5d-e859-4ab51cc0e6c1"
      },
      "execution_count": 8,
      "outputs": [
        {
          "output_type": "stream",
          "name": "stderr",
          "text": [
            "2025-05-07 14:52:14,370 [torchrl][INFO] check_env_specs succeeded!\n",
            "2025-05-07 14:52:14,511 [torchrl][INFO] check_env_specs succeeded!\n"
          ]
        }
      ]
    },
    {
      "cell_type": "markdown",
      "source": [
        "### Adding Dropout\n",
        "\n",
        "Another way we can generalize better and test for robustness is to add dropout in our models. Dropout is a layer in PyTorch that randomly drops each neuron in a layer based on a probability. This forces the model to use less parameters in order to maintain a good result, leading to a more robust model.\n",
        "\n"
      ],
      "metadata": {
        "id": "GGFyXyE28-ea"
      }
    },
    {
      "cell_type": "code",
      "source": [
        "# Simple Actor-Critic Setup\n",
        "\n",
        "# You can skip these if you want, these are the underlying neural networks.\n",
        "# Since we are using a Discrete policy, we need to use a Softmax to transform the outputs into action probabilities.\n",
        "actor_net = nn.Sequential(\n",
        "    nn.LazyLinear(num_cells, device=DEVICE),\n",
        "    nn.Tanh(),\n",
        "    nn.LazyLinear(num_cells, device=DEVICE),\n",
        "    nn.Dropout(0.3),\n",
        "    nn.Tanh(),\n",
        "    nn.LazyLinear(num_cells, device=DEVICE),\n",
        "    nn.Tanh(),\n",
        "    nn.LazyLinear(composed_env.action_spec.shape[-1], device = DEVICE),\n",
        "    nn.Softmax()\n",
        ")\n",
        "\n",
        "print(composed_env.action_spec.shape[-1])\n",
        "\n",
        "value_net = nn.Sequential(\n",
        "    nn.LazyLinear(num_cells, device=DEVICE),\n",
        "    nn.Tanh(),\n",
        "    nn.Dropout(0.3),\n",
        "    nn.LazyLinear(num_cells, device=DEVICE),\n",
        "    nn.Tanh(),\n",
        "    nn.LazyLinear(num_cells, device=DEVICE),\n",
        "    nn.Tanh(),\n",
        "    nn.LazyLinear(1, device=DEVICE),\n",
        ")\n",
        "\n",
        "\n",
        "# Actor Module\n",
        "policy_module = ProbabilisticActor(\n",
        "    module = TensorDictModule(\n",
        "        actor_net, in_keys=[\"observation\"], out_keys=[\"logits\"]\n",
        "    ),\n",
        "    spec=composed_env.action_spec,\n",
        "    in_keys=[\"logits\"],\n",
        "    distribution_class=Categorical,\n",
        "    return_log_prob=True,\n",
        "    # we'll need the log-prob for the numerator of the importance weights\n",
        ")\n",
        "\n",
        "# Critic Module\n",
        "value_module = ValueOperator(\n",
        "    module=value_net,\n",
        "    in_keys=[\"observation\"],\n",
        ")"
      ],
      "metadata": {
        "colab": {
          "base_uri": "https://localhost:8080/"
        },
        "id": "qS9k-0TIa1OJ",
        "outputId": "4ba26874-afdf-4fe6-a943-3906c398ebc6"
      },
      "execution_count": 9,
      "outputs": [
        {
          "output_type": "stream",
          "name": "stdout",
          "text": [
            "3\n"
          ]
        },
        {
          "output_type": "stream",
          "name": "stderr",
          "text": [
            "/usr/local/lib/python3.11/dist-packages/tensordict/nn/probabilistic.py:461: DeprecationWarning: You are querying the log-probability key of a SafeProbabilisticModule where the composite_lp_aggregate has not been set and the log-prob key has not been chosen. Currently, it is assumed that composite_lp_aggregate() will return True: the log-probs will be aggregated in a sample_log_prob entry. From v0.9, this behaviour will be changed and individual log-probs will be written in `('path', 'to', 'leaf', '<sample_name>_log_prob')`. To prepare for this change, call `set_composite_lp_aggregate(mode: bool).set()` at the beginning of your script (or set the COMPOSITE_LP_AGGREGATE env variable). Use mode=True to keep the current behaviour, and mode=False to use per-leaf log-probs.\n",
            "  warnings.warn(\n"
          ]
        }
      ]
    },
    {
      "cell_type": "code",
      "source": [
        "# Here's some code that shows how you can shape-check your TensorDicts.\n",
        "\n",
        "# Source TensorDict\n",
        "td = composed_env.reset()\n",
        "print(td)\n",
        "\n",
        "# You should notice, at least for this problem, that we have 3 new keys: `action`, `logits`, `sample_log_prob`\n",
        "# By doing so, TorchRL allows you to examine each step of your rollout pipeline.\n",
        "# Shape Check: done.\n",
        "print(policy_module(td))\n",
        "\n",
        "# Compare and contrast to a random action generated by the environment's specs.\n",
        "print(composed_env.rand_step()['action'])\n",
        "\n",
        "# Do a final rollout to make sure the collection process works end-to-end.\n",
        "composed_env.rollout(3, policy_module)\n",
        "\n",
        "#Roll out on the recording env to record videos\n",
        "rec_env.rollout(30000, policy_module)"
      ],
      "metadata": {
        "colab": {
          "base_uri": "https://localhost:8080/"
        },
        "id": "AXlXfafYa0Hr",
        "outputId": "8192f3aa-f948-4fe5-974d-ce7d6e29f0d2"
      },
      "execution_count": 10,
      "outputs": [
        {
          "output_type": "stream",
          "name": "stdout",
          "text": [
            "TensorDict(\n",
            "    fields={\n",
            "        done: Tensor(shape=torch.Size([3, 1]), device=cpu, dtype=torch.bool, is_shared=False),\n",
            "        observation: Tensor(shape=torch.Size([3, 2]), device=cpu, dtype=torch.float32, is_shared=False),\n",
            "        step_count: Tensor(shape=torch.Size([3, 1]), device=cpu, dtype=torch.int64, is_shared=False),\n",
            "        terminated: Tensor(shape=torch.Size([3, 1]), device=cpu, dtype=torch.bool, is_shared=False),\n",
            "        truncated: Tensor(shape=torch.Size([3, 1]), device=cpu, dtype=torch.bool, is_shared=False)},\n",
            "    batch_size=torch.Size([3]),\n",
            "    device=cpu,\n",
            "    is_shared=False)\n",
            "TensorDict(\n",
            "    fields={\n",
            "        action: Tensor(shape=torch.Size([3]), device=cpu, dtype=torch.int64, is_shared=False),\n",
            "        done: Tensor(shape=torch.Size([3, 1]), device=cpu, dtype=torch.bool, is_shared=False),\n",
            "        logits: Tensor(shape=torch.Size([3, 3]), device=cpu, dtype=torch.float32, is_shared=False),\n",
            "        observation: Tensor(shape=torch.Size([3, 2]), device=cpu, dtype=torch.float32, is_shared=False),\n",
            "        sample_log_prob: Tensor(shape=torch.Size([3]), device=cpu, dtype=torch.float32, is_shared=False),\n",
            "        step_count: Tensor(shape=torch.Size([3, 1]), device=cpu, dtype=torch.int64, is_shared=False),\n",
            "        terminated: Tensor(shape=torch.Size([3, 1]), device=cpu, dtype=torch.bool, is_shared=False),\n",
            "        truncated: Tensor(shape=torch.Size([3, 1]), device=cpu, dtype=torch.bool, is_shared=False)},\n",
            "    batch_size=torch.Size([3]),\n",
            "    device=cpu,\n",
            "    is_shared=False)\n",
            "tensor([0, 2, 2])\n"
          ]
        },
        {
          "output_type": "execute_result",
          "data": {
            "text/plain": [
              "TensorDict(\n",
              "    fields={\n",
              "        action: Tensor(shape=torch.Size([200]), device=cpu, dtype=torch.int64, is_shared=False),\n",
              "        done: Tensor(shape=torch.Size([200, 1]), device=cpu, dtype=torch.bool, is_shared=False),\n",
              "        logits: Tensor(shape=torch.Size([200, 3]), device=cpu, dtype=torch.float32, is_shared=False),\n",
              "        next: TensorDict(\n",
              "            fields={\n",
              "                done: Tensor(shape=torch.Size([200, 1]), device=cpu, dtype=torch.bool, is_shared=False),\n",
              "                observation: Tensor(shape=torch.Size([200, 2]), device=cpu, dtype=torch.float32, is_shared=False),\n",
              "                pixels: Tensor(shape=torch.Size([200, 400, 600, 3]), device=cpu, dtype=torch.uint8, is_shared=False),\n",
              "                reward: Tensor(shape=torch.Size([200, 1]), device=cpu, dtype=torch.float32, is_shared=False),\n",
              "                step_count: Tensor(shape=torch.Size([200, 1]), device=cpu, dtype=torch.int64, is_shared=False),\n",
              "                terminated: Tensor(shape=torch.Size([200, 1]), device=cpu, dtype=torch.bool, is_shared=False),\n",
              "                truncated: Tensor(shape=torch.Size([200, 1]), device=cpu, dtype=torch.bool, is_shared=False)},\n",
              "            batch_size=torch.Size([200]),\n",
              "            device=cpu,\n",
              "            is_shared=False),\n",
              "        observation: Tensor(shape=torch.Size([200, 2]), device=cpu, dtype=torch.float32, is_shared=False),\n",
              "        pixels: Tensor(shape=torch.Size([200, 400, 600, 3]), device=cpu, dtype=torch.uint8, is_shared=False),\n",
              "        sample_log_prob: Tensor(shape=torch.Size([200]), device=cpu, dtype=torch.float32, is_shared=False),\n",
              "        step_count: Tensor(shape=torch.Size([200, 1]), device=cpu, dtype=torch.int64, is_shared=False),\n",
              "        terminated: Tensor(shape=torch.Size([200, 1]), device=cpu, dtype=torch.bool, is_shared=False),\n",
              "        truncated: Tensor(shape=torch.Size([200, 1]), device=cpu, dtype=torch.bool, is_shared=False)},\n",
              "    batch_size=torch.Size([200]),\n",
              "    device=cpu,\n",
              "    is_shared=False)"
            ]
          },
          "metadata": {},
          "execution_count": 10
        }
      ]
    },
    {
      "cell_type": "markdown",
      "source": [
        "### Visualization"
      ],
      "metadata": {
        "id": "5Ju3lu1hZj16"
      }
    },
    {
      "cell_type": "code",
      "source": [
        "from IPython.display import Video\n",
        "\n",
        "# explicitly grab the first worker's env and dump its transform\n",
        "# after your rollout / training loop\n",
        "rec_env.transform.dump()\n",
        "Video(str(VIDEO_DIR / \"only_video_0.mp4\"), embed=True)"
      ],
      "metadata": {
        "colab": {
          "base_uri": "https://localhost:8080/",
          "height": 421
        },
        "id": "hyIddof0eW5x",
        "outputId": "fdaeece9-d54e-4321-e873-b7a8436247cf"
      },
      "execution_count": 11,
      "outputs": [
        {
          "output_type": "execute_result",
          "data": {
            "text/plain": [
              "<IPython.core.display.Video object>"
            ],
            "text/html": [
              "<video controls  >\n",
              " <source src=\"data:video/mp4;base64,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\" type=\"video/mp4\">\n",
              " Your browser does not support the video tag.\n",
              " </video>"
            ]
          },
          "metadata": {},
          "execution_count": 11
        }
      ]
    },
    {
      "cell_type": "markdown",
      "source": [
        "### Creating a SyncDataCollector\n",
        "\n",
        "TorchRL provides a set of `DataCollector` classes. These manage three actions: Reset an environment, compute an action given the latest observation, execute a step in an environment. It can repeat the last two steps until the environment signals a stop or done state.\n",
        "\n",
        "This is a very powerful tool that will allow you to control how many frames to collect at each iteration, when to reset the environment and which device to run our neural networks on.\n",
        "\n",
        "Think of it as a very powerful DataLoader class for RL.\n",
        "\n",
        "\n",
        "### What is stop state vs done state?\n",
        "Stop state: We reached the max number of frames that the environment can handle/or we defined in an episode, so it truncates.\n",
        "\n",
        "Done state: We reached the goal for that episode! (yay)"
      ],
      "metadata": {
        "id": "21xeQyutZmEW"
      }
    },
    {
      "cell_type": "code",
      "source": [
        " collector = SyncDataCollector(\n",
        "    composed_env,\n",
        "    policy_module,\n",
        "    frames_per_batch=frames_per_batch,\n",
        "    total_frames=total_frames,\n",
        "    split_trajs=False,\n",
        "    reset_at_each_iter=False,\n",
        "    device=DEVICE,\n",
        ")"
      ],
      "metadata": {
        "id": "c_iu9Fpla2Wi"
      },
      "execution_count": 12,
      "outputs": []
    },
    {
      "cell_type": "markdown",
      "source": [
        "### Replay buffers\n",
        "\n",
        "Replay buffers are used to store data after being collected by the DataCollector, as the model will repeatedly consume this data for a certain number of epoch before moving to the next epoch.\n",
        "\n",
        "\n",
        "#### Optional Reading:\n",
        "\n",
        "While replay buffers are generally seen more in offline algorithms, where the model takes in a few batches of data before updating, rather than an online algorithm that updates the model live as data comes in, it is **perfectly fine** to use a replay buffer for PPO, even though it is an online policy.\n",
        "\n",
        "This is because if you look at the hyperparameters of our ReplayBuffer, it can only take in at most frames_per_batch, and cannot sample duplicae frames. Meaning the content of the replay buffer is flushed after each batch.|  "
      ],
      "metadata": {
        "id": "bmV7ARBoak5I"
      }
    },
    {
      "cell_type": "code",
      "source": [
        "replay_buffer = ReplayBuffer(\n",
        "    storage=LazyTensorStorage(max_size=frames_per_batch),\n",
        "    sampler=SamplerWithoutReplacement(),\n",
        ")"
      ],
      "metadata": {
        "id": "3hGXc3tLa4nC"
      },
      "execution_count": 13,
      "outputs": []
    },
    {
      "cell_type": "markdown",
      "source": [
        "### Loss\n",
        "\n",
        "Over here, we initialised the PPO Loss using TorchRL's convenient ClipPPOLoss, saving us a ton of implementation time.\n",
        "\n",
        "PPO requires an advantage estimation to be computed in order to work. An advantage is a value that reflects an expectation over the return value, while dealing with the bias vs variance tradeoff.\n",
        "\n",
        "**What is the bias/variance tradeoff here?**\n",
        "\n",
        "The bias refers to using the actual returns or rewards from the environment to calculate the loss -> These can be very random as it depends on the model's current performance, leading to inconsistent training.\n",
        "\n",
        "The variance refers to using our critic model to estimate the variance -> Not a good idea as the critic might not give a good estimate of our actual reward, and can be very off.\n",
        "\n",
        "Advantage tries to balance between both bias and variance in order to make training more stable and efficient for PPO.\n",
        "\n",
        "\n",
        "We can easily build this advantage module by giving it our value network (our critic network)."
      ],
      "metadata": {
        "id": "75z8ZS7-bjvh"
      }
    },
    {
      "cell_type": "code",
      "source": [
        "advantage_module = GAE(\n",
        "    gamma=gamma,\n",
        "    lmbda=lmbda,\n",
        "    value_network=value_module,\n",
        ")\n",
        "\n",
        "\n",
        "loss_module = ClipPPOLoss(\n",
        "    actor_network=policy_module,\n",
        "    critic_network=value_module,\n",
        "    clip_epsilon=clip_epsilon,\n",
        "    entropy_bonus=bool(entropy_eps),\n",
        "    entropy_coef=entropy_eps,\n",
        "    # these keys match by default but we set this for completeness\n",
        "    critic_coef=1.0,\n",
        "    loss_critic_type=\"smooth_l1\",\n",
        ")\n",
        "\n",
        "optim = torch.optim.Adam(loss_module.parameters(), lr)\n",
        "scheduler = torch.optim.lr_scheduler.CosineAnnealingLR(\n",
        "    optim, total_frames // frames_per_batch, 0.0\n",
        ")\n"
      ],
      "metadata": {
        "id": "79NhkZdga5hQ"
      },
      "execution_count": 14,
      "outputs": []
    },
    {
      "cell_type": "markdown",
      "source": [
        "### Do a dummy forward pass\n",
        "\n",
        "Remember that we used LazyLinear? Well before we can actually start training, we need to do a dummy forward pass here to make sure all the input shapes are initialised, lest we get errors (and we will get an error if this is not done)"
      ],
      "metadata": {
        "id": "egDBCs_CeG98"
      }
    },
    {
      "cell_type": "code",
      "source": [
        "dummy_td = composed_env.reset()\n",
        "dummy_observation = dummy_td[\"observation\"].unsqueeze(0)\n",
        "# Run a dummy forward pass through the actor network\n",
        "# If your actor network expects the observation in a dict form, wrap it accordingly.\n",
        "_ = actor_net(dummy_observation)\n",
        "\n",
        "# Similarly, run a dummy forward pass through the value (critic) network\n",
        "_ = value_net(dummy_observation)\n"
      ],
      "metadata": {
        "id": "I--3h7cVKTO7"
      },
      "execution_count": 15,
      "outputs": []
    },
    {
      "cell_type": "markdown",
      "source": [
        "### Training Loop:\n",
        "\n",
        "To train our PPO model on MountainCar-v0, we will go through a few steps:\n",
        "\n",
        "1. Collect the data by looping through our DataCollector\n",
        "1. Since we are using ParallelEnv, we must account for the total number of frames across ALL environments\n",
        "1. For num_epochs:\n",
        "  1. Run the advantage for the current data\n",
        "  1. Add the data to our replay buffer and train our policy and critic on the data for num_epochs\n",
        "  1. Update gradient_steps based on sub batch defined at the start\n",
        "  1. Calculate losses and backprop\n",
        "1. Log data\n",
        "1. Store recording as a file\n",
        "1. Repeat til done"
      ],
      "metadata": {
        "id": "psP7Glh9dj8y"
      }
    },
    {
      "cell_type": "code",
      "source": [
        "logs = defaultdict(list)\n",
        "pbar = tqdm(total=total_frames) # Set up the progress bar\n",
        "eval_str = \"\"\n",
        "\n",
        "# We iterate over the collector until it reaches the total number of frames it was\n",
        "# designed to collect:\n",
        "for i, tensordict_data in enumerate(collector):\n",
        "    # tensordict_data now has shape [time, num_envs, ...] with parallel environments\n",
        "\n",
        "    # Calculate total frames in this batch (accounting for parallel environments)\n",
        "    current_batch_size = tensordict_data.shape[0] * tensordict_data.shape[1]\n",
        "\n",
        "    for _ in range(num_epochs):\n",
        "        advantage_module(tensordict_data)\n",
        "\n",
        "        # Reshape to flatten time and env dimensions together\n",
        "        # From [time, num_envs, ...] to [time*num_envs, ...]\n",
        "        data_view = tensordict_data.view(-1)\n",
        "        replay_buffer.extend(data_view.cpu())\n",
        "\n",
        "        # Adjust number of gradient steps based on total experiences collected\n",
        "        num_grad_steps = current_batch_size // sub_batch_size\n",
        "        for _ in range(num_grad_steps):\n",
        "            subdata = replay_buffer.sample(sub_batch_size).to(DEVICE)\n",
        "            loss_vals = loss_module(subdata.to(DEVICE))\n",
        "            loss_value = (\n",
        "                loss_vals[\"loss_objective\"]\n",
        "                + loss_vals[\"loss_critic\"]\n",
        "                + loss_vals[\"loss_entropy\"]\n",
        "            )\n",
        "\n",
        "            loss_value.backward()\n",
        "            torch.nn.utils.clip_grad_norm_(loss_module.parameters(), max_grad_norm)\n",
        "            optim.step()\n",
        "            optim.zero_grad()\n",
        "\n",
        "    # Compute metrics across all environments\n",
        "    # Average reward across both time and environments\n",
        "    logs[\"reward\"].append(tensordict_data[\"next\", \"reward\"].mean().item())\n",
        "\n",
        "    # Update progress bar with total frames processed in this batch\n",
        "    pbar.update(tensordict_data.numel())\n",
        "\n",
        "    cum_reward_str = (\n",
        "        f\"average reward={logs['reward'][-1]: 4.4f} (init={logs['reward'][0]: 4.4f})\"\n",
        "    )\n",
        "\n",
        "    # For step count, take max across all environments\n",
        "    logs[\"step_count\"].append(tensordict_data[\"step_count\"].max().item())\n",
        "    stepcount_str = f\"step count (max): {logs['step_count'][-1]}\"\n",
        "\n",
        "    logs[\"lr\"].append(optim.param_groups[0][\"lr\"])\n",
        "    lr_str = f\"lr policy: {logs['lr'][-1]: 4.4f}\"\n",
        "\n",
        "    if i % 10 == 0:\n",
        "        with set_exploration_type(ExplorationType.DETERMINISTIC), torch.no_grad():\n",
        "            # Execute rollout with all parallel environments\n",
        "            eval_rollout = rec_env.rollout(1000, policy_module)\n",
        "            rec_env.transform.dump()\n",
        "\n",
        "            # Average reward across environments\n",
        "            logs[\"eval reward\"].append(eval_rollout[\"next\", \"reward\"].mean().item())\n",
        "\n",
        "            # Sum across time, then average across environments\n",
        "            # This handles multiple environment trajectories properly\n",
        "            sum_rewards = eval_rollout[\"next\", \"reward\"].sum(dim=0).mean().item()\n",
        "            logs[\"eval reward (sum)\"].append(sum_rewards)\n",
        "\n",
        "            logs[\"eval step_count\"].append(eval_rollout[\"step_count\"].max().item())\n",
        "            eval_str = (\n",
        "                f\"eval cumulative reward: {logs['eval reward (sum)'][-1]: 4.4f} \"\n",
        "                f\"(init: {logs['eval reward (sum)'][0]: 4.4f}), \"\n",
        "                f\"eval step-count: {logs['eval step_count'][-1]}\"\n",
        "            )\n",
        "            del eval_rollout\n",
        "\n",
        "    pbar.set_description(\", \".join([eval_str, cum_reward_str, stepcount_str, lr_str]))\n",
        "    scheduler.step()"
      ],
      "metadata": {
        "colab": {
          "base_uri": "https://localhost:8080/",
          "height": 49,
          "referenced_widgets": [
            "de262c66cdca4d81a0e31636f37d3ea7",
            "c8777a9a1277423c83e13f7429f81b9b",
            "ea48c99904d74e3a8a550ffb87b3bee7",
            "93b9e42ec1f140148a4f0d6647b4df61",
            "903b4b3e4aa244ca95bba752bf5b3afa",
            "46bb14e9eb8045a29e0a4a44b68de9aa",
            "973d125c7ea34acbbf6d7fb7f69baa31",
            "bcf44fbcbfea48248030715c74e4381a",
            "35ba5113b8394535b824a96c101cfedc",
            "8af448a073ee4e7bb02d82d44dbed570",
            "9db171b7182b4c88a8a3bc518e002ef6"
          ]
        },
        "id": "XCGT4ynSa7Kg",
        "outputId": "69298c33-2f0a-420a-8c23-654a2e6ee219"
      },
      "execution_count": 16,
      "outputs": [
        {
          "output_type": "display_data",
          "data": {
            "text/plain": [
              "  0%|          | 0/250000 [00:00<?, ?it/s]"
            ],
            "application/vnd.jupyter.widget-view+json": {
              "version_major": 2,
              "version_minor": 0,
              "model_id": "de262c66cdca4d81a0e31636f37d3ea7"
            }
          },
          "metadata": {}
        }
      ]
    },
    {
      "cell_type": "markdown",
      "source": [
        "### Visualise Results"
      ],
      "metadata": {
        "id": "85XRveVLfb07"
      }
    },
    {
      "cell_type": "code",
      "source": [
        "plt.figure(figsize=(10, 10))\n",
        "plt.subplot(2, 2, 1)\n",
        "plt.plot(logs[\"reward\"])\n",
        "plt.title(\"training rewards (average)\")\n",
        "plt.subplot(2, 2, 2)\n",
        "plt.plot(logs[\"step_count\"])\n",
        "plt.title(\"Max step count (training)\")\n",
        "plt.subplot(2, 2, 3)\n",
        "plt.plot(logs[\"eval reward (sum)\"])\n",
        "plt.title(\"Return (test)\")\n",
        "plt.subplot(2, 2, 4)\n",
        "plt.plot(logs[\"eval step_count\"])\n",
        "plt.title(\"Max step count (test)\")\n",
        "plt.show()"
      ],
      "metadata": {
        "id": "sB6eKWioa9QO",
        "colab": {
          "base_uri": "https://localhost:8080/",
          "height": 853
        },
        "outputId": "042b7a0a-7d62-495e-fb15-3f01df67a819"
      },
      "execution_count": 17,
      "outputs": [
        {
          "output_type": "display_data",
          "data": {
            "text/plain": [
              "<Figure size 1000x1000 with 4 Axes>"
            ],
            "image/png": "[encoded data removed]"
          },
          "metadata": {}
        }
      ]
    },
    {
      "cell_type": "code",
      "source": [
        "#Visualise with video\n",
        "print(sorted(os.listdir(VIDEO_DIR))[-1])\n",
        "Video(VIDEO_DIR/sorted(os.listdir(VIDEO_DIR))[-1], embed = True)"
      ],
      "metadata": {
        "id": "r0pS_l44OBzz",
        "colab": {
          "base_uri": "https://localhost:8080/",
          "height": 438
        },
        "outputId": "1b66189b-4591-4213-9881-8c6c982b8cf3"
      },
      "execution_count": 18,
      "outputs": [
        {
          "output_type": "stream",
          "name": "stdout",
          "text": [
            "only_video_9.mp4\n"
          ]
        },
        {
          "output_type": "execute_result",
          "data": {
            "text/plain": [
              "<IPython.core.display.Video object>"
            ],
            "text/html": [
              "<video controls  >\n",
              " <source src=\"data:video/mp4;base64,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\" type=\"video/mp4\">\n",
              " Your browser does not support the video tag.\n",
              " </video>"
            ]
          },
          "metadata": {},
          "execution_count": 18
        }
      ]
    }
  ]
}