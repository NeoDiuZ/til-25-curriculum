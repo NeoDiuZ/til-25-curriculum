{
 "cells": [
  {
   "cell_type": "markdown",
   "metadata": {},
   "source": [
    "# Advanced Inference Optimization Workshop\n",
    "This notebook contains code snippets for profiling, quantization, pruning, TVM compilation, serving, and performance benchmarking."
   ]
  },
  {
   "cell_type": "code",
   "execution_count": null,
   "metadata": {},
   "outputs": [],
   "source": [
    "%%bash\n",
    "pip install torch torchvision psutil onnx onnxruntime matplotlib numpy"
   ]
  },
  {
   "cell_type": "code",
   "execution_count": null,
   "metadata": {},
   "outputs": [],
   "source": [
    "import torch\n",
    "import torchvision.models as models\n",
    "from torch.profiler import profile, record_function, ProfilerActivity\n",
    "\n",
    "device = torch.device('cuda' if torch.cuda.is_available() else 'cpu')\n",
    "model = models.resnet50(pretrained=True).to(device)\n",
    "model.eval()\n",
    "\n",
    "input = torch.randn(32, 3, 224, 224).to(device)  # Batch size of 32\n",
    "\n",
    "with profile(activities=[\n",
    "        ProfilerActivity.CPU, ProfilerActivity.CUDA],\n",
    "        record_shapes=True,\n",
    "        profile_memory=True,\n",
    "        with_stack=True) as prof:\n",
    "    with record_function(\"model_inference\"):\n",
    "        with torch.no_grad():\n",
    "            model(input)\n",
    "\n",
    "print(prof.key_averages().table(sort_by=\"cuda_time_total\", row_limit=10))"
   ]
  },
  {
   "cell_type": "code",
   "execution_count": null,
   "metadata": {},
   "outputs": [],
   "source": [
    "import torch\n",
    "import torchvision.models as models\n",
    "import time\n",
    "import torch._C\n",
    "import psutil\n",
    "import platform\n",
    "\n",
    "model = models.resnet50(pretrained=True).eval().to(\"cpu\")\n",
    "dummy_input = torch.randn(1, 3, 224, 224)\n",
    "\n",
    "# TorchScript compilation\n",
    "scripted_model = torch.jit.trace(model, dummy_input)\n",
    "scripted_model = torch.jit.optimize_for_inference(scripted_model)\n",
    "\n",
    "# Set intra-op threads and profile\n",
    "torch.set_num_threads(4)\n",
    "N = 100\n",
    "latencies = []\n",
    "with torch.no_grad():\n",
    "    for _ in range(N):\n",
    "        start = time.time()\n",
    "        scripted_model(dummy_input)\n",
    "        latencies.append((time.time() - start) * 1000)\n",
    "script_mt_time = sum(latencies) / N\n",
    "\n",
    "print(f\"TorchScript optimized latency (4 threads): {script_mt_time:.2f} ms\")\n",
    "print(f\"Min: {min(latencies):.2f} ms | Max: {max(latencies):.2f} ms | Std Dev: {torch.std(torch.tensor(latencies)):.2f} ms\")\n",
    "print(f\"System: {platform.processor()}, Threads: {psutil.cpu_count(logical=True)}\")"
   ]
  },
  {
   "cell_type": "code",
   "execution_count": null,
   "metadata": {},
   "outputs": [],
   "source": [
    "import onnx\n",
    "import onnxruntime as ort\n",
    "import torch.onnx\n",
    "\n",
    "onnx_path = \"resnet50.onnx\"\n",
    "torch.onnx.export(model, dummy_input, onnx_path, input_names=['input'], output_names=['output'],\n",
    "                  dynamic_axes={'input': {0: 'batch_size'}})\n",
    "\n",
    "session = ort.InferenceSession(onnx_path, providers=[\"CPUExecutionProvider\"])\n",
    "ort_input = {session.get_inputs()[0].name: dummy_input.numpy()}\n",
    "\n",
    "ort_latencies = []\n",
    "for _ in range(N):\n",
    "    start = time.time()\n",
    "    session.run(None, ort_input)\n",
    "    ort_latencies.append((time.time() - start) * 1000)\n",
    "onnx_time = sum(ort_latencies) / N\n",
    "print(f\"ONNX Runtime latency (CPU EP): {onnx_time:.2f} ms\")\n",
    "print(f\"Min: {min(ort_latencies):.2f} ms | Max: {max(ort_latencies):.2f} ms | Std Dev: {torch.std(torch.tensor(ort_latencies)):.2f} ms\")"
   ]
  },
  {
   "cell_type": "code",
   "execution_count": null,
   "metadata": {},
   "outputs": [],
   "source": [
    "import matplotlib.pyplot as plt\n",
    "import numpy as np\n",
    "\n",
    "methods = [\"TorchScript (4T)\", \"ONNX Runtime\"]\n",
    "means = [script_mt_time, onnx_time]\n",
    "errors = [\n",
    "    torch.std(torch.tensor(latencies)),\n",
    "    torch.std(torch.tensor(ort_latencies))\n",
    "]\n",
    "\n",
    "plt.figure(figsize=(10, 6))\n",
    "plt.bar(methods, means, yerr=errors, capsize=5, color=['blue', 'green'])\n",
    "plt.ylabel(\"Latency (ms)\")\n",
    "plt.title(\"Advanced Inference Optimizations on ResNet (with Variability)\")\n",
    "plt.grid(True)\n",
    "plt.tight_layout()\n",
    "plt.show()\n",
    "\n",
    "# Print Comparative Summary\n",
    "for name, time_val, err in zip(methods, means, errors):\n",
    "    print(f\"{name}: {time_val:.2f} ± {err:.2f} ms\")\n"
   ]
  }
 ],
 "metadata": {
  "kernelspec": {
   "display_name": "Python 3",
   "language": "python",
   "name": "python3"
  },
  "language_info": {
   "codemirror_mode": {
    "name": "ipython",
    "version": 3
   },
   "file_extension": ".py",
   "mimetype": "text/x-python",
   "name": "python",
   "nbconvert_exporter": "python",
   "pygments_lexer": "ipython3",
   "version": "3.9.20"
  }
 },
 "nbformat": 4,
 "nbformat_minor": 2
}
