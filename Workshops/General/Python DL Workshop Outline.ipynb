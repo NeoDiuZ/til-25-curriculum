{
 "cells": [
  {
   "cell_type": "markdown",
   "id": "1a30f5fb",
   "metadata": {},
   "source": [
    "# Introduction to Python in Deep Learning (with PyTorch)\n",
    "Welcome to this hands-on session. In this notebook, we'll build a simple image classifier using PyTorch."
   ]
  },
  {
   "cell_type": "markdown",
   "id": "eb57d900",
   "metadata": {},
   "source": [
    "# Install Required Libraries"
   ]
  },
  {
   "cell_type": "code",
   "execution_count": null,
   "id": "f6db9895",
   "metadata": {},
   "outputs": [],
   "source": [
    "%%bash\n",
    "pip install torch torchvision matplotlib"
   ]
  },
  {
   "cell_type": "markdown",
   "id": "9840ff0f",
   "metadata": {},
   "source": [
    "## Import Required Libraries\n",
    "We begin by importing all necessary packages."
   ]
  },
  {
   "cell_type": "code",
   "execution_count": 9,
   "id": "fb1d21de",
   "metadata": {},
   "outputs": [],
   "source": [
    "import torch\n",
    "import torch.nn as nn\n",
    "import torch.optim as optim\n",
    "from torch.utils.data import DataLoader\n",
    "from torchvision.datasets import MNIST\n",
    "from torchvision import transforms\n",
    "import matplotlib.pyplot as plt"
   ]
  },
  {
   "cell_type": "markdown",
   "id": "87204d82",
   "metadata": {},
   "source": [
    "## Load the Dataset\n",
    "We use the MNIST dataset and convert images to tensors."
   ]
  },
  {
   "cell_type": "code",
   "execution_count": null,
   "id": "2a0e13a3",
   "metadata": {},
   "outputs": [],
   "source": [
    "transform = transforms.ToTensor()\n",
    "dataset = MNIST(root=\"./data\", train=True, download=True, transform=transform)\n",
    "dataloader = DataLoader(dataset, batch_size=32, shuffle=True)"
   ]
  },
  {
   "cell_type": "markdown",
   "id": "18ee88f3",
   "metadata": {},
   "source": [
    "## Explore the Dataset\n",
    "Visualize a few examples from the dataset."
   ]
  },
  {
   "cell_type": "code",
   "execution_count": null,
   "id": "87d7792d",
   "metadata": {},
   "outputs": [],
   "source": [
    "images, labels = next(iter(dataloader))\n",
    "plt.figure(figsize=(8, 4))\n",
    "for i in range(6):\n",
    "    plt.subplot(2, 3, i+1)\n",
    "    plt.imshow(images[i].squeeze(), cmap='gray')\n",
    "    plt.title(f\"Label: {labels[i].item()}\")\n",
    "    plt.axis('off')\n",
    "plt.tight_layout()\n",
    "plt.show()"
   ]
  },
  {
   "cell_type": "markdown",
   "id": "349d24ae",
   "metadata": {},
   "source": [
    "## Define the Neural Network Model\n",
    "We define a simple feedforward neural network."
   ]
  },
  {
   "cell_type": "code",
   "execution_count": 12,
   "id": "bd4e5616",
   "metadata": {},
   "outputs": [],
   "source": [
    "class NeuralNet(nn.Module):\n",
    "    def __init__(self):\n",
    "        super().__init__()\n",
    "        self.flatten = nn.Flatten()\n",
    "        self.fc1 = nn.Linear(28*28, 128)\n",
    "        self.relu = nn.ReLU()\n",
    "        self.fc2 = nn.Linear(128, 10)\n",
    "\n",
    "    def forward(self, x):\n",
    "        x = self.flatten(x)\n",
    "        x = self.relu(self.fc1(x))\n",
    "        return self.fc2(x)\n",
    "\n",
    "model = NeuralNet()"
   ]
  },
  {
   "cell_type": "markdown",
   "id": "7998b9dd",
   "metadata": {},
   "source": [
    "## Define Loss Function and Optimizer"
   ]
  },
  {
   "cell_type": "code",
   "execution_count": 13,
   "id": "2f6ee5ef",
   "metadata": {},
   "outputs": [],
   "source": [
    "loss_fn = nn.CrossEntropyLoss()\n",
    "optimizer = optim.Adam(model.parameters(), lr=1e-3)"
   ]
  },
  {
   "cell_type": "markdown",
   "id": "dd8ca6a4",
   "metadata": {},
   "source": [
    "## Train the Model\n",
    "Training loop for a few epochs."
   ]
  },
  {
   "cell_type": "code",
   "execution_count": null,
   "id": "381c341b",
   "metadata": {},
   "outputs": [],
   "source": [
    "for epoch in range(5):\n",
    "    for X, y in dataloader:\n",
    "        pred = model(X)\n",
    "        loss = loss_fn(pred, y)\n",
    "\n",
    "        optimizer.zero_grad()\n",
    "        loss.backward()\n",
    "        optimizer.step()\n",
    "\n",
    "    print(f\"Epoch {epoch+1}: loss = {loss.item():.4f}\")"
   ]
  },
  {
   "cell_type": "markdown",
   "id": "7bb9c495",
   "metadata": {},
   "source": [
    "## Evaluate Model Accuracy"
   ]
  },
  {
   "cell_type": "code",
   "execution_count": null,
   "id": "79e2e84c",
   "metadata": {},
   "outputs": [],
   "source": [
    "correct = 0\n",
    "total = 0\n",
    "with torch.no_grad():\n",
    "    for X, y in dataloader:\n",
    "        pred = model(X).argmax(1)\n",
    "        correct += (pred == y).sum().item()\n",
    "        total += y.size(0)\n",
    "\n",
    "print(f\"Accuracy: {100 * correct / total:.2f}%\")"
   ]
  },
  {
   "cell_type": "markdown",
   "id": "e97948a9",
   "metadata": {},
   "source": [
    "## Visualize Predictions"
   ]
  },
  {
   "cell_type": "code",
   "execution_count": null,
   "id": "1e042033",
   "metadata": {},
   "outputs": [],
   "source": [
    "images, labels = next(iter(dataloader))\n",
    "preds = model(images).argmax(1)\n",
    "\n",
    "plt.figure(figsize=(8, 4))\n",
    "for i in range(6):\n",
    "    plt.subplot(2, 3, i+1)\n",
    "    plt.imshow(images[i].squeeze(), cmap='gray')\n",
    "    plt.title(f\"Pred: {preds[i].item()}\")\n",
    "    plt.axis('off')\n",
    "plt.tight_layout()\n",
    "plt.show()"
   ]
  }
 ],
 "metadata": {
  "kernelspec": {
   "display_name": "batey",
   "language": "python",
   "name": "python3"
  },
  "language_info": {
   "codemirror_mode": {
    "name": "ipython",
    "version": 3
   },
   "file_extension": ".py",
   "mimetype": "text/x-python",
   "name": "python",
   "nbconvert_exporter": "python",
   "pygments_lexer": "ipython3",
   "version": "3.9.18"
  }
 },
 "nbformat": 4,
 "nbformat_minor": 5
}
