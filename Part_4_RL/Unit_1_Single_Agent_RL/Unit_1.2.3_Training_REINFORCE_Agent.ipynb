{
 "cells": [
  {
   "cell_type": "markdown",
   "metadata": {
    "id": "159bl5Cq3XuT"
   },
   "source": [
    "# End to End Reinforcement Learning (REINFORCE)\n",
    "\n",
    "In this tutorial, you will learn how to train a simple Actor Critic Model using TorchRL with REINFORCE Loss. We will explore different optimizaions for a single agent setup, and train a simple agent to complete MountainCar-v0.  "
   ]
  },
  {
   "cell_type": "code",
   "execution_count": 1,
   "metadata": {
    "colab": {
     "base_uri": "https://localhost:8080/"
    },
    "executionInfo": {
     "elapsed": 111454,
     "status": "ok",
     "timestamp": 1746509838466,
     "user": {
      "displayName": "SOC AI SOCIETY",
      "userId": "14965631179156013617"
     },
     "user_tz": -480
    },
    "id": "_bsAJu2tXLAQ",
    "outputId": "7ce663b5-1547-4cfe-fa69-981a4933512c"
   },
   "outputs": [
    {
     "name": "stdout",
     "output_type": "stream",
     "text": [
      "Collecting torchrl==0.7.0\n",
      "  Downloading torchrl-0.7.0-cp311-cp311-manylinux1_x86_64.whl.metadata (39 kB)\n",
      "Collecting gymnasium==0.29\n",
      "  Downloading gymnasium-0.29.0-py3-none-any.whl.metadata (10 kB)\n",
      "Requirement already satisfied: tqdm in /usr/local/lib/python3.11/dist-packages (4.67.1)\n",
      "Requirement already satisfied: matplotlib in /usr/local/lib/python3.11/dist-packages (3.10.0)\n",
      "Collecting av\n",
      "  Downloading av-14.3.0-cp311-cp311-manylinux_2_17_x86_64.manylinux2014_x86_64.whl.metadata (4.7 kB)\n",
      "Collecting tensordict==0.7.2\n",
      "  Downloading tensordict-0.7.2-cp311-cp311-manylinux1_x86_64.whl.metadata (9.1 kB)\n",
      "Requirement already satisfied: torch>=2.6.0 in /usr/local/lib/python3.11/dist-packages (from torchrl==0.7.0) (2.6.0+cu124)\n",
      "Requirement already satisfied: numpy in /usr/local/lib/python3.11/dist-packages (from torchrl==0.7.0) (2.0.2)\n",
      "Requirement already satisfied: packaging in /usr/local/lib/python3.11/dist-packages (from torchrl==0.7.0) (24.2)\n",
      "Requirement already satisfied: cloudpickle in /usr/local/lib/python3.11/dist-packages (from torchrl==0.7.0) (3.1.1)\n",
      "Requirement already satisfied: typing-extensions>=4.3.0 in /usr/local/lib/python3.11/dist-packages (from gymnasium==0.29) (4.13.2)\n",
      "Requirement already satisfied: farama-notifications>=0.0.1 in /usr/local/lib/python3.11/dist-packages (from gymnasium==0.29) (0.0.4)\n",
      "Requirement already satisfied: orjson in /usr/local/lib/python3.11/dist-packages (from tensordict==0.7.2) (3.10.18)\n",
      "Requirement already satisfied: contourpy>=1.0.1 in /usr/local/lib/python3.11/dist-packages (from matplotlib) (1.3.2)\n",
      "Requirement already satisfied: cycler>=0.10 in /usr/local/lib/python3.11/dist-packages (from matplotlib) (0.12.1)\n",
      "Requirement already satisfied: fonttools>=4.22.0 in /usr/local/lib/python3.11/dist-packages (from matplotlib) (4.57.0)\n",
      "Requirement already satisfied: kiwisolver>=1.3.1 in /usr/local/lib/python3.11/dist-packages (from matplotlib) (1.4.8)\n",
      "Requirement already satisfied: pillow>=8 in /usr/local/lib/python3.11/dist-packages (from matplotlib) (11.2.1)\n",
      "Requirement already satisfied: pyparsing>=2.3.1 in /usr/local/lib/python3.11/dist-packages (from matplotlib) (3.2.3)\n",
      "Requirement already satisfied: python-dateutil>=2.7 in /usr/local/lib/python3.11/dist-packages (from matplotlib) (2.9.0.post0)\n",
      "Requirement already satisfied: six>=1.5 in /usr/local/lib/python3.11/dist-packages (from python-dateutil>=2.7->matplotlib) (1.17.0)\n",
      "Requirement already satisfied: filelock in /usr/local/lib/python3.11/dist-packages (from torch>=2.6.0->torchrl==0.7.0) (3.18.0)\n",
      "Requirement already satisfied: networkx in /usr/local/lib/python3.11/dist-packages (from torch>=2.6.0->torchrl==0.7.0) (3.4.2)\n",
      "Requirement already satisfied: jinja2 in /usr/local/lib/python3.11/dist-packages (from torch>=2.6.0->torchrl==0.7.0) (3.1.6)\n",
      "Requirement already satisfied: fsspec in /usr/local/lib/python3.11/dist-packages (from torch>=2.6.0->torchrl==0.7.0) (2025.3.2)\n",
      "Collecting nvidia-cuda-nvrtc-cu12==12.4.127 (from torch>=2.6.0->torchrl==0.7.0)\n",
      "  Downloading nvidia_cuda_nvrtc_cu12-12.4.127-py3-none-manylinux2014_x86_64.whl.metadata (1.5 kB)\n",
      "Collecting nvidia-cuda-runtime-cu12==12.4.127 (from torch>=2.6.0->torchrl==0.7.0)\n",
      "  Downloading nvidia_cuda_runtime_cu12-12.4.127-py3-none-manylinux2014_x86_64.whl.metadata (1.5 kB)\n",
      "Collecting nvidia-cuda-cupti-cu12==12.4.127 (from torch>=2.6.0->torchrl==0.7.0)\n",
      "  Downloading nvidia_cuda_cupti_cu12-12.4.127-py3-none-manylinux2014_x86_64.whl.metadata (1.6 kB)\n",
      "Collecting nvidia-cudnn-cu12==9.1.0.70 (from torch>=2.6.0->torchrl==0.7.0)\n",
      "  Downloading nvidia_cudnn_cu12-9.1.0.70-py3-none-manylinux2014_x86_64.whl.metadata (1.6 kB)\n",
      "Collecting nvidia-cublas-cu12==12.4.5.8 (from torch>=2.6.0->torchrl==0.7.0)\n",
      "  Downloading nvidia_cublas_cu12-12.4.5.8-py3-none-manylinux2014_x86_64.whl.metadata (1.5 kB)\n",
      "Collecting nvidia-cufft-cu12==11.2.1.3 (from torch>=2.6.0->torchrl==0.7.0)\n",
      "  Downloading nvidia_cufft_cu12-11.2.1.3-py3-none-manylinux2014_x86_64.whl.metadata (1.5 kB)\n",
      "Collecting nvidia-curand-cu12==10.3.5.147 (from torch>=2.6.0->torchrl==0.7.0)\n",
      "  Downloading nvidia_curand_cu12-10.3.5.147-py3-none-manylinux2014_x86_64.whl.metadata (1.5 kB)\n",
      "Collecting nvidia-cusolver-cu12==11.6.1.9 (from torch>=2.6.0->torchrl==0.7.0)\n",
      "  Downloading nvidia_cusolver_cu12-11.6.1.9-py3-none-manylinux2014_x86_64.whl.metadata (1.6 kB)\n",
      "Collecting nvidia-cusparse-cu12==12.3.1.170 (from torch>=2.6.0->torchrl==0.7.0)\n",
      "  Downloading nvidia_cusparse_cu12-12.3.1.170-py3-none-manylinux2014_x86_64.whl.metadata (1.6 kB)\n",
      "Requirement already satisfied: nvidia-cusparselt-cu12==0.6.2 in /usr/local/lib/python3.11/dist-packages (from torch>=2.6.0->torchrl==0.7.0) (0.6.2)\n",
      "Requirement already satisfied: nvidia-nccl-cu12==2.21.5 in /usr/local/lib/python3.11/dist-packages (from torch>=2.6.0->torchrl==0.7.0) (2.21.5)\n",
      "Requirement already satisfied: nvidia-nvtx-cu12==12.4.127 in /usr/local/lib/python3.11/dist-packages (from torch>=2.6.0->torchrl==0.7.0) (12.4.127)\n",
      "Collecting nvidia-nvjitlink-cu12==12.4.127 (from torch>=2.6.0->torchrl==0.7.0)\n",
      "  Downloading nvidia_nvjitlink_cu12-12.4.127-py3-none-manylinux2014_x86_64.whl.metadata (1.5 kB)\n",
      "Requirement already satisfied: triton==3.2.0 in /usr/local/lib/python3.11/dist-packages (from torch>=2.6.0->torchrl==0.7.0) (3.2.0)\n",
      "Requirement already satisfied: sympy==1.13.1 in /usr/local/lib/python3.11/dist-packages (from torch>=2.6.0->torchrl==0.7.0) (1.13.1)\n",
      "Requirement already satisfied: mpmath<1.4,>=1.1.0 in /usr/local/lib/python3.11/dist-packages (from sympy==1.13.1->torch>=2.6.0->torchrl==0.7.0) (1.3.0)\n",
      "Requirement already satisfied: MarkupSafe>=2.0 in /usr/local/lib/python3.11/dist-packages (from jinja2->torch>=2.6.0->torchrl==0.7.0) (3.0.2)\n",
      "Downloading torchrl-0.7.0-cp311-cp311-manylinux1_x86_64.whl (1.1 MB)\n",
      "\u001b[2K   \u001b[90m━━━━━━━━━━━━━━━━━━━━━━━━━━━━━━━━━━━━━━━━\u001b[0m \u001b[32m1.1/1.1 MB\u001b[0m \u001b[31m29.9 MB/s\u001b[0m eta \u001b[36m0:00:00\u001b[0m\n",
      "\u001b[?25hDownloading gymnasium-0.29.0-py3-none-any.whl (953 kB)\n",
      "\u001b[2K   \u001b[90m━━━━━━━━━━━━━━━━━━━━━━━━━━━━━━━━━━━━━━━━\u001b[0m \u001b[32m953.8/953.8 kB\u001b[0m \u001b[31m29.4 MB/s\u001b[0m eta \u001b[36m0:00:00\u001b[0m\n",
      "\u001b[?25hDownloading tensordict-0.7.2-cp311-cp311-manylinux1_x86_64.whl (400 kB)\n",
      "\u001b[2K   \u001b[90m━━━━━━━━━━━━━━━━━━━━━━━━━━━━━━━━━━━━━━━━\u001b[0m \u001b[32m400.7/400.7 kB\u001b[0m \u001b[31m12.5 MB/s\u001b[0m eta \u001b[36m0:00:00\u001b[0m\n",
      "\u001b[?25hDownloading av-14.3.0-cp311-cp311-manylinux_2_17_x86_64.manylinux2014_x86_64.whl (35.2 MB)\n",
      "\u001b[2K   \u001b[90m━━━━━━━━━━━━━━━━━━━━━━━━━━━━━━━━━━━━━━━━\u001b[0m \u001b[32m35.2/35.2 MB\u001b[0m \u001b[31m30.3 MB/s\u001b[0m eta \u001b[36m0:00:00\u001b[0m\n",
      "\u001b[?25hDownloading nvidia_cublas_cu12-12.4.5.8-py3-none-manylinux2014_x86_64.whl (363.4 MB)\n",
      "\u001b[2K   \u001b[90m━━━━━━━━━━━━━━━━━━━━━━━━━━━━━━━━━━━━━━━━\u001b[0m \u001b[32m363.4/363.4 MB\u001b[0m \u001b[31m4.1 MB/s\u001b[0m eta \u001b[36m0:00:00\u001b[0m\n",
      "\u001b[?25hDownloading nvidia_cuda_cupti_cu12-12.4.127-py3-none-manylinux2014_x86_64.whl (13.8 MB)\n",
      "\u001b[2K   \u001b[90m━━━━━━━━━━━━━━━━━━━━━━━━━━━━━━━━━━━━━━━━\u001b[0m \u001b[32m13.8/13.8 MB\u001b[0m \u001b[31m59.6 MB/s\u001b[0m eta \u001b[36m0:00:00\u001b[0m\n",
      "\u001b[?25hDownloading nvidia_cuda_nvrtc_cu12-12.4.127-py3-none-manylinux2014_x86_64.whl (24.6 MB)\n",
      "\u001b[2K   \u001b[90m━━━━━━━━━━━━━━━━━━━━━━━━━━━━━━━━━━━━━━━━\u001b[0m \u001b[32m24.6/24.6 MB\u001b[0m \u001b[31m57.1 MB/s\u001b[0m eta \u001b[36m0:00:00\u001b[0m\n",
      "\u001b[?25hDownloading nvidia_cuda_runtime_cu12-12.4.127-py3-none-manylinux2014_x86_64.whl (883 kB)\n",
      "\u001b[2K   \u001b[90m━━━━━━━━━━━━━━━━━━━━━━━━━━━━━━━━━━━━━━━━\u001b[0m \u001b[32m883.7/883.7 kB\u001b[0m \u001b[31m42.2 MB/s\u001b[0m eta \u001b[36m0:00:00\u001b[0m\n",
      "\u001b[?25hDownloading nvidia_cudnn_cu12-9.1.0.70-py3-none-manylinux2014_x86_64.whl (664.8 MB)\n",
      "\u001b[2K   \u001b[90m━━━━━━━━━━━━━━━━━━━━━━━━━━━━━━━━━━━━━━━━\u001b[0m \u001b[32m664.8/664.8 MB\u001b[0m \u001b[31m1.3 MB/s\u001b[0m eta \u001b[36m0:00:00\u001b[0m\n",
      "\u001b[?25hDownloading nvidia_cufft_cu12-11.2.1.3-py3-none-manylinux2014_x86_64.whl (211.5 MB)\n",
      "\u001b[2K   \u001b[90m━━━━━━━━━━━━━━━━━━━━━━━━━━━━━━━━━━━━━━━━\u001b[0m \u001b[32m211.5/211.5 MB\u001b[0m \u001b[31m4.8 MB/s\u001b[0m eta \u001b[36m0:00:00\u001b[0m\n",
      "\u001b[?25hDownloading nvidia_curand_cu12-10.3.5.147-py3-none-manylinux2014_x86_64.whl (56.3 MB)\n",
      "\u001b[2K   \u001b[90m━━━━━━━━━━━━━━━━━━━━━━━━━━━━━━━━━━━━━━━━\u001b[0m \u001b[32m56.3/56.3 MB\u001b[0m \u001b[31m15.5 MB/s\u001b[0m eta \u001b[36m0:00:00\u001b[0m\n",
      "\u001b[?25hDownloading nvidia_cusolver_cu12-11.6.1.9-py3-none-manylinux2014_x86_64.whl (127.9 MB)\n",
      "\u001b[2K   \u001b[90m━━━━━━━━━━━━━━━━━━━━━━━━━━━━━━━━━━━━━━━━\u001b[0m \u001b[32m127.9/127.9 MB\u001b[0m \u001b[31m7.3 MB/s\u001b[0m eta \u001b[36m0:00:00\u001b[0m\n",
      "\u001b[?25hDownloading nvidia_cusparse_cu12-12.3.1.170-py3-none-manylinux2014_x86_64.whl (207.5 MB)\n",
      "\u001b[2K   \u001b[90m━━━━━━━━━━━━━━━━━━━━━━━━━━━━━━━━━━━━━━━━\u001b[0m \u001b[32m207.5/207.5 MB\u001b[0m \u001b[31m5.9 MB/s\u001b[0m eta \u001b[36m0:00:00\u001b[0m\n",
      "\u001b[?25hDownloading nvidia_nvjitlink_cu12-12.4.127-py3-none-manylinux2014_x86_64.whl (21.1 MB)\n",
      "\u001b[2K   \u001b[90m━━━━━━━━━━━━━━━━━━━━━━━━━━━━━━━━━━━━━━━━\u001b[0m \u001b[32m21.1/21.1 MB\u001b[0m \u001b[31m85.1 MB/s\u001b[0m eta \u001b[36m0:00:00\u001b[0m\n",
      "\u001b[?25hInstalling collected packages: nvidia-nvjitlink-cu12, nvidia-curand-cu12, nvidia-cufft-cu12, nvidia-cuda-runtime-cu12, nvidia-cuda-nvrtc-cu12, nvidia-cuda-cupti-cu12, nvidia-cublas-cu12, gymnasium, av, nvidia-cusparse-cu12, nvidia-cudnn-cu12, nvidia-cusolver-cu12, tensordict, torchrl\n",
      "  Attempting uninstall: nvidia-nvjitlink-cu12\n",
      "    Found existing installation: nvidia-nvjitlink-cu12 12.5.82\n",
      "    Uninstalling nvidia-nvjitlink-cu12-12.5.82:\n",
      "      Successfully uninstalled nvidia-nvjitlink-cu12-12.5.82\n",
      "  Attempting uninstall: nvidia-curand-cu12\n",
      "    Found existing installation: nvidia-curand-cu12 10.3.6.82\n",
      "    Uninstalling nvidia-curand-cu12-10.3.6.82:\n",
      "      Successfully uninstalled nvidia-curand-cu12-10.3.6.82\n",
      "  Attempting uninstall: nvidia-cufft-cu12\n",
      "    Found existing installation: nvidia-cufft-cu12 11.2.3.61\n",
      "    Uninstalling nvidia-cufft-cu12-11.2.3.61:\n",
      "      Successfully uninstalled nvidia-cufft-cu12-11.2.3.61\n",
      "  Attempting uninstall: nvidia-cuda-runtime-cu12\n",
      "    Found existing installation: nvidia-cuda-runtime-cu12 12.5.82\n",
      "    Uninstalling nvidia-cuda-runtime-cu12-12.5.82:\n",
      "      Successfully uninstalled nvidia-cuda-runtime-cu12-12.5.82\n",
      "  Attempting uninstall: nvidia-cuda-nvrtc-cu12\n",
      "    Found existing installation: nvidia-cuda-nvrtc-cu12 12.5.82\n",
      "    Uninstalling nvidia-cuda-nvrtc-cu12-12.5.82:\n",
      "      Successfully uninstalled nvidia-cuda-nvrtc-cu12-12.5.82\n",
      "  Attempting uninstall: nvidia-cuda-cupti-cu12\n",
      "    Found existing installation: nvidia-cuda-cupti-cu12 12.5.82\n",
      "    Uninstalling nvidia-cuda-cupti-cu12-12.5.82:\n",
      "      Successfully uninstalled nvidia-cuda-cupti-cu12-12.5.82\n",
      "  Attempting uninstall: nvidia-cublas-cu12\n",
      "    Found existing installation: nvidia-cublas-cu12 12.5.3.2\n",
      "    Uninstalling nvidia-cublas-cu12-12.5.3.2:\n",
      "      Successfully uninstalled nvidia-cublas-cu12-12.5.3.2\n",
      "  Attempting uninstall: gymnasium\n",
      "    Found existing installation: gymnasium 1.1.1\n",
      "    Uninstalling gymnasium-1.1.1:\n",
      "      Successfully uninstalled gymnasium-1.1.1\n",
      "  Attempting uninstall: nvidia-cusparse-cu12\n",
      "    Found existing installation: nvidia-cusparse-cu12 12.5.1.3\n",
      "    Uninstalling nvidia-cusparse-cu12-12.5.1.3:\n",
      "      Successfully uninstalled nvidia-cusparse-cu12-12.5.1.3\n",
      "  Attempting uninstall: nvidia-cudnn-cu12\n",
      "    Found existing installation: nvidia-cudnn-cu12 9.3.0.75\n",
      "    Uninstalling nvidia-cudnn-cu12-9.3.0.75:\n",
      "      Successfully uninstalled nvidia-cudnn-cu12-9.3.0.75\n",
      "  Attempting uninstall: nvidia-cusolver-cu12\n",
      "    Found existing installation: nvidia-cusolver-cu12 11.6.3.83\n",
      "    Uninstalling nvidia-cusolver-cu12-11.6.3.83:\n",
      "      Successfully uninstalled nvidia-cusolver-cu12-11.6.3.83\n",
      "\u001b[31mERROR: pip's dependency resolver does not currently take into account all the packages that are installed. This behaviour is the source of the following dependency conflicts.\n",
      "dopamine-rl 4.1.2 requires gymnasium>=1.0.0, but you have gymnasium 0.29.0 which is incompatible.\u001b[0m\u001b[31m\n",
      "\u001b[0mSuccessfully installed av-14.3.0 gymnasium-0.29.0 nvidia-cublas-cu12-12.4.5.8 nvidia-cuda-cupti-cu12-12.4.127 nvidia-cuda-nvrtc-cu12-12.4.127 nvidia-cuda-runtime-cu12-12.4.127 nvidia-cudnn-cu12-9.1.0.70 nvidia-cufft-cu12-11.2.1.3 nvidia-curand-cu12-10.3.5.147 nvidia-cusolver-cu12-11.6.1.9 nvidia-cusparse-cu12-12.3.1.170 nvidia-nvjitlink-cu12-12.4.127 tensordict-0.7.2 torchrl-0.7.0\n"
     ]
    }
   ],
   "source": [
    "!pip install torchrl==0.7.0 gymnasium==0.29 tqdm matplotlib av tensordict==0.7.2"
   ]
  },
  {
   "cell_type": "markdown",
   "metadata": {
    "id": "BVUb2oYu4Bxx"
   },
   "source": [
    "### Dependencies and Setup\n",
    "\n",
    "The code below imports all libraries needed for TorchRL to work. TorchRL is more modular compared to other libraries, leading us to need to import many different moving parts in order to train an agent. However, the benefit becomes it is much easier to extend our agent and customise it, as opposed to other frameworks like Stable Baseline 3 and Tianshou\n",
    "\n",
    "\n",
    "NOTE: Google Colab prompts for changes whenever the numpy version is changed, so just restart your session and all should be fixed."
   ]
  },
  {
   "cell_type": "code",
   "execution_count": 2,
   "metadata": {
    "executionInfo": {
     "elapsed": 15262,
     "status": "ok",
     "timestamp": 1746509859930,
     "user": {
      "displayName": "SOC AI SOCIETY",
      "userId": "14965631179156013617"
     },
     "user_tz": -480
    },
    "id": "DJbrKPzfaapD"
   },
   "outputs": [],
   "source": [
    "from pathlib import Path\n",
    "from IPython.display import Video\n",
    "import os\n",
    "\n",
    "# https://gymnasium.farama.org/\n",
    "'''DO NOT ACCIDENTALLY INSTALL OPENAI GYM, IT IS OUTDATED'''\n",
    "import gymnasium as gym\n",
    "from gymnasium.wrappers import RecordVideo\n",
    "\n",
    "# Port environment into TorchRL\n",
    "from torchrl.envs import GymWrapper\n",
    "import warnings\n",
    "warnings.filterwarnings(\"ignore\")\n",
    "from torch import multiprocessing\n",
    "import torch.nn.functional as F\n",
    "\n",
    "\n",
    "from collections import defaultdict\n",
    "\n",
    "import matplotlib.pyplot as plt\n",
    "import torch\n",
    "\n",
    "from tensordict.nn import TensorDictModule\n",
    "from torch import nn\n",
    "from torch.distributions import Categorical\n",
    "\n",
    "from torchrl.collectors import SyncDataCollector\n",
    "from torchrl.data.replay_buffers import ReplayBuffer\n",
    "from torchrl.data.replay_buffers.samplers import SamplerWithoutReplacement\n",
    "from torchrl.data.replay_buffers.storages import LazyTensorStorage\n",
    "from torchrl.envs import (\n",
    "    Compose, DoubleToFloat,\n",
    "    ObservationNorm, StepCounter,\n",
    "    TransformedEnv\n",
    ")\n",
    "from torchrl.envs.transforms import Transform\n",
    "from torchrl.envs import ParallelEnv, EnvCreator, SerialEnv\n",
    "from torchrl.envs.utils import check_env_specs, ExplorationType, set_exploration_type\n",
    "from torchrl.modules import ProbabilisticActor, ValueOperator\n",
    "from torchrl.objectives import ReinforceLoss\n",
    "from tqdm.notebook import tqdm\n",
    "from torchrl.record import VideoRecorder\n",
    "from torchrl.record.loggers import CSVLogger"
   ]
  },
  {
   "cell_type": "markdown",
   "metadata": {
    "id": "CFjkSxQ343qJ"
   },
   "source": [
    "### Creating the environment\n",
    "\n",
    "We choose to create the MountainCar-v0 environment, where the goal is to train an agent to reach the top of the right hill.\n",
    "\n",
    "Unlike in the previous tutorial, we set up our environment slightly differently: We are using a lambda object instead of just feeding TransformedEnv directly.\n",
    "\n",
    "We will explore more on why so in later cells."
   ]
  },
  {
   "cell_type": "code",
   "execution_count": 3,
   "metadata": {
    "executionInfo": {
     "elapsed": 5,
     "status": "ok",
     "timestamp": 1746509859931,
     "user": {
      "displayName": "SOC AI SOCIETY",
      "userId": "14965631179156013617"
     },
     "user_tz": -480
    },
    "id": "yfB-K4fzOl4Q"
   },
   "outputs": [],
   "source": [
    "## Reward Shaping - To ensure we get somewhat better performance (You can tweak this to give better results!)\n",
    "\n",
    "class VelocityPositionReward(Transform):\n",
    "    def __init__(self, velocity_weight=5.0, position_threshold=0.0, side_bonus_weight=2.0, base_reward=0.0):\n",
    "        super().__init__()\n",
    "        self.velocity_weight = velocity_weight\n",
    "        self.side_bonus_weight = side_bonus_weight\n",
    "        self.position_threshold = position_threshold  # Threshold to determine left vs right side\n",
    "        self.base_reward = base_reward\n",
    "        self.max_velocity = None\n",
    "        self.min_velocity = None\n",
    "\n",
    "    def _step(self, tensordict, next_tensordict):\n",
    "        # Extract velocity and position from the next observation\n",
    "        velocity = next_tensordict[\"observation\"][..., 1]\n",
    "        position = next_tensordict[\"observation\"][..., 0]  # Assuming position is at index 0\n",
    "\n",
    "        # Initialize velocity trackers for new episodes if needed\n",
    "        if self.max_velocity is None or self.min_velocity is None or next_tensordict.get(\"done\", False).any():\n",
    "            self.max_velocity = velocity.clone()\n",
    "            self.min_velocity = velocity.clone()\n",
    "\n",
    "        # Update max_velocity when a new maximum is reached\n",
    "        self.max_velocity = torch.maximum(velocity, self.max_velocity)\n",
    "\n",
    "        # Update min_velocity when a new minimum is reached\n",
    "        self.min_velocity = torch.minimum(velocity, self.min_velocity)\n",
    "\n",
    "        # Start with base reward + velocity component (as in original)\n",
    "        reward = self.base_reward + self.velocity_weight * self.max_velocity\n",
    "\n",
    "        # Apply position-based velocity bonus\n",
    "        left_side = position < self.position_threshold\n",
    "        right_side = position >= self.position_threshold\n",
    "\n",
    "        # For left side positions, bonus for negative velocity (going left)\n",
    "        left_bonus = torch.where(\n",
    "            left_side & (velocity < 0),\n",
    "            self.side_bonus_weight * torch.abs(self.min_velocity),\n",
    "            torch.zeros_like(velocity)\n",
    "        )\n",
    "\n",
    "        # For right side positions, bonus for positive velocity (going right)\n",
    "        right_bonus = torch.where(\n",
    "            right_side & (velocity > 0),\n",
    "            self.side_bonus_weight * self.max_velocity,\n",
    "            torch.zeros_like(velocity)\n",
    "        )\n",
    "\n",
    "        # Add the bonuses to the reward\n",
    "        reward = reward + left_bonus + right_bonus\n",
    "\n",
    "        # Update the reward in the next_tensordict\n",
    "        next_tensordict.set(\"reward\", reward.unsqueeze(-1))\n",
    "\n",
    "        return next_tensordict\n",
    "\n",
    "    def _reset(self, tensordict, tensordict_reset):\n",
    "        # Reset the velocity tracking\n",
    "        self.max_velocity = None\n",
    "        self.min_velocity = None\n",
    "        return tensordict_reset"
   ]
  },
  {
   "cell_type": "code",
   "execution_count": 4,
   "metadata": {
    "colab": {
     "base_uri": "https://localhost:8080/"
    },
    "executionInfo": {
     "elapsed": 862,
     "status": "ok",
     "timestamp": 1746509860791,
     "user": {
      "displayName": "SOC AI SOCIETY",
      "userId": "14965631179156013617"
     },
     "user_tz": -480
    },
    "id": "plSb7Cq4accg",
    "outputId": "8dac39ea-b4d7-4c06-979b-7b31092f897a"
   },
   "outputs": [
    {
     "name": "stderr",
     "output_type": "stream",
     "text": [
      "/usr/local/lib/python3.11/dist-packages/pygame/pkgdata.py:25: DeprecationWarning: pkg_resources is deprecated as an API. See https://setuptools.pypa.io/en/latest/pkg_resources.html\n",
      "  from pkg_resources import resource_stream, resource_exists\n",
      "/usr/local/lib/python3.11/dist-packages/pkg_resources/__init__.py:3154: DeprecationWarning: Deprecated call to `pkg_resources.declare_namespace('google')`.\n",
      "Implementing implicit namespace packages (as specified in PEP 420) is preferred to `pkg_resources.declare_namespace`. See https://setuptools.pypa.io/en/latest/references/keywords.html#keyword-namespace-packages\n",
      "  declare_namespace(pkg)\n",
      "/usr/local/lib/python3.11/dist-packages/pkg_resources/__init__.py:3154: DeprecationWarning: Deprecated call to `pkg_resources.declare_namespace('google.cloud')`.\n",
      "Implementing implicit namespace packages (as specified in PEP 420) is preferred to `pkg_resources.declare_namespace`. See https://setuptools.pypa.io/en/latest/references/keywords.html#keyword-namespace-packages\n",
      "  declare_namespace(pkg)\n",
      "/usr/local/lib/python3.11/dist-packages/pkg_resources/__init__.py:3154: DeprecationWarning: Deprecated call to `pkg_resources.declare_namespace('sphinxcontrib')`.\n",
      "Implementing implicit namespace packages (as specified in PEP 420) is preferred to `pkg_resources.declare_namespace`. See https://setuptools.pypa.io/en/latest/references/keywords.html#keyword-namespace-packages\n",
      "  declare_namespace(pkg)\n"
     ]
    }
   ],
   "source": [
    "HOME_DIR = Path(\"/working\")\n",
    "os.makedirs(HOME_DIR, exist_ok = True)\n",
    "RANDOM_SEED = 42\n",
    "DEVICE = 'cpu'\n",
    "OUTPUT_DIR = Path(\"./working\")\n",
    "OUTPUT_DIR.mkdir(exist_ok=True)\n",
    "VIDEO_DIR = OUTPUT_DIR / \"my_exp\" / \"videos\"\n",
    "\n",
    "'''\n",
    "How to make an environment in TorchRL\n",
    "\n",
    "env = gym.make(\"MountainCar-v0\", render_mode = \"rgb_array\")\n",
    "base_env = GymWrapper(env, device = DEVICE, categorical_action_encoding=False) #Change this to false as we use OneHot\n",
    "'''\n",
    "\n",
    "logger = CSVLogger(exp_name=\"my_exp\", log_dir = OUTPUT_DIR, video_format=\"mp4\")\n",
    "\n",
    "# 1) Factory for the recording env (worker 0)\n",
    "def make_nonrecording_env():\n",
    "    base = GymWrapper(\n",
    "        gym.make(\"MountainCar-v0\"),\n",
    "        device=\"cpu\",\n",
    "        categorical_action_encoding=True,\n",
    "    )\n",
    "    return TransformedEnv(\n",
    "        base,\n",
    "        Compose(\n",
    "            DoubleToFloat(),\n",
    "            VelocityPositionReward(),\n",
    "            StepCounter(),\n",
    "\n",
    "        ),\n",
    "    )\n",
    "\n",
    "\n",
    "#Build a **serial** env with the recorder\n",
    "base = GymWrapper(\n",
    "    gym.make(\"MountainCar-v0\", render_mode=\"rgb_array\"),\n",
    "    device=DEVICE,\n",
    "    categorical_action_encoding=True,\n",
    "    from_pixels=True,\n",
    "    pixels_only=False,\n",
    ")\n",
    "rec_env = TransformedEnv(\n",
    "    base,\n",
    "    Compose(\n",
    "        DoubleToFloat(),\n",
    "        VideoRecorder(logger, tag=\"only_video\", skip=5),\n",
    "        VelocityPositionReward(),\n",
    "        StepCounter(),\n",
    "\n",
    "    ),\n",
    ")\n"
   ]
  },
  {
   "cell_type": "markdown",
   "metadata": {
    "id": "SwwcYbXT5mtA"
   },
   "source": [
    "### Hyperparameters\n",
    "\n",
    "These values change the complexity of the neurual network and other variables when training, such as batch size, total number of frames per episode,  replay buffer batches etc.\n"
   ]
  },
  {
   "cell_type": "code",
   "execution_count": 5,
   "metadata": {
    "executionInfo": {
     "elapsed": 14,
     "status": "ok",
     "timestamp": 1746509860807,
     "user": {
      "displayName": "SOC AI SOCIETY",
      "userId": "14965631179156013617"
     },
     "user_tz": -480
    },
    "id": "CYmiDbWMawd_"
   },
   "outputs": [],
   "source": [
    "\n",
    "# Optimization Hyperparameters\n",
    "\n",
    "num_cells = 64  # number of cells in each hidden layer\n",
    "lr = 3e-4\n",
    "max_grad_norm = 1.0\n",
    "\n",
    "# Collection Hyperparams\n",
    "\n",
    "# How many frames to simulate the environment with the current policy\n",
    "# before you start optimizing your policy\n",
    "frames_per_batch = 2000\n",
    "\n",
    "# After this number of frames, stop training.\n",
    "# For serious training endeavors, do at least 1M steps.\n",
    "total_frames = 250_000\n",
    "\n",
    "# Algorithm Hyperparameters\n",
    "\n",
    "# In Supervised Learning, this is your Batch Size.\n",
    "# Here we are referring to a small slice of the frames we collected above.\n",
    "# This is passed wholesale into the policy for backpropagation.\n",
    "sub_batch_size = 64\n",
    "\n",
    "# How many times you want to loop through the collected frames\n",
    "# during your optimization phase.\n",
    "num_epochs = 10\n"
   ]
  },
  {
   "cell_type": "markdown",
   "metadata": {
    "id": "ztfN2OU270gZ"
   },
   "source": [
    "### Parallel Environments\n",
    "\n",
    "If you had run the previous code for testing in Unit 1.1, the code would have taken a very long time to train a baseline PPO model. That is because simulating the agent on the environment is very compute intensive. By trading off memory usage, we can create multiple environments in parallel to speed up training.\n",
    "\n",
    "To do this, we call ParallelEnv, and feed it a lambda that creates a new environment. We also provide the number of environments we would like to provide in parallel.\n",
    "\n",
    "Due to constraints in the Colab instance provided, we have reduced the number of parallel environments to 2. Do feel free to try and optimise the code to allow for larger parallel runs if you are interested!"
   ]
  },
  {
   "cell_type": "code",
   "execution_count": 6,
   "metadata": {
    "colab": {
     "base_uri": "https://localhost:8080/"
    },
    "executionInfo": {
     "elapsed": 12734,
     "status": "ok",
     "timestamp": 1746509873545,
     "user": {
      "displayName": "SOC AI SOCIETY",
      "userId": "14965631179156013617"
     },
     "user_tz": -480
    },
    "id": "WGuiNu2yayIi",
    "outputId": "002cbd33-fe28-4768-bd76-c83d13a5bbba"
   },
   "outputs": [
    {
     "name": "stderr",
     "output_type": "stream",
     "text": [
      "2025-05-06 05:37:53,329 [torchrl][INFO] check_env_specs succeeded!\n",
      "2025-05-06 05:37:53,384 [torchrl][INFO] check_env_specs succeeded!\n"
     ]
    }
   ],
   "source": [
    "\n",
    "composed_env = ParallelEnv(3, make_nonrecording_env) #Parallel env makes it faster\n",
    "\n",
    "''' print(\"observation_spec:\", composed_env.observation_spec)\n",
    "print(\"reward_spec:\", composed_env.reward_spec)\n",
    "print(\"input_spec:\", composed_env.input_spec)\n",
    "print(\"action_spec (as defined by input_spec):\", composed_env.action_spec)\n",
    "\n",
    "assert composed_env.batch_size == (2,) '''\n",
    "\n",
    "check_env_specs(composed_env)\n",
    "check_env_specs(rec_env)"
   ]
  },
  {
   "cell_type": "markdown",
   "metadata": {
    "id": "GGFyXyE28-ea"
   },
   "source": [
    "### Actor Critic:\n",
    "Over here we set up a simple Actor Critic pipeline to learn how to solve MountainCar-v0.\n",
    "\n",
    "The actor critic pipeline can be summed into\n",
    "1. Define the policy for the actor\n",
    "1. Create the actor with ProbabilisticActor\n",
    "1. Create the critic module.\n",
    "\n",
    "\n",
    "\n",
    "We use LazyLinear, which is an abstraction on nn.Linear, but it ignores the input shape, allowing us to focus on the architecture rather than also focus on ensuring the tensor shapes fit at every step of the implementation.\n",
    "\n",
    "This will culminate in us eventually having to solve the shape errors if any during the training loop/rollouts with the policy, but saves us a lot of time and mental energy from dealing with the other moving parts in RL.\n",
    "\n"
   ]
  },
  {
   "cell_type": "code",
   "execution_count": 7,
   "metadata": {
    "colab": {
     "base_uri": "https://localhost:8080/"
    },
    "executionInfo": {
     "elapsed": 52,
     "status": "ok",
     "timestamp": 1746509873598,
     "user": {
      "displayName": "SOC AI SOCIETY",
      "userId": "14965631179156013617"
     },
     "user_tz": -480
    },
    "id": "qS9k-0TIa1OJ",
    "outputId": "642c03b1-4976-45b6-a8b1-91517b9efea9"
   },
   "outputs": [
    {
     "name": "stdout",
     "output_type": "stream",
     "text": [
      "3\n"
     ]
    },
    {
     "name": "stderr",
     "output_type": "stream",
     "text": [
      "/usr/local/lib/python3.11/dist-packages/tensordict/nn/probabilistic.py:460: DeprecationWarning: You are querying the log-probability key of a SafeProbabilisticModule where the composite_lp_aggregate has not been set and the log-prob key has not been chosen. Currently, it is assumed that composite_lp_aggregate() will return True: the log-probs will be aggregated in a sample_log_prob entry. From v0.9, this behaviour will be changed and individual log-probs will be written in `('path', 'to', 'leaf', '<sample_name>_log_prob')`. To prepare for this change, call `set_composite_lp_aggregate(mode: bool).set()` at the beginning of your script (or set the COMPOSITE_LP_AGGREGATE env variable). Use mode=True to keep the current behaviour, and mode=False to use per-leaf log-probs.\n",
      "  warnings.warn(\n"
     ]
    }
   ],
   "source": [
    "# Simple Actor-Critic Setup\n",
    "\n",
    "# You can skip these if you want, these are the underlying neural networks.\n",
    "# Since we are using a Discrete policy, we need to use a Softmax to transform the outputs into action probabilities.\n",
    "actor_net = nn.Sequential(\n",
    "    nn.LazyLinear(num_cells, device=DEVICE),\n",
    "    nn.Tanh(),\n",
    "    nn.LazyLinear(num_cells, device=DEVICE),\n",
    "    nn.Tanh(),\n",
    "    nn.LazyLinear(num_cells, device=DEVICE),\n",
    "    nn.Tanh(),\n",
    "    nn.LazyLinear(composed_env.action_spec.shape[-1], device = DEVICE),\n",
    "    nn.Softmax()\n",
    ")\n",
    "\n",
    "print(composed_env.action_spec.shape[-1])\n",
    "\n",
    "value_net = nn.Sequential(\n",
    "    nn.LazyLinear(num_cells, device=DEVICE),\n",
    "    nn.Tanh(),\n",
    "    nn.LazyLinear(num_cells, device=DEVICE),\n",
    "    nn.Tanh(),\n",
    "    nn.LazyLinear(num_cells, device=DEVICE),\n",
    "    nn.Tanh(),\n",
    "    nn.LazyLinear(1, device=DEVICE),\n",
    ")\n",
    "\n",
    "\n",
    "# Actor Module\n",
    "policy_module = ProbabilisticActor(\n",
    "    module = TensorDictModule(\n",
    "        actor_net, in_keys=[\"observation\"], out_keys=[\"logits\"]\n",
    "    ),\n",
    "    spec=composed_env.action_spec,\n",
    "    in_keys=[\"logits\"],\n",
    "    distribution_class=Categorical,\n",
    "    return_log_prob=True,\n",
    "    # we'll need the log-prob for the numerator of the importance weights\n",
    ")\n",
    "\n",
    "# Critic Module\n",
    "value_module = ValueOperator(\n",
    "    module=value_net,\n",
    "    in_keys=[\"observation\"],\n",
    ")"
   ]
  },
  {
   "cell_type": "code",
   "execution_count": 8,
   "metadata": {
    "colab": {
     "base_uri": "https://localhost:8080/"
    },
    "executionInfo": {
     "elapsed": 2404,
     "status": "ok",
     "timestamp": 1746509876001,
     "user": {
      "displayName": "SOC AI SOCIETY",
      "userId": "14965631179156013617"
     },
     "user_tz": -480
    },
    "id": "AXlXfafYa0Hr",
    "outputId": "9120b1ce-22ca-4212-c66b-4f71bf5f3eb6"
   },
   "outputs": [
    {
     "name": "stdout",
     "output_type": "stream",
     "text": [
      "TensorDict(\n",
      "    fields={\n",
      "        done: Tensor(shape=torch.Size([3, 1]), device=cpu, dtype=torch.bool, is_shared=False),\n",
      "        observation: Tensor(shape=torch.Size([3, 2]), device=cpu, dtype=torch.float32, is_shared=False),\n",
      "        step_count: Tensor(shape=torch.Size([3, 1]), device=cpu, dtype=torch.int64, is_shared=False),\n",
      "        terminated: Tensor(shape=torch.Size([3, 1]), device=cpu, dtype=torch.bool, is_shared=False),\n",
      "        truncated: Tensor(shape=torch.Size([3, 1]), device=cpu, dtype=torch.bool, is_shared=False)},\n",
      "    batch_size=torch.Size([3]),\n",
      "    device=cpu,\n",
      "    is_shared=False)\n",
      "TensorDict(\n",
      "    fields={\n",
      "        action: Tensor(shape=torch.Size([3]), device=cpu, dtype=torch.int64, is_shared=False),\n",
      "        done: Tensor(shape=torch.Size([3, 1]), device=cpu, dtype=torch.bool, is_shared=False),\n",
      "        logits: Tensor(shape=torch.Size([3, 3]), device=cpu, dtype=torch.float32, is_shared=False),\n",
      "        observation: Tensor(shape=torch.Size([3, 2]), device=cpu, dtype=torch.float32, is_shared=False),\n",
      "        sample_log_prob: Tensor(shape=torch.Size([3]), device=cpu, dtype=torch.float32, is_shared=False),\n",
      "        step_count: Tensor(shape=torch.Size([3, 1]), device=cpu, dtype=torch.int64, is_shared=False),\n",
      "        terminated: Tensor(shape=torch.Size([3, 1]), device=cpu, dtype=torch.bool, is_shared=False),\n",
      "        truncated: Tensor(shape=torch.Size([3, 1]), device=cpu, dtype=torch.bool, is_shared=False)},\n",
      "    batch_size=torch.Size([3]),\n",
      "    device=cpu,\n",
      "    is_shared=False)\n",
      "tensor([1, 1, 2])\n"
     ]
    },
    {
     "data": {
      "text/plain": [
       "TensorDict(\n",
       "    fields={\n",
       "        action: Tensor(shape=torch.Size([200]), device=cpu, dtype=torch.int64, is_shared=False),\n",
       "        done: Tensor(shape=torch.Size([200, 1]), device=cpu, dtype=torch.bool, is_shared=False),\n",
       "        logits: Tensor(shape=torch.Size([200, 3]), device=cpu, dtype=torch.float32, is_shared=False),\n",
       "        next: TensorDict(\n",
       "            fields={\n",
       "                done: Tensor(shape=torch.Size([200, 1]), device=cpu, dtype=torch.bool, is_shared=False),\n",
       "                observation: Tensor(shape=torch.Size([200, 2]), device=cpu, dtype=torch.float32, is_shared=False),\n",
       "                pixels: Tensor(shape=torch.Size([200, 400, 600, 3]), device=cpu, dtype=torch.uint8, is_shared=False),\n",
       "                reward: Tensor(shape=torch.Size([200, 1]), device=cpu, dtype=torch.float32, is_shared=False),\n",
       "                step_count: Tensor(shape=torch.Size([200, 1]), device=cpu, dtype=torch.int64, is_shared=False),\n",
       "                terminated: Tensor(shape=torch.Size([200, 1]), device=cpu, dtype=torch.bool, is_shared=False),\n",
       "                truncated: Tensor(shape=torch.Size([200, 1]), device=cpu, dtype=torch.bool, is_shared=False)},\n",
       "            batch_size=torch.Size([200]),\n",
       "            device=cpu,\n",
       "            is_shared=False),\n",
       "        observation: Tensor(shape=torch.Size([200, 2]), device=cpu, dtype=torch.float32, is_shared=False),\n",
       "        pixels: Tensor(shape=torch.Size([200, 400, 600, 3]), device=cpu, dtype=torch.uint8, is_shared=False),\n",
       "        sample_log_prob: Tensor(shape=torch.Size([200]), device=cpu, dtype=torch.float32, is_shared=False),\n",
       "        step_count: Tensor(shape=torch.Size([200, 1]), device=cpu, dtype=torch.int64, is_shared=False),\n",
       "        terminated: Tensor(shape=torch.Size([200, 1]), device=cpu, dtype=torch.bool, is_shared=False),\n",
       "        truncated: Tensor(shape=torch.Size([200, 1]), device=cpu, dtype=torch.bool, is_shared=False)},\n",
       "    batch_size=torch.Size([200]),\n",
       "    device=cpu,\n",
       "    is_shared=False)"
      ]
     },
     "execution_count": 8,
     "metadata": {},
     "output_type": "execute_result"
    }
   ],
   "source": [
    "# Here's some code that shows how you can shape-check your TensorDicts.\n",
    "\n",
    "# Source TensorDict\n",
    "td = composed_env.reset()\n",
    "print(td)\n",
    "\n",
    "# You should notice, at least for this problem, that we have 3 new keys: `action`, `logits`, `sample_log_prob`\n",
    "# By doing so, TorchRL allows you to examine each step of your rollout pipeline.\n",
    "# Shape Check: done.\n",
    "print(policy_module(td))\n",
    "\n",
    "# Compare and contrast to a random action generated by the environment's specs.\n",
    "print(composed_env.rand_step()['action'])\n",
    "\n",
    "# Do a final rollout to make sure the collection process works end-to-end.\n",
    "composed_env.rollout(3, policy_module)\n",
    "\n",
    "#Roll out on the recording env to record videos\n",
    "rec_env.rollout(30000, policy_module)"
   ]
  },
  {
   "cell_type": "markdown",
   "metadata": {
    "id": "5Ju3lu1hZj16"
   },
   "source": [
    "### Visualization"
   ]
  },
  {
   "cell_type": "code",
   "execution_count": 9,
   "metadata": {
    "colab": {
     "base_uri": "https://localhost:8080/",
     "height": 421
    },
    "executionInfo": {
     "elapsed": 1941,
     "status": "ok",
     "timestamp": 1746509877937,
     "user": {
      "displayName": "SOC AI SOCIETY",
      "userId": "14965631179156013617"
     },
     "user_tz": -480
    },
    "id": "hyIddof0eW5x",
    "outputId": "e0383649-105e-41ef-af63-ef7ecbd00dfe"
   },
   "outputs": [
    {
     "data": {
      "text/html": [
       "<video controls  >\n",
       " <source src=\"data:video/mp4;base64,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\" type=\"video/mp4\">\n",
       " Your browser does not support the video tag.\n",
       " </video>"
      ],
      "text/plain": [
       "<IPython.core.display.Video object>"
      ]
     },
     "execution_count": 9,
     "metadata": {},
     "output_type": "execute_result"
    }
   ],
   "source": [
    "from IPython.display import Video\n",
    "\n",
    "# explicitly grab the first worker's env and dump its transform\n",
    "# after your rollout / training loop\n",
    "rec_env.transform.dump()\n",
    "Video(str(VIDEO_DIR / \"only_video_0.mp4\"), embed=True)"
   ]
  },
  {
   "cell_type": "markdown",
   "metadata": {
    "id": "21xeQyutZmEW"
   },
   "source": [
    "### Creating a SyncDataCollector\n",
    "\n",
    "TorchRL provides a set of `DataCollector` classes. These manage three actions: Reset an environment, compute an action given the latest observation, execute a step in an environment. It can repeat the last two steps until the environment signals a stop or done state.\n",
    "\n",
    "This is a very powerful tool that will allow you to control how many frames to collect at each iteration, when to reset the environment and which device to run our neural networks on.\n",
    "\n",
    "Think of it as a very powerful DataLoader class for RL.\n",
    "\n",
    "\n",
    "### What is stop state vs done state?\n",
    "Stop state: We reached the max number of frames that the environment can handle/or we defined in an episode, so it truncates.\n",
    "\n",
    "Done state: We reached the goal for that episode! (yay)"
   ]
  },
  {
   "cell_type": "code",
   "execution_count": 10,
   "metadata": {
    "executionInfo": {
     "elapsed": 8,
     "status": "ok",
     "timestamp": 1746509877947,
     "user": {
      "displayName": "SOC AI SOCIETY",
      "userId": "14965631179156013617"
     },
     "user_tz": -480
    },
    "id": "c_iu9Fpla2Wi"
   },
   "outputs": [],
   "source": [
    " collector = SyncDataCollector(\n",
    "    composed_env,\n",
    "    policy_module,\n",
    "    frames_per_batch=frames_per_batch,\n",
    "    total_frames=total_frames,\n",
    "    split_trajs=False,\n",
    "    reset_at_each_iter=False,\n",
    "    device=DEVICE,\n",
    ")"
   ]
  },
  {
   "cell_type": "markdown",
   "metadata": {
    "id": "bmV7ARBoak5I"
   },
   "source": [
    "### Replay buffers\n",
    "\n",
    "Replay buffers are used to store data after being collected by the DataCollector, as the model will repeatedly consume this data for a certain number of epoch before moving to the next epoch.\n"
   ]
  },
  {
   "cell_type": "code",
   "execution_count": 11,
   "metadata": {
    "executionInfo": {
     "elapsed": 12,
     "status": "ok",
     "timestamp": 1746509877960,
     "user": {
      "displayName": "SOC AI SOCIETY",
      "userId": "14965631179156013617"
     },
     "user_tz": -480
    },
    "id": "3hGXc3tLa4nC"
   },
   "outputs": [],
   "source": [
    "replay_buffer = ReplayBuffer(\n",
    "    storage=LazyTensorStorage(max_size=frames_per_batch),\n",
    "    sampler=SamplerWithoutReplacement(),\n",
    ")"
   ]
  },
  {
   "cell_type": "markdown",
   "metadata": {
    "id": "75z8ZS7-bjvh"
   },
   "source": [
    "### Loss\n",
    "\n",
    "Over here, we initialised the REINFORCE LOSS using the actor and critic loss, and removed advantage.\n",
    "\n",
    "Observe that by using TorchRL, most of our code has stayed intact, and only our loss has changed. That is the beauty of TorchRL, as we get to keep the structure of our code and just change small parts of the original code in order to experiment."
   ]
  },
  {
   "cell_type": "code",
   "execution_count": 12,
   "metadata": {
    "executionInfo": {
     "elapsed": 80,
     "status": "ok",
     "timestamp": 1746509878042,
     "user": {
      "displayName": "SOC AI SOCIETY",
      "userId": "14965631179156013617"
     },
     "user_tz": -480
    },
    "id": "79NhkZdga5hQ"
   },
   "outputs": [],
   "source": [
    "\n",
    "loss_module = ReinforceLoss(\n",
    "    actor_network = policy_module,\n",
    "    critic_network = value_module,\n",
    ")\n",
    "\n",
    "optim = torch.optim.Adam(loss_module.parameters(), lr)\n",
    "scheduler = torch.optim.lr_scheduler.CosineAnnealingLR(\n",
    "    optim, total_frames // frames_per_batch, 0.0\n",
    ")\n"
   ]
  },
  {
   "cell_type": "markdown",
   "metadata": {
    "id": "egDBCs_CeG98"
   },
   "source": [
    "### Do a dummy forward pass\n",
    "\n",
    "Remember that we used LazyLinear? Well before we can actually start training, we need to do a dummy forward pass here to make sure all the input shapes are initialised, lest we get errors (and we will get an error if this is not done)"
   ]
  },
  {
   "cell_type": "code",
   "execution_count": 13,
   "metadata": {
    "executionInfo": {
     "elapsed": 3,
     "status": "ok",
     "timestamp": 1746509878047,
     "user": {
      "displayName": "SOC AI SOCIETY",
      "userId": "14965631179156013617"
     },
     "user_tz": -480
    },
    "id": "I--3h7cVKTO7"
   },
   "outputs": [],
   "source": [
    "dummy_td = composed_env.reset()\n",
    "dummy_observation = dummy_td[\"observation\"].unsqueeze(0)\n",
    "# Run a dummy forward pass through the actor network\n",
    "# If your actor network expects the observation in a dict form, wrap it accordingly.\n",
    "_ = actor_net(dummy_observation)\n",
    "\n",
    "# Similarly, run a dummy forward pass through the value (critic) network\n",
    "_ = value_net(dummy_observation)\n"
   ]
  },
  {
   "cell_type": "markdown",
   "metadata": {
    "id": "psP7Glh9dj8y"
   },
   "source": [
    "### Training Loop:\n",
    "\n",
    "To train our REINFORCE model on MountainCar-v0, we will go through a few steps:\n",
    "\n",
    "1. Collect the data by looping through our DataCollector\n",
    "1. Since we are using ParallelEnv, we must account for the total number of frames across ALL environments\n",
    "1. For num_epochs:\n",
    "  1. Add the data to our replay buffer and train our policy and critic on the data for num_epochs\n",
    "  1. Update gradient_steps based on sub batch defined at the start\n",
    "  1. Calculate losses and backprop\n",
    "1. Log data\n",
    "1. Store recording as a file\n",
    "1. Repeat til done"
   ]
  },
  {
   "cell_type": "code",
   "execution_count": 14,
   "metadata": {
    "colab": {
     "base_uri": "https://localhost:8080/",
     "height": 49,
     "referenced_widgets": [
      "beac8d0bf1094c4895304366cc854474",
      "493388eef0ed4d0eab9857b9a688da1f",
      "56c09fe63f72400f9b4a1c5d87832697",
      "5a0aaab0e91644d3846bbc3f0b47340f",
      "47378621f311404bb9b66055598b42a0",
      "367685dbbf904e49ad288f4aa4256b06",
      "a4e2455af024430e982065a36c02d42d",
      "84496ab0ae5442929c2191d2e4488de0",
      "36120cdfaadd42e2a2c67a563382db51",
      "6619179bb62c4f7e805beddb0fe9814e",
      "1fe720f9f9974f28b782892033b546cf"
     ]
    },
    "executionInfo": {
     "elapsed": 933165,
     "status": "ok",
     "timestamp": 1746510811227,
     "user": {
      "displayName": "SOC AI SOCIETY",
      "userId": "14965631179156013617"
     },
     "user_tz": -480
    },
    "id": "XCGT4ynSa7Kg",
    "outputId": "289f5169-3abe-469c-80d9-8d2ca61f060e"
   },
   "outputs": [
    {
     "data": {
      "application/vnd.jupyter.widget-view+json": {
       "model_id": "beac8d0bf1094c4895304366cc854474",
       "version_major": 2,
       "version_minor": 0
      },
      "text/plain": [
       "  0%|          | 0/250000 [00:00<?, ?it/s]"
      ]
     },
     "metadata": {},
     "output_type": "display_data"
    }
   ],
   "source": [
    "logs = defaultdict(list)\n",
    "pbar = tqdm(total=total_frames) # Set up the progress bar\n",
    "eval_str = \"\"\n",
    "\n",
    "# We iterate over the collector until it reaches the total number of frames it was\n",
    "# designed to collect:\n",
    "for i, tensordict_data in enumerate(collector):\n",
    "    # tensordict_data now has shape [time, num_envs, ...] with parallel environments\n",
    "\n",
    "    # Calculate total frames in this batch (accounting for parallel environments)\n",
    "    current_batch_size = tensordict_data.shape[0] * tensordict_data.shape[1]\n",
    "\n",
    "    for _ in range(num_epochs):\n",
    "\n",
    "        # Reshape to flatten time and env dimensions together\n",
    "        # From [time, num_envs, ...] to [time*num_envs, ...]\n",
    "        data_view = tensordict_data.view(-1)\n",
    "        replay_buffer.extend(data_view.cpu())\n",
    "\n",
    "        # Adjust number of gradient steps based on total experiences collected\n",
    "        num_grad_steps = current_batch_size // sub_batch_size\n",
    "        for _ in range(num_grad_steps):\n",
    "            subdata = replay_buffer.sample(sub_batch_size).to(DEVICE)\n",
    "            loss_vals = loss_module(subdata.to(DEVICE))\n",
    "            loss_value = (\n",
    "                loss_vals[\"loss_actor\"]\n",
    "                + loss_vals[\"loss_value\"]\n",
    "            )\n",
    "\n",
    "            loss_value.backward()\n",
    "            torch.nn.utils.clip_grad_norm_(loss_module.parameters(), max_grad_norm)\n",
    "            optim.step()\n",
    "            optim.zero_grad()\n",
    "\n",
    "    # Compute metrics across all environments\n",
    "    # Average reward across both time and environments\n",
    "    logs[\"reward\"].append(tensordict_data[\"next\", \"reward\"].mean().item())\n",
    "\n",
    "    # Update progress bar with total frames processed in this batch\n",
    "    pbar.update(tensordict_data.numel())\n",
    "\n",
    "    cum_reward_str = (\n",
    "        f\"average reward={logs['reward'][-1]: 4.4f} (init={logs['reward'][0]: 4.4f})\"\n",
    "    )\n",
    "\n",
    "    # For step count, take max across all environments\n",
    "    logs[\"step_count\"].append(tensordict_data[\"step_count\"].max().item())\n",
    "    stepcount_str = f\"step count (max): {logs['step_count'][-1]}\"\n",
    "\n",
    "    logs[\"lr\"].append(optim.param_groups[0][\"lr\"])\n",
    "    lr_str = f\"lr policy: {logs['lr'][-1]: 4.4f}\"\n",
    "\n",
    "    if i % 10 == 0:\n",
    "        with set_exploration_type(ExplorationType.DETERMINISTIC), torch.no_grad():\n",
    "            # Execute rollout with all parallel environments\n",
    "            eval_rollout = rec_env.rollout(1000, policy_module)\n",
    "            rec_env.transform.dump()\n",
    "\n",
    "            # Average reward across environments\n",
    "            logs[\"eval reward\"].append(eval_rollout[\"next\", \"reward\"].mean().item())\n",
    "\n",
    "            # Sum across time, then average across environments\n",
    "            # This handles multiple environment trajectories properly\n",
    "            sum_rewards = eval_rollout[\"next\", \"reward\"].sum(dim=0).mean().item()\n",
    "            logs[\"eval reward (sum)\"].append(sum_rewards)\n",
    "\n",
    "            logs[\"eval step_count\"].append(eval_rollout[\"step_count\"].max().item())\n",
    "            eval_str = (\n",
    "                f\"eval cumulative reward: {logs['eval reward (sum)'][-1]: 4.4f} \"\n",
    "                f\"(init: {logs['eval reward (sum)'][0]: 4.4f}), \"\n",
    "                f\"eval step-count: {logs['eval step_count'][-1]}\"\n",
    "            )\n",
    "            del eval_rollout\n",
    "\n",
    "    pbar.set_description(\", \".join([eval_str, cum_reward_str, stepcount_str, lr_str]))\n",
    "    scheduler.step()"
   ]
  },
  {
   "cell_type": "markdown",
   "metadata": {
    "id": "85XRveVLfb07"
   },
   "source": [
    "### Visualise Results"
   ]
  },
  {
   "cell_type": "code",
   "execution_count": 15,
   "metadata": {
    "colab": {
     "base_uri": "https://localhost:8080/",
     "height": 853
    },
    "executionInfo": {
     "elapsed": 913,
     "status": "ok",
     "timestamp": 1746510812143,
     "user": {
      "displayName": "SOC AI SOCIETY",
      "userId": "14965631179156013617"
     },
     "user_tz": -480
    },
    "id": "sB6eKWioa9QO",
    "outputId": "89cd3a93-2567-4839-fc6b-f4e827db45bc"
   },
   "outputs": [
    {
     "data": {
      "image/png": "[encoded data removed]",
      "text/plain": [
       "<Figure size 1000x1000 with 4 Axes>"
      ]
     },
     "metadata": {},
     "output_type": "display_data"
    }
   ],
   "source": [
    "plt.figure(figsize=(10, 10))\n",
    "plt.subplot(2, 2, 1)\n",
    "plt.plot(logs[\"reward\"])\n",
    "plt.title(\"training rewards (average)\")\n",
    "plt.subplot(2, 2, 2)\n",
    "plt.plot(logs[\"step_count\"])\n",
    "plt.title(\"Max step count (training)\")\n",
    "plt.subplot(2, 2, 3)\n",
    "plt.plot(logs[\"eval reward (sum)\"])\n",
    "plt.title(\"Return (test)\")\n",
    "plt.subplot(2, 2, 4)\n",
    "plt.plot(logs[\"eval step_count\"])\n",
    "plt.title(\"Max step count (test)\")\n",
    "plt.show()"
   ]
  },
  {
   "cell_type": "code",
   "execution_count": 16,
   "metadata": {
    "colab": {
     "base_uri": "https://localhost:8080/",
     "height": 438
    },
    "executionInfo": {
     "elapsed": 62,
     "status": "ok",
     "timestamp": 1746510812207,
     "user": {
      "displayName": "SOC AI SOCIETY",
      "userId": "14965631179156013617"
     },
     "user_tz": -480
    },
    "id": "r0pS_l44OBzz",
    "outputId": "ea40a84f-2d6e-44f0-b2e7-7f26bf7e264d"
   },
   "outputs": [
    {
     "name": "stdout",
     "output_type": "stream",
     "text": [
      "only_video_13.mp4\n"
     ]
    },
    {
     "data": {
      "text/html": [
       "<video controls  >\n",
       " <source src=\"data:video/mp4;base64,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\" type=\"video/mp4\">\n",
       " Your browser does not support the video tag.\n",
       " </video>"
      ],
      "text/plain": [
       "<IPython.core.display.Video object>"
      ]
     },
     "execution_count": 16,
     "metadata": {},
     "output_type": "execute_result"
    }
   ],
   "source": [
    "import re\n",
    "\n",
    "#Visualise with video\n",
    "def natural_sort_key(s):\n",
    "    return [int(text) if text.isdigit() else text.lower()\n",
    "            for text in re.split(r'(\\d+)', s)]\n",
    "\n",
    "\n",
    "print(sorted(os.listdir(VIDEO_DIR), key = natural_sort_key)[-1])\n",
    "Video(VIDEO_DIR/sorted(os.listdir(VIDEO_DIR), key = natural_sort_key)[-1], embed = True)"
   ]
  }
 ],
 "metadata": {
  "colab": {
   "provenance": [
    {
     "file_id": "19s_GSBrhjmNeud2hHaDSXTRSkAc8uasI",
     "timestamp": 1745426113127
    }
   ]
  },
  "kernelspec": {
   "display_name": "Python 3",
   "name": "python3"
  },
  "language_info": {
   "name": "python"
  },
  "widgets": {
   "application/vnd.jupyter.widget-state+json": {
    "1fe720f9f9974f28b782892033b546cf": {
     "model_module": "@jupyter-widgets/controls",
     "model_module_version": "1.5.0",
     "model_name": "DescriptionStyleModel",
     "state": {
      "_model_module": "@jupyter-widgets/controls",
      "_model_module_version": "1.5.0",
      "_model_name": "DescriptionStyleModel",
      "_view_count": null,
      "_view_module": "@jupyter-widgets/base",
      "_view_module_version": "1.2.0",
      "_view_name": "StyleView",
      "description_width": ""
     }
    },
    "36120cdfaadd42e2a2c67a563382db51": {
     "model_module": "@jupyter-widgets/controls",
     "model_module_version": "1.5.0",
     "model_name": "ProgressStyleModel",
     "state": {
      "_model_module": "@jupyter-widgets/controls",
      "_model_module_version": "1.5.0",
      "_model_name": "ProgressStyleModel",
      "_view_count": null,
      "_view_module": "@jupyter-widgets/base",
      "_view_module_version": "1.2.0",
      "_view_name": "StyleView",
      "bar_color": null,
      "description_width": ""
     }
    },
    "367685dbbf904e49ad288f4aa4256b06": {
     "model_module": "@jupyter-widgets/base",
     "model_module_version": "1.2.0",
     "model_name": "LayoutModel",
     "state": {
      "_model_module": "@jupyter-widgets/base",
      "_model_module_version": "1.2.0",
      "_model_name": "LayoutModel",
      "_view_count": null,
      "_view_module": "@jupyter-widgets/base",
      "_view_module_version": "1.2.0",
      "_view_name": "LayoutView",
      "align_content": null,
      "align_items": null,
      "align_self": null,
      "border": null,
      "bottom": null,
      "display": null,
      "flex": null,
      "flex_flow": null,
      "grid_area": null,
      "grid_auto_columns": null,
      "grid_auto_flow": null,
      "grid_auto_rows": null,
      "grid_column": null,
      "grid_gap": null,
      "grid_row": null,
      "grid_template_areas": null,
      "grid_template_columns": null,
      "grid_template_rows": null,
      "height": null,
      "justify_content": null,
      "justify_items": null,
      "left": null,
      "margin": null,
      "max_height": null,
      "max_width": null,
      "min_height": null,
      "min_width": null,
      "object_fit": null,
      "object_position": null,
      "order": null,
      "overflow": null,
      "overflow_x": null,
      "overflow_y": null,
      "padding": null,
      "right": null,
      "top": null,
      "visibility": null,
      "width": null
     }
    },
    "47378621f311404bb9b66055598b42a0": {
     "model_module": "@jupyter-widgets/base",
     "model_module_version": "1.2.0",
     "model_name": "LayoutModel",
     "state": {
      "_model_module": "@jupyter-widgets/base",
      "_model_module_version": "1.2.0",
      "_model_name": "LayoutModel",
      "_view_count": null,
      "_view_module": "@jupyter-widgets/base",
      "_view_module_version": "1.2.0",
      "_view_name": "LayoutView",
      "align_content": null,
      "align_items": null,
      "align_self": null,
      "border": null,
      "bottom": null,
      "display": null,
      "flex": null,
      "flex_flow": null,
      "grid_area": null,
      "grid_auto_columns": null,
      "grid_auto_flow": null,
      "grid_auto_rows": null,
      "grid_column": null,
      "grid_gap": null,
      "grid_row": null,
      "grid_template_areas": null,
      "grid_template_columns": null,
      "grid_template_rows": null,
      "height": null,
      "justify_content": null,
      "justify_items": null,
      "left": null,
      "margin": null,
      "max_height": null,
      "max_width": null,
      "min_height": null,
      "min_width": null,
      "object_fit": null,
      "object_position": null,
      "order": null,
      "overflow": null,
      "overflow_x": null,
      "overflow_y": null,
      "padding": null,
      "right": null,
      "top": null,
      "visibility": null,
      "width": null
     }
    },
    "493388eef0ed4d0eab9857b9a688da1f": {
     "model_module": "@jupyter-widgets/controls",
     "model_module_version": "1.5.0",
     "model_name": "HTMLModel",
     "state": {
      "_dom_classes": [],
      "_model_module": "@jupyter-widgets/controls",
      "_model_module_version": "1.5.0",
      "_model_name": "HTMLModel",
      "_view_count": null,
      "_view_module": "@jupyter-widgets/controls",
      "_view_module_version": "1.5.0",
      "_view_name": "HTMLView",
      "description": "",
      "description_tooltip": null,
      "layout": "IPY_MODEL_367685dbbf904e49ad288f4aa4256b06",
      "placeholder": "​",
      "style": "IPY_MODEL_a4e2455af024430e982065a36c02d42d",
      "value": "eval cumulative reward:  2.6036 (init:  3.6341), eval step-count: 199, average reward= 0.0477 (init= 0.0445), step count (max): 199, lr policy:  0.0000: "
     }
    },
    "56c09fe63f72400f9b4a1c5d87832697": {
     "model_module": "@jupyter-widgets/controls",
     "model_module_version": "1.5.0",
     "model_name": "FloatProgressModel",
     "state": {
      "_dom_classes": [],
      "_model_module": "@jupyter-widgets/controls",
      "_model_module_version": "1.5.0",
      "_model_name": "FloatProgressModel",
      "_view_count": null,
      "_view_module": "@jupyter-widgets/controls",
      "_view_module_version": "1.5.0",
      "_view_name": "ProgressView",
      "bar_style": "",
      "description": "",
      "description_tooltip": null,
      "layout": "IPY_MODEL_84496ab0ae5442929c2191d2e4488de0",
      "max": 250000,
      "min": 0,
      "orientation": "horizontal",
      "style": "IPY_MODEL_36120cdfaadd42e2a2c67a563382db51",
      "value": 250000
     }
    },
    "5a0aaab0e91644d3846bbc3f0b47340f": {
     "model_module": "@jupyter-widgets/controls",
     "model_module_version": "1.5.0",
     "model_name": "HTMLModel",
     "state": {
      "_dom_classes": [],
      "_model_module": "@jupyter-widgets/controls",
      "_model_module_version": "1.5.0",
      "_model_name": "HTMLModel",
      "_view_count": null,
      "_view_module": "@jupyter-widgets/controls",
      "_view_module_version": "1.5.0",
      "_view_name": "HTMLView",
      "description": "",
      "description_tooltip": null,
      "layout": "IPY_MODEL_6619179bb62c4f7e805beddb0fe9814e",
      "placeholder": "​",
      "style": "IPY_MODEL_1fe720f9f9974f28b782892033b546cf",
      "value": " 250125/? [15:33&lt;00:00, 239.92it/s]"
     }
    },
    "6619179bb62c4f7e805beddb0fe9814e": {
     "model_module": "@jupyter-widgets/base",
     "model_module_version": "1.2.0",
     "model_name": "LayoutModel",
     "state": {
      "_model_module": "@jupyter-widgets/base",
      "_model_module_version": "1.2.0",
      "_model_name": "LayoutModel",
      "_view_count": null,
      "_view_module": "@jupyter-widgets/base",
      "_view_module_version": "1.2.0",
      "_view_name": "LayoutView",
      "align_content": null,
      "align_items": null,
      "align_self": null,
      "border": null,
      "bottom": null,
      "display": null,
      "flex": null,
      "flex_flow": null,
      "grid_area": null,
      "grid_auto_columns": null,
      "grid_auto_flow": null,
      "grid_auto_rows": null,
      "grid_column": null,
      "grid_gap": null,
      "grid_row": null,
      "grid_template_areas": null,
      "grid_template_columns": null,
      "grid_template_rows": null,
      "height": null,
      "justify_content": null,
      "justify_items": null,
      "left": null,
      "margin": null,
      "max_height": null,
      "max_width": null,
      "min_height": null,
      "min_width": null,
      "object_fit": null,
      "object_position": null,
      "order": null,
      "overflow": null,
      "overflow_x": null,
      "overflow_y": null,
      "padding": null,
      "right": null,
      "top": null,
      "visibility": null,
      "width": null
     }
    },
    "84496ab0ae5442929c2191d2e4488de0": {
     "model_module": "@jupyter-widgets/base",
     "model_module_version": "1.2.0",
     "model_name": "LayoutModel",
     "state": {
      "_model_module": "@jupyter-widgets/base",
      "_model_module_version": "1.2.0",
      "_model_name": "LayoutModel",
      "_view_count": null,
      "_view_module": "@jupyter-widgets/base",
      "_view_module_version": "1.2.0",
      "_view_name": "LayoutView",
      "align_content": null,
      "align_items": null,
      "align_self": null,
      "border": null,
      "bottom": null,
      "display": null,
      "flex": null,
      "flex_flow": null,
      "grid_area": null,
      "grid_auto_columns": null,
      "grid_auto_flow": null,
      "grid_auto_rows": null,
      "grid_column": null,
      "grid_gap": null,
      "grid_row": null,
      "grid_template_areas": null,
      "grid_template_columns": null,
      "grid_template_rows": null,
      "height": null,
      "justify_content": null,
      "justify_items": null,
      "left": null,
      "margin": null,
      "max_height": null,
      "max_width": null,
      "min_height": null,
      "min_width": null,
      "object_fit": null,
      "object_position": null,
      "order": null,
      "overflow": null,
      "overflow_x": null,
      "overflow_y": null,
      "padding": null,
      "right": null,
      "top": null,
      "visibility": null,
      "width": null
     }
    },
    "a4e2455af024430e982065a36c02d42d": {
     "model_module": "@jupyter-widgets/controls",
     "model_module_version": "1.5.0",
     "model_name": "DescriptionStyleModel",
     "state": {
      "_model_module": "@jupyter-widgets/controls",
      "_model_module_version": "1.5.0",
      "_model_name": "DescriptionStyleModel",
      "_view_count": null,
      "_view_module": "@jupyter-widgets/base",
      "_view_module_version": "1.2.0",
      "_view_name": "StyleView",
      "description_width": ""
     }
    },
    "beac8d0bf1094c4895304366cc854474": {
     "model_module": "@jupyter-widgets/controls",
     "model_module_version": "1.5.0",
     "model_name": "HBoxModel",
     "state": {
      "_dom_classes": [],
      "_model_module": "@jupyter-widgets/controls",
      "_model_module_version": "1.5.0",
      "_model_name": "HBoxModel",
      "_view_count": null,
      "_view_module": "@jupyter-widgets/controls",
      "_view_module_version": "1.5.0",
      "_view_name": "HBoxView",
      "box_style": "",
      "children": [
       "IPY_MODEL_493388eef0ed4d0eab9857b9a688da1f",
       "IPY_MODEL_56c09fe63f72400f9b4a1c5d87832697",
       "IPY_MODEL_5a0aaab0e91644d3846bbc3f0b47340f"
      ],
      "layout": "IPY_MODEL_47378621f311404bb9b66055598b42a0"
     }
    }
   }
  }
 },
 "nbformat": 4,
 "nbformat_minor": 0
}
